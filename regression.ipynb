{
 "cells": [
  {
   "cell_type": "markdown",
   "id": "97be2072",
   "metadata": {},
   "source": [
    "# Соревнование для учащися курса \"Специалист по работе с данными / Data Scientist\". Школа 21 СБЕР / Томский государственный университет"
   ]
  },
  {
   "cell_type": "markdown",
   "id": "ef90d9e7",
   "metadata": {},
   "source": [
    "https://www.kaggle.com/competitions/sber-21-tgu-2022/data"
   ]
  },
  {
   "cell_type": "markdown",
   "id": "70a032bf",
   "metadata": {},
   "source": [
    "Задача - предсказать стоимость аренды квартир в Лондоне. Метрика - MAE."
   ]
  },
  {
   "cell_type": "markdown",
   "id": "585f6127",
   "metadata": {},
   "source": [
    "Предварительный анализ данных см. в ноутбуке EDA.ipynb"
   ]
  },
  {
   "cell_type": "markdown",
   "id": "3e0efcad",
   "metadata": {},
   "source": [
    "# Дополнительный отбор признаков"
   ]
  },
  {
   "cell_type": "code",
   "execution_count": 1,
   "id": "9917c8a9",
   "metadata": {},
   "outputs": [],
   "source": [
    "import pandas as pd\n",
    "import numpy as np\n",
    "from sklearn.pipeline import Pipeline\n",
    "from sklearn.preprocessing import StandardScaler\n",
    "from sklearn.compose import ColumnTransformer\n",
    "from sklearn.preprocessing import OneHotEncoder\n",
    "from sklearn.model_selection import train_test_split\n",
    "from sklearn.model_selection import GridSearchCV\n",
    "from sklearn.metrics import mean_absolute_error\n",
    "import chime"
   ]
  },
  {
   "cell_type": "code",
   "execution_count": 2,
   "id": "a976272f",
   "metadata": {},
   "outputs": [],
   "source": [
    "%load_ext chime"
   ]
  },
  {
   "cell_type": "code",
   "execution_count": 38,
   "id": "a9141dbb",
   "metadata": {},
   "outputs": [],
   "source": [
    "class Preprocess:\n",
    "    def __init__(self, max_categories=6, n=10):\n",
    "        self.n=n\n",
    "        self.max_categories = max_categories\n",
    "        self.uncorrelated_features = ['latitude', 'longitude',\n",
    "                                          'available', 'comments',\n",
    "                                          'canceled', 'notice',\n",
    "                                          'host_response_rate', 'host_since']\n",
    "        self.correlated_features = ['accommodates', 'bathrooms', 'beds','guests_included',\n",
    "                                        'security_deposit','bedrooms','minimum_nights',\n",
    "                                        'extra_people','square_feet','cleaning_fee']\n",
    "\n",
    "    def fit(self, X, y=None):    \n",
    "        # Merge with other files\n",
    "        calendar = pd.read_csv('calendar_availability.csv', index_col='listing_id')\n",
    "        reviews = pd.read_csv('reviews_stat.csv', index_col='listing_id')\n",
    "        df = X.copy().join([calendar, reviews], how='left')\n",
    "        df.drop(columns='host_id', inplace=True)\n",
    "\n",
    "        #Convert the column with the percent sign\n",
    "        df['host_response_rate'] = df['host_response_rate']\\\n",
    "                .str.replace(r'\\D+', '', regex=True)\\\n",
    "                .astype('float')\n",
    "\n",
    "        # Convert datetimes into numbers for further use as a numeric variable\n",
    "        # This will apply to the host_since column\n",
    "        self.date_features = df.select_dtypes(include='datetime').columns.to_list()\n",
    "        df[self.date_features] = df[self.date_features].astype(np.int64)\n",
    "\n",
    "        self.numeric_features = df.select_dtypes(include='number').columns.to_list()\n",
    "        cat_columns = df.select_dtypes(include=['object', 'bool'])\n",
    "        self.cat_features = cat_columns.columns.to_list()\n",
    "\n",
    "       # Identify categorical features with more than n unique values\n",
    "        # and convert each into a binary feature: data provided or not\n",
    "        cat_features_nunique = cat_columns.nunique()\n",
    "        \n",
    "\n",
    "        self.long = cat_columns.columns[cat_features_nunique > self.n]\n",
    "        df[self.long] = df[self.long].isna()\n",
    "        \n",
    "        self.scale_encode = ColumnTransformer(\n",
    "            transformers = [\n",
    "                ('scale', StandardScaler(), self.numeric_features),\n",
    "                ('get_dummies', OneHotEncoder(sparse=False,\n",
    "                                              drop='first', \n",
    "                                              handle_unknown='infrequent_if_exist',\n",
    "                                              min_frequency=2,\n",
    "                                             max_categories=self.max_categories), self.cat_features)\n",
    "            ],\n",
    "            remainder='passthrough',\n",
    "            n_jobs=-1\n",
    "        ).fit(df)\n",
    "        \n",
    "        return self\n",
    "        \n",
    "    def transform(self, X, y=None):\n",
    "        # Merge with other files\n",
    "        calendar = pd.read_csv('calendar_availability.csv', index_col='listing_id')\n",
    "        reviews = pd.read_csv('reviews_stat.csv', index_col='listing_id')\n",
    "        df = X.copy().join([calendar, reviews], how='left')\n",
    "        df.drop(columns='host_id', inplace=True)\n",
    "\n",
    "        #Convert the column with the percent sign\n",
    "        df['host_response_rate'] = df['host_response_rate']\\\n",
    "                .str.replace(r'\\D+', '', regex=True)\\\n",
    "                .astype('float')\n",
    "\n",
    "        # Convert datetimes into numbers for further use as a numeric variable\n",
    "        # This will apply to the host_since column\n",
    "        df[self.date_features] = df[self.date_features].astype(np.int64)\n",
    "\n",
    "        # Identify categorical features with more than n unique values\n",
    "        # and convert each into a binary feature: data provided or not\n",
    "        df[self.long] = df[self.long].isna()\n",
    "        \n",
    "        result = self.scale_encode.transform(df)\n",
    "            \n",
    "        return result"
   ]
  },
  {
   "cell_type": "code",
   "execution_count": 15,
   "id": "4f55292c",
   "metadata": {},
   "outputs": [],
   "source": [
    "train = pd.read_csv('train.csv',\n",
    "                    index_col='id',\n",
    "                    true_values=['t'],\n",
    "                    false_values=['f'],\n",
    "                    na_values='none',\n",
    "                    parse_dates=['host_since'],\n",
    "                   low_memory=False)"
   ]
  },
  {
   "cell_type": "code",
   "execution_count": 5,
   "id": "9d679de4",
   "metadata": {},
   "outputs": [],
   "source": [
    "X = train.drop(columns='price')\n",
    "y = train.price"
   ]
  },
  {
   "cell_type": "code",
   "execution_count": 6,
   "id": "5a3f0be9",
   "metadata": {},
   "outputs": [],
   "source": [
    "X_train, X_val, y_train, y_val = train_test_split(X, y, \n",
    "                                                  test_size=0.2,\n",
    "                                                  random_state=8,\n",
    "                                                 shuffle=True)"
   ]
  },
  {
   "cell_type": "code",
   "execution_count": 7,
   "id": "c0128b4e",
   "metadata": {
    "scrolled": true
   },
   "outputs": [
    {
     "data": {
      "text/plain": [
       "(7254, 41)"
      ]
     },
     "execution_count": 7,
     "metadata": {},
     "output_type": "execute_result"
    }
   ],
   "source": [
    "X_val.shape"
   ]
  },
  {
   "cell_type": "code",
   "execution_count": 39,
   "id": "79539b19",
   "metadata": {
    "scrolled": false
   },
   "outputs": [
    {
     "name": "stdout",
     "output_type": "stream",
     "text": [
      "CPU times: total: 719 ms\n",
      "Wall time: 55.3 s\n"
     ]
    }
   ],
   "source": [
    "%%time\n",
    "%%chime\n",
    "preprocess = Preprocess().fit(X_train)"
   ]
  },
  {
   "cell_type": "code",
   "execution_count": 40,
   "id": "b98e8ce2",
   "metadata": {},
   "outputs": [
    {
     "name": "stdout",
     "output_type": "stream",
     "text": [
      "CPU times: total: 594 ms\n",
      "Wall time: 27.6 s\n"
     ]
    }
   ],
   "source": [
    "%%time\n",
    "%%chime\n",
    "X_train_transf = preprocess.transform(X_train)"
   ]
  },
  {
   "cell_type": "code",
   "execution_count": 41,
   "id": "f21b7bd3",
   "metadata": {
    "scrolled": false
   },
   "outputs": [
    {
     "data": {
      "text/plain": [
       "(29016, 55)"
      ]
     },
     "execution_count": 41,
     "metadata": {},
     "output_type": "execute_result"
    }
   ],
   "source": [
    "X_train_transf.shape"
   ]
  },
  {
   "cell_type": "code",
   "execution_count": 42,
   "id": "96ec8a5f",
   "metadata": {},
   "outputs": [
    {
     "name": "stdout",
     "output_type": "stream",
     "text": [
      "CPU times: total: 297 ms\n",
      "Wall time: 1.96 s\n"
     ]
    }
   ],
   "source": [
    "%%time\n",
    "%%chime\n",
    "X_val_transf = preprocess.transform(X_val)"
   ]
  },
  {
   "cell_type": "code",
   "execution_count": 43,
   "id": "63ecb6e5",
   "metadata": {},
   "outputs": [
    {
     "data": {
      "text/plain": [
       "(7254, 55)"
      ]
     },
     "execution_count": 43,
     "metadata": {},
     "output_type": "execute_result"
    }
   ],
   "source": [
    "X_val_transf.shape"
   ]
  },
  {
   "cell_type": "code",
   "execution_count": 44,
   "id": "63aeaf4c",
   "metadata": {},
   "outputs": [],
   "source": [
    "np.save('X_train_transf', X_train_transf)\n",
    "np.save('X_val_transf', X_val_transf)\n",
    "np.save('y_train', y_train)\n",
    "np.save('y_val', y_val)"
   ]
  },
  {
   "cell_type": "code",
   "execution_count": 10,
   "id": "e1a83633",
   "metadata": {},
   "outputs": [],
   "source": [
    "X_train_transf = np.load('X_train_transf.npy')\n",
    "X_val_transf = np.load('X_val_transf.npy')\n",
    "y_train = np.load('y_train.npy')\n",
    "y_val = np.load('y_val.npy')"
   ]
  },
  {
   "cell_type": "markdown",
   "id": "6f9654d1",
   "metadata": {},
   "source": [
    "## Предсказание по средней цене"
   ]
  },
  {
   "cell_type": "code",
   "execution_count": 45,
   "id": "7b44224f",
   "metadata": {},
   "outputs": [
    {
     "data": {
      "text/plain": [
       "count    7254.000000\n",
       "mean      115.931624\n",
       "std       175.953193\n",
       "min         0.000000\n",
       "25%        45.000000\n",
       "50%        85.000000\n",
       "75%       135.000000\n",
       "max      7716.000000\n",
       "Name: price, dtype: float64"
      ]
     },
     "execution_count": 45,
     "metadata": {},
     "output_type": "execute_result"
    }
   ],
   "source": [
    "y_val.describe()"
   ]
  },
  {
   "cell_type": "code",
   "execution_count": 46,
   "id": "4456489b",
   "metadata": {},
   "outputs": [
    {
     "data": {
      "text/plain": [
       "74.18344137864436"
      ]
     },
     "execution_count": 46,
     "metadata": {},
     "output_type": "execute_result"
    }
   ],
   "source": [
    "(y_val - y_val.mean()).abs().mean()"
   ]
  },
  {
   "cell_type": "markdown",
   "id": "37587699",
   "metadata": {},
   "source": [
    "## Градиентный бустинг"
   ]
  },
  {
   "cell_type": "code",
   "execution_count": 47,
   "id": "6a8e0f21",
   "metadata": {},
   "outputs": [],
   "source": [
    "from sklearn.ensemble import HistGradientBoostingRegressor"
   ]
  },
  {
   "cell_type": "code",
   "execution_count": 48,
   "id": "60b98fe2",
   "metadata": {},
   "outputs": [],
   "source": [
    "params = {'max_iter': [100, 200, 300, 400, 500],\n",
    "          'max_depth':[10, 20, 50, 70],\n",
    "          'l2_regularization': [0.0, 0.2, 0.4]\n",
    "         }"
   ]
  },
  {
   "cell_type": "code",
   "execution_count": 49,
   "id": "167d937f",
   "metadata": {},
   "outputs": [],
   "source": [
    "regressor = HistGradientBoostingRegressor(loss='absolute_error',\n",
    "                                          learning_rate=0.1, \n",
    "                                          early_stopping='auto',\n",
    "                                          scoring='loss',\n",
    "                                          validation_fraction=0.1,\n",
    "                                          n_iter_no_change=10,\n",
    "                                          tol=1e-07, \n",
    "                                          random_state=8) \n",
    "boost = GridSearchCV(estimator = regressor,\n",
    "                      param_grid = params,\n",
    "                      scoring='neg_mean_absolute_error',\n",
    "                      n_jobs=4, \n",
    "                      refit=True,\n",
    "                      cv=5)"
   ]
  },
  {
   "cell_type": "code",
   "execution_count": 50,
   "id": "a2329348",
   "metadata": {
    "scrolled": true
   },
   "outputs": [
    {
     "name": "stdout",
     "output_type": "stream",
     "text": [
      "CPU times: total: 13.4 s\n",
      "Wall time: 6min 6s\n"
     ]
    }
   ],
   "source": [
    "%%time\n",
    "%%chime\n",
    "boost.fit(X_train_transf, y_train)"
   ]
  },
  {
   "cell_type": "code",
   "execution_count": 51,
   "id": "cd096c41",
   "metadata": {
    "scrolled": true
   },
   "outputs": [
    {
     "data": {
      "text/plain": [
       "-34.10179694990254"
      ]
     },
     "execution_count": 51,
     "metadata": {},
     "output_type": "execute_result"
    }
   ],
   "source": [
    "boost.best_score_"
   ]
  },
  {
   "cell_type": "code",
   "execution_count": 52,
   "id": "62d7f50a",
   "metadata": {
    "scrolled": false
   },
   "outputs": [
    {
     "data": {
      "text/plain": [
       "{'l2_regularization': 0.2, 'max_depth': 10, 'max_iter': 400}"
      ]
     },
     "execution_count": 52,
     "metadata": {},
     "output_type": "execute_result"
    }
   ],
   "source": [
    "boost.best_params_"
   ]
  },
  {
   "cell_type": "markdown",
   "id": "dd88450c",
   "metadata": {},
   "source": [
    "Сужаю сеть"
   ]
  },
  {
   "cell_type": "code",
   "execution_count": 53,
   "id": "5fb341c5",
   "metadata": {},
   "outputs": [],
   "source": [
    "params = {'max_iter': [350, 400, 450],\n",
    "          'max_depth':[15, 20, 30, 40],\n",
    "          'l2_regularization': [0.1, 0.2, 0.3]\n",
    "         }"
   ]
  },
  {
   "cell_type": "code",
   "execution_count": 54,
   "id": "a96d46da",
   "metadata": {},
   "outputs": [],
   "source": [
    "regressor = HistGradientBoostingRegressor(loss='absolute_error',\n",
    "                                          learning_rate=0.1, \n",
    "                                          early_stopping='auto',\n",
    "                                          scoring='loss',\n",
    "                                          validation_fraction=0.1,\n",
    "                                          n_iter_no_change=10,\n",
    "                                          tol=1e-07, \n",
    "                                          random_state=8) \n",
    "boost = GridSearchCV(estimator = regressor,\n",
    "                      param_grid = params,\n",
    "                      scoring='neg_mean_absolute_error',\n",
    "                      n_jobs=4, \n",
    "                      refit=True,\n",
    "                      cv=5)"
   ]
  },
  {
   "cell_type": "code",
   "execution_count": 55,
   "id": "8bcd0e4f",
   "metadata": {
    "scrolled": true
   },
   "outputs": [
    {
     "name": "stdout",
     "output_type": "stream",
     "text": [
      "CPU times: total: 14.9 s\n",
      "Wall time: 4min 14s\n"
     ]
    }
   ],
   "source": [
    "%%time\n",
    "%%chime\n",
    "boost.fit(X_train_transf, y_train)"
   ]
  },
  {
   "cell_type": "code",
   "execution_count": 56,
   "id": "0ebdede6",
   "metadata": {},
   "outputs": [
    {
     "data": {
      "text/plain": [
       "-34.01911797066337"
      ]
     },
     "execution_count": 56,
     "metadata": {},
     "output_type": "execute_result"
    }
   ],
   "source": [
    "boost.best_score_"
   ]
  },
  {
   "cell_type": "code",
   "execution_count": 57,
   "id": "c2868c3e",
   "metadata": {
    "scrolled": false
   },
   "outputs": [
    {
     "data": {
      "text/plain": [
       "{'l2_regularization': 0.1, 'max_depth': 15, 'max_iter': 450}"
      ]
     },
     "execution_count": 57,
     "metadata": {},
     "output_type": "execute_result"
    }
   ],
   "source": [
    "boost.best_params_"
   ]
  },
  {
   "cell_type": "markdown",
   "id": "d54c5e44",
   "metadata": {},
   "source": [
    "Результаты немного хуже, чем у того же метода с предварительной подстановкой пропущенных значений: 33.73 против 34.04, но стандартное отклонение кроссвалидации 1.90 говорит о том, что изменение не существенное. Тем не менее буду испльзовать этот вариант, т.к. он проще."
   ]
  },
  {
   "cell_type": "code",
   "execution_count": null,
   "id": "d35e93b3",
   "metadata": {},
   "outputs": [],
   "source": []
  }
 ],
 "metadata": {
  "kernelspec": {
   "display_name": "Python 3 (ipykernel)",
   "language": "python",
   "name": "python3"
  },
  "language_info": {
   "codemirror_mode": {
    "name": "ipython",
    "version": 3
   },
   "file_extension": ".py",
   "mimetype": "text/x-python",
   "name": "python",
   "nbconvert_exporter": "python",
   "pygments_lexer": "ipython3",
   "version": "3.9.12"
  }
 },
 "nbformat": 4,
 "nbformat_minor": 5
}
