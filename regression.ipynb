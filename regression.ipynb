{
 "cells": [
  {
   "cell_type": "markdown",
   "id": "97be2072",
   "metadata": {},
   "source": [
    "# Соревнование для учащися курса \"Специалист по работе с данными / Data Scientist\". Школа 21 СБЕР / Томский государственный университет"
   ]
  },
  {
   "cell_type": "markdown",
   "id": "ef90d9e7",
   "metadata": {},
   "source": [
    "https://www.kaggle.com/competitions/sber-21-tgu-2022/data"
   ]
  },
  {
   "cell_type": "markdown",
   "id": "70a032bf",
   "metadata": {},
   "source": [
    "Задача - предсказать стоимость аренды квартир в Лондоне. Метрика - MAE."
   ]
  },
  {
   "cell_type": "markdown",
   "id": "585f6127",
   "metadata": {},
   "source": [
    "Предварительный анализ данных см. в ноутбуке EDA.ipynb"
   ]
  },
  {
   "cell_type": "code",
   "execution_count": 24,
   "id": "9917c8a9",
   "metadata": {},
   "outputs": [],
   "source": [
    "import pandas as pd\n",
    "import numpy as np\n",
    "from sklearn.pipeline import Pipeline\n",
    "from sklearn.preprocessing import StandardScaler\n",
    "from sklearn.compose import ColumnTransformer\n",
    "from sklearn.preprocessing import OneHotEncoder\n",
    "from sklearn.model_selection import train_test_split\n",
    "from sklearn.model_selection import GridSearchCV\n",
    "from sklearn.model_selection import cross_val_score\n",
    "from sklearn.metrics import mean_absolute_error\n",
    "import chime\n",
    "from joblib import dump, load"
   ]
  },
  {
   "cell_type": "code",
   "execution_count": 2,
   "id": "a976272f",
   "metadata": {},
   "outputs": [],
   "source": [
    "%load_ext chime"
   ]
  },
  {
   "cell_type": "code",
   "execution_count": 17,
   "id": "e9b0829b",
   "metadata": {},
   "outputs": [],
   "source": [
    "class Preprocess:\n",
    "    def __init__(self, max_categories=6):\n",
    "        self.max_categories = max_categories\n",
    "        self.uncorrelated_features = ['latitude', 'longitude',\n",
    "                                          'available', 'comments',\n",
    "                                          'canceled', 'notice',\n",
    "                                          'host_response_rate', 'host_since']\n",
    "        self.correlated_features = ['accommodates', 'bathrooms', 'beds','guests_included',\n",
    "                                        'security_deposit','bedrooms','minimum_nights',\n",
    "                                        'extra_people','square_feet','cleaning_fee']\n",
    "        \n",
    "    def set_params(self, max_categories):\n",
    "        self.max_categories = max_categories\n",
    "        return self\n",
    "\n",
    "    def fit(self, X, y=None):    \n",
    "        # Merge with other files\n",
    "        calendar = pd.read_csv('calendar_availability.csv', index_col='listing_id')\n",
    "        reviews = pd.read_csv('reviews_stat.csv', index_col='listing_id')\n",
    "        df = X.copy().join([calendar, reviews], how='left')\n",
    "        df.drop(columns='host_id', inplace=True)\n",
    "\n",
    "        #Convert the column with the percent sign\n",
    "        df['host_response_rate'] = df['host_response_rate']\\\n",
    "                .str.replace(r'\\D+', '', regex=True)\\\n",
    "                .astype('float')\n",
    "\n",
    "        # Convert datetimes into numbers for further use as a numeric variable\n",
    "        # This will apply to the host_since column\n",
    "        self.date_features = df.select_dtypes(include='datetime').columns.to_list()\n",
    "        df[self.date_features] = df[self.date_features].astype(np.int64)\n",
    "\n",
    "        self.numeric_features = df.select_dtypes(include='number').columns.to_list()\n",
    "        self.cat_features = df.select_dtypes(include=['object', 'bool']).columns.to_list()\n",
    "        \n",
    "\n",
    "        self.scale_encode = ColumnTransformer(\n",
    "            transformers = [\n",
    "                ('scale', StandardScaler(), self.numeric_features),\n",
    "                ('get_dummies', OneHotEncoder(sparse=False,\n",
    "                                              drop='first', \n",
    "                                              handle_unknown='infrequent_if_exist',\n",
    "                                              min_frequency=2,\n",
    "                                             max_categories=self.max_categories), self.cat_features)\n",
    "            ],\n",
    "            remainder='passthrough',\n",
    "            n_jobs=-1\n",
    "        ).fit(df)\n",
    "        \n",
    "        return self\n",
    "\n",
    "    \n",
    "    def transform(self, X, y=None):\n",
    "        # Merge with other files\n",
    "        calendar = pd.read_csv('calendar_availability.csv', index_col='listing_id')\n",
    "        reviews = pd.read_csv('reviews_stat.csv', index_col='listing_id')\n",
    "        df = X.copy().join([calendar, reviews], how='left')\n",
    "        df.drop(columns='host_id', inplace=True)\n",
    "\n",
    "        #Convert the column with the percent sign\n",
    "        df['host_response_rate'] = df['host_response_rate']\\\n",
    "                .str.replace(r'\\D+', '', regex=True)\\\n",
    "                .astype('float')\n",
    "\n",
    "        # Convert datetimes into numbers for further use as a numeric variable\n",
    "        # This will apply to the host_since column\n",
    "        df[self.date_features] = df[self.date_features].astype(np.int64)\n",
    "\n",
    "        result = self.scale_encode.transform(df)\n",
    "            \n",
    "        return result"
   ]
  },
  {
   "cell_type": "code",
   "execution_count": 4,
   "id": "4f55292c",
   "metadata": {},
   "outputs": [
    {
     "data": {
      "text/html": [
       "<div>\n",
       "<style scoped>\n",
       "    .dataframe tbody tr th:only-of-type {\n",
       "        vertical-align: middle;\n",
       "    }\n",
       "\n",
       "    .dataframe tbody tr th {\n",
       "        vertical-align: top;\n",
       "    }\n",
       "\n",
       "    .dataframe thead th {\n",
       "        text-align: right;\n",
       "    }\n",
       "</style>\n",
       "<table border=\"1\" class=\"dataframe\">\n",
       "  <thead>\n",
       "    <tr style=\"text-align: right;\">\n",
       "      <th></th>\n",
       "      <th>name</th>\n",
       "      <th>summary</th>\n",
       "      <th>space</th>\n",
       "      <th>description</th>\n",
       "      <th>experiences_offered</th>\n",
       "      <th>neighborhood_overview</th>\n",
       "      <th>notes</th>\n",
       "      <th>transit</th>\n",
       "      <th>access</th>\n",
       "      <th>interaction</th>\n",
       "      <th>...</th>\n",
       "      <th>square_feet</th>\n",
       "      <th>security_deposit</th>\n",
       "      <th>cleaning_fee</th>\n",
       "      <th>guests_included</th>\n",
       "      <th>extra_people</th>\n",
       "      <th>minimum_nights</th>\n",
       "      <th>cancellation_policy</th>\n",
       "      <th>require_guest_profile_picture</th>\n",
       "      <th>require_guest_phone_verification</th>\n",
       "      <th>price</th>\n",
       "    </tr>\n",
       "    <tr>\n",
       "      <th>id</th>\n",
       "      <th></th>\n",
       "      <th></th>\n",
       "      <th></th>\n",
       "      <th></th>\n",
       "      <th></th>\n",
       "      <th></th>\n",
       "      <th></th>\n",
       "      <th></th>\n",
       "      <th></th>\n",
       "      <th></th>\n",
       "      <th></th>\n",
       "      <th></th>\n",
       "      <th></th>\n",
       "      <th></th>\n",
       "      <th></th>\n",
       "      <th></th>\n",
       "      <th></th>\n",
       "      <th></th>\n",
       "      <th></th>\n",
       "      <th></th>\n",
       "      <th></th>\n",
       "    </tr>\n",
       "  </thead>\n",
       "  <tbody>\n",
       "    <tr>\n",
       "      <th>20145777</th>\n",
       "      <td>Double in a friendly house</td>\n",
       "      <td>A  double bedroom  in a cozy and modern apartm...</td>\n",
       "      <td>NaN</td>\n",
       "      <td>A  double bedroom  in a cozy and modern apartm...</td>\n",
       "      <td>NaN</td>\n",
       "      <td>NaN</td>\n",
       "      <td>NaN</td>\n",
       "      <td>NaN</td>\n",
       "      <td>NaN</td>\n",
       "      <td>NaN</td>\n",
       "      <td>...</td>\n",
       "      <td>NaN</td>\n",
       "      <td>NaN</td>\n",
       "      <td>NaN</td>\n",
       "      <td>1</td>\n",
       "      <td>0.0</td>\n",
       "      <td>1</td>\n",
       "      <td>flexible</td>\n",
       "      <td>False</td>\n",
       "      <td>False</td>\n",
       "      <td>90.0</td>\n",
       "    </tr>\n",
       "    <tr>\n",
       "      <th>22630537</th>\n",
       "      <td>London flat with great transport links</td>\n",
       "      <td>Light, airy and modern one bedroom flat 2 mins...</td>\n",
       "      <td>NaN</td>\n",
       "      <td>Light, airy and modern one bedroom flat 2 mins...</td>\n",
       "      <td>NaN</td>\n",
       "      <td>NaN</td>\n",
       "      <td>NaN</td>\n",
       "      <td>NaN</td>\n",
       "      <td>NaN</td>\n",
       "      <td>NaN</td>\n",
       "      <td>...</td>\n",
       "      <td>NaN</td>\n",
       "      <td>NaN</td>\n",
       "      <td>25.0</td>\n",
       "      <td>2</td>\n",
       "      <td>20.0</td>\n",
       "      <td>1</td>\n",
       "      <td>moderate</td>\n",
       "      <td>False</td>\n",
       "      <td>False</td>\n",
       "      <td>75.0</td>\n",
       "    </tr>\n",
       "    <tr>\n",
       "      <th>27355619</th>\n",
       "      <td>Studio Apartments, 5 mins to Kings Cross Station!</td>\n",
       "      <td>Based in high quality student accommodation, o...</td>\n",
       "      <td>What To Expect: * 16/17m2 Studio with modern f...</td>\n",
       "      <td>Based in high quality student accommodation, o...</td>\n",
       "      <td>NaN</td>\n",
       "      <td>As one of Central London’s most vibrant and ne...</td>\n",
       "      <td>• Do you have free WiFi? Yes we have super fas...</td>\n",
       "      <td>You will be in an incredible position for gett...</td>\n",
       "      <td>You will enjoy your own studio, with a private...</td>\n",
       "      <td>Our reception can help you out with anything y...</td>\n",
       "      <td>...</td>\n",
       "      <td>NaN</td>\n",
       "      <td>80.0</td>\n",
       "      <td>45.0</td>\n",
       "      <td>1</td>\n",
       "      <td>0.0</td>\n",
       "      <td>3</td>\n",
       "      <td>flexible</td>\n",
       "      <td>False</td>\n",
       "      <td>False</td>\n",
       "      <td>89.0</td>\n",
       "    </tr>\n",
       "    <tr>\n",
       "      <th>21011236</th>\n",
       "      <td>Big, Beautiful, Sunny, West Kensington TWIN Room</td>\n",
       "      <td>Big Beautiful, airy, West Kensington TWIN room...</td>\n",
       "      <td>This is a pretty terraced house in a great are...</td>\n",
       "      <td>Big Beautiful, airy, West Kensington TWIN room...</td>\n",
       "      <td>NaN</td>\n",
       "      <td>We’re in a fantastic location - close to many ...</td>\n",
       "      <td>We lay on a good breakfast that guests serve t...</td>\n",
       "      <td>NaN</td>\n",
       "      <td>The room is exclusively yours while you're her...</td>\n",
       "      <td>I'm Matthew and I live here with my son Alex. ...</td>\n",
       "      <td>...</td>\n",
       "      <td>NaN</td>\n",
       "      <td>NaN</td>\n",
       "      <td>12.0</td>\n",
       "      <td>1</td>\n",
       "      <td>11.0</td>\n",
       "      <td>1</td>\n",
       "      <td>moderate</td>\n",
       "      <td>False</td>\n",
       "      <td>False</td>\n",
       "      <td>60.0</td>\n",
       "    </tr>\n",
       "    <tr>\n",
       "      <th>24754494</th>\n",
       "      <td>Dashing 1BR in Bayswater by Sonder</td>\n",
       "      <td>At this Sonder, you'll love the chic decor, st...</td>\n",
       "      <td>Every booking is instantly confirmed. Every ca...</td>\n",
       "      <td>At this Sonder, you'll love the chic decor, st...</td>\n",
       "      <td>NaN</td>\n",
       "      <td>Your Sonder is in a beautiful dwelling, conver...</td>\n",
       "      <td>This Sonder does not have air conditioning, bu...</td>\n",
       "      <td>Your Sonder is located at the end of a cul-de-...</td>\n",
       "      <td>NaN</td>\n",
       "      <td>Our concierge is available by phone, email, or...</td>\n",
       "      <td>...</td>\n",
       "      <td>NaN</td>\n",
       "      <td>300.0</td>\n",
       "      <td>63.0</td>\n",
       "      <td>2</td>\n",
       "      <td>5.0</td>\n",
       "      <td>2</td>\n",
       "      <td>strict_14_with_grace_period</td>\n",
       "      <td>False</td>\n",
       "      <td>False</td>\n",
       "      <td>169.0</td>\n",
       "    </tr>\n",
       "    <tr>\n",
       "      <th>...</th>\n",
       "      <td>...</td>\n",
       "      <td>...</td>\n",
       "      <td>...</td>\n",
       "      <td>...</td>\n",
       "      <td>...</td>\n",
       "      <td>...</td>\n",
       "      <td>...</td>\n",
       "      <td>...</td>\n",
       "      <td>...</td>\n",
       "      <td>...</td>\n",
       "      <td>...</td>\n",
       "      <td>...</td>\n",
       "      <td>...</td>\n",
       "      <td>...</td>\n",
       "      <td>...</td>\n",
       "      <td>...</td>\n",
       "      <td>...</td>\n",
       "      <td>...</td>\n",
       "      <td>...</td>\n",
       "      <td>...</td>\n",
       "      <td>...</td>\n",
       "    </tr>\n",
       "    <tr>\n",
       "      <th>18151315</th>\n",
       "      <td>Sunny studio with private kitchen and bathroom</td>\n",
       "      <td>Quiet, sunny studio flat just minutes from the...</td>\n",
       "      <td>A small and very cosy flat with all necessary ...</td>\n",
       "      <td>Quiet, sunny studio flat just minutes from the...</td>\n",
       "      <td>NaN</td>\n",
       "      <td>Crystal Palace is a vibrant bohemian oasis sur...</td>\n",
       "      <td>NaN</td>\n",
       "      <td>2 mins to Gipsy Hill Rail,  direct links to Vi...</td>\n",
       "      <td>You have shared access through main front door...</td>\n",
       "      <td>I have an apartment manager who lives close by...</td>\n",
       "      <td>...</td>\n",
       "      <td>NaN</td>\n",
       "      <td>NaN</td>\n",
       "      <td>25.0</td>\n",
       "      <td>1</td>\n",
       "      <td>0.0</td>\n",
       "      <td>2</td>\n",
       "      <td>moderate</td>\n",
       "      <td>False</td>\n",
       "      <td>False</td>\n",
       "      <td>65.0</td>\n",
       "    </tr>\n",
       "    <tr>\n",
       "      <th>28105053</th>\n",
       "      <td>A comfy double room in modern flat ★ Haggerston</td>\n",
       "      <td>It's a double room for 2 guests.</td>\n",
       "      <td>NaN</td>\n",
       "      <td>It's a double room for 2 guests. I will be at ...</td>\n",
       "      <td>NaN</td>\n",
       "      <td>NaN</td>\n",
       "      <td>NaN</td>\n",
       "      <td>There is Haggerston overground station only 3 ...</td>\n",
       "      <td>NaN</td>\n",
       "      <td>I will be at the Airbnb to greet you and check...</td>\n",
       "      <td>...</td>\n",
       "      <td>NaN</td>\n",
       "      <td>0.0</td>\n",
       "      <td>10.0</td>\n",
       "      <td>1</td>\n",
       "      <td>10.0</td>\n",
       "      <td>2</td>\n",
       "      <td>strict_14_with_grace_period</td>\n",
       "      <td>False</td>\n",
       "      <td>False</td>\n",
       "      <td>31.0</td>\n",
       "    </tr>\n",
       "    <tr>\n",
       "      <th>26342100</th>\n",
       "      <td>Goldsborough House - Apartment London SW8</td>\n",
       "      <td>Spacious three bedroom flat, fantastic locatio...</td>\n",
       "      <td>NaN</td>\n",
       "      <td>Spacious three bedroom flat, fantastic locatio...</td>\n",
       "      <td>NaN</td>\n",
       "      <td>NaN</td>\n",
       "      <td>NaN</td>\n",
       "      <td>NaN</td>\n",
       "      <td>NaN</td>\n",
       "      <td>NaN</td>\n",
       "      <td>...</td>\n",
       "      <td>NaN</td>\n",
       "      <td>NaN</td>\n",
       "      <td>NaN</td>\n",
       "      <td>1</td>\n",
       "      <td>0.0</td>\n",
       "      <td>1</td>\n",
       "      <td>flexible</td>\n",
       "      <td>False</td>\n",
       "      <td>False</td>\n",
       "      <td>150.0</td>\n",
       "    </tr>\n",
       "    <tr>\n",
       "      <th>13833612</th>\n",
       "      <td>Modern and Luxurious 1 Bedroom Flat</td>\n",
       "      <td>You’ll love my place because of the ambiance, ...</td>\n",
       "      <td>This is a beautiful and comfortable one bedroo...</td>\n",
       "      <td>You’ll love my place because of the ambiance, ...</td>\n",
       "      <td>NaN</td>\n",
       "      <td>The are is central and well connected. For pub...</td>\n",
       "      <td>I expect people to treat the flat with respect...</td>\n",
       "      <td>Easy access to public transport (DLR, Overgrou...</td>\n",
       "      <td>Full access to all spaces. The flat is all you...</td>\n",
       "      <td>I am available to help via email / phone and c...</td>\n",
       "      <td>...</td>\n",
       "      <td>NaN</td>\n",
       "      <td>80.0</td>\n",
       "      <td>25.0</td>\n",
       "      <td>1</td>\n",
       "      <td>0.0</td>\n",
       "      <td>4</td>\n",
       "      <td>moderate</td>\n",
       "      <td>False</td>\n",
       "      <td>False</td>\n",
       "      <td>105.0</td>\n",
       "    </tr>\n",
       "    <tr>\n",
       "      <th>19640194</th>\n",
       "      <td>SunnyBay - Very Cosy and beautiful home</td>\n",
       "      <td>A fantastic two bedroom terraced house situate...</td>\n",
       "      <td>NaN</td>\n",
       "      <td>A fantastic two bedroom terraced house situate...</td>\n",
       "      <td>NaN</td>\n",
       "      <td>NaN</td>\n",
       "      <td>NaN</td>\n",
       "      <td>NaN</td>\n",
       "      <td>NaN</td>\n",
       "      <td>NaN</td>\n",
       "      <td>...</td>\n",
       "      <td>NaN</td>\n",
       "      <td>NaN</td>\n",
       "      <td>NaN</td>\n",
       "      <td>1</td>\n",
       "      <td>0.0</td>\n",
       "      <td>6</td>\n",
       "      <td>flexible</td>\n",
       "      <td>False</td>\n",
       "      <td>False</td>\n",
       "      <td>149.0</td>\n",
       "    </tr>\n",
       "  </tbody>\n",
       "</table>\n",
       "<p>36270 rows × 42 columns</p>\n",
       "</div>"
      ],
      "text/plain": [
       "                                                       name  \\\n",
       "id                                                            \n",
       "20145777                         Double in a friendly house   \n",
       "22630537             London flat with great transport links   \n",
       "27355619  Studio Apartments, 5 mins to Kings Cross Station!   \n",
       "21011236   Big, Beautiful, Sunny, West Kensington TWIN Room   \n",
       "24754494                 Dashing 1BR in Bayswater by Sonder   \n",
       "...                                                     ...   \n",
       "18151315     Sunny studio with private kitchen and bathroom   \n",
       "28105053    A comfy double room in modern flat ★ Haggerston   \n",
       "26342100          Goldsborough House - Apartment London SW8   \n",
       "13833612                Modern and Luxurious 1 Bedroom Flat   \n",
       "19640194            SunnyBay - Very Cosy and beautiful home   \n",
       "\n",
       "                                                    summary  \\\n",
       "id                                                            \n",
       "20145777  A  double bedroom  in a cozy and modern apartm...   \n",
       "22630537  Light, airy and modern one bedroom flat 2 mins...   \n",
       "27355619  Based in high quality student accommodation, o...   \n",
       "21011236  Big Beautiful, airy, West Kensington TWIN room...   \n",
       "24754494  At this Sonder, you'll love the chic decor, st...   \n",
       "...                                                     ...   \n",
       "18151315  Quiet, sunny studio flat just minutes from the...   \n",
       "28105053                   It's a double room for 2 guests.   \n",
       "26342100  Spacious three bedroom flat, fantastic locatio...   \n",
       "13833612  You’ll love my place because of the ambiance, ...   \n",
       "19640194  A fantastic two bedroom terraced house situate...   \n",
       "\n",
       "                                                      space  \\\n",
       "id                                                            \n",
       "20145777                                                NaN   \n",
       "22630537                                                NaN   \n",
       "27355619  What To Expect: * 16/17m2 Studio with modern f...   \n",
       "21011236  This is a pretty terraced house in a great are...   \n",
       "24754494  Every booking is instantly confirmed. Every ca...   \n",
       "...                                                     ...   \n",
       "18151315  A small and very cosy flat with all necessary ...   \n",
       "28105053                                                NaN   \n",
       "26342100                                                NaN   \n",
       "13833612  This is a beautiful and comfortable one bedroo...   \n",
       "19640194                                                NaN   \n",
       "\n",
       "                                                description  \\\n",
       "id                                                            \n",
       "20145777  A  double bedroom  in a cozy and modern apartm...   \n",
       "22630537  Light, airy and modern one bedroom flat 2 mins...   \n",
       "27355619  Based in high quality student accommodation, o...   \n",
       "21011236  Big Beautiful, airy, West Kensington TWIN room...   \n",
       "24754494  At this Sonder, you'll love the chic decor, st...   \n",
       "...                                                     ...   \n",
       "18151315  Quiet, sunny studio flat just minutes from the...   \n",
       "28105053  It's a double room for 2 guests. I will be at ...   \n",
       "26342100  Spacious three bedroom flat, fantastic locatio...   \n",
       "13833612  You’ll love my place because of the ambiance, ...   \n",
       "19640194  A fantastic two bedroom terraced house situate...   \n",
       "\n",
       "         experiences_offered  \\\n",
       "id                             \n",
       "20145777                 NaN   \n",
       "22630537                 NaN   \n",
       "27355619                 NaN   \n",
       "21011236                 NaN   \n",
       "24754494                 NaN   \n",
       "...                      ...   \n",
       "18151315                 NaN   \n",
       "28105053                 NaN   \n",
       "26342100                 NaN   \n",
       "13833612                 NaN   \n",
       "19640194                 NaN   \n",
       "\n",
       "                                      neighborhood_overview  \\\n",
       "id                                                            \n",
       "20145777                                                NaN   \n",
       "22630537                                                NaN   \n",
       "27355619  As one of Central London’s most vibrant and ne...   \n",
       "21011236  We’re in a fantastic location - close to many ...   \n",
       "24754494  Your Sonder is in a beautiful dwelling, conver...   \n",
       "...                                                     ...   \n",
       "18151315  Crystal Palace is a vibrant bohemian oasis sur...   \n",
       "28105053                                                NaN   \n",
       "26342100                                                NaN   \n",
       "13833612  The are is central and well connected. For pub...   \n",
       "19640194                                                NaN   \n",
       "\n",
       "                                                      notes  \\\n",
       "id                                                            \n",
       "20145777                                                NaN   \n",
       "22630537                                                NaN   \n",
       "27355619  • Do you have free WiFi? Yes we have super fas...   \n",
       "21011236  We lay on a good breakfast that guests serve t...   \n",
       "24754494  This Sonder does not have air conditioning, bu...   \n",
       "...                                                     ...   \n",
       "18151315                                                NaN   \n",
       "28105053                                                NaN   \n",
       "26342100                                                NaN   \n",
       "13833612  I expect people to treat the flat with respect...   \n",
       "19640194                                                NaN   \n",
       "\n",
       "                                                    transit  \\\n",
       "id                                                            \n",
       "20145777                                                NaN   \n",
       "22630537                                                NaN   \n",
       "27355619  You will be in an incredible position for gett...   \n",
       "21011236                                                NaN   \n",
       "24754494  Your Sonder is located at the end of a cul-de-...   \n",
       "...                                                     ...   \n",
       "18151315  2 mins to Gipsy Hill Rail,  direct links to Vi...   \n",
       "28105053  There is Haggerston overground station only 3 ...   \n",
       "26342100                                                NaN   \n",
       "13833612  Easy access to public transport (DLR, Overgrou...   \n",
       "19640194                                                NaN   \n",
       "\n",
       "                                                     access  \\\n",
       "id                                                            \n",
       "20145777                                                NaN   \n",
       "22630537                                                NaN   \n",
       "27355619  You will enjoy your own studio, with a private...   \n",
       "21011236  The room is exclusively yours while you're her...   \n",
       "24754494                                                NaN   \n",
       "...                                                     ...   \n",
       "18151315  You have shared access through main front door...   \n",
       "28105053                                                NaN   \n",
       "26342100                                                NaN   \n",
       "13833612  Full access to all spaces. The flat is all you...   \n",
       "19640194                                                NaN   \n",
       "\n",
       "                                                interaction  ... square_feet  \\\n",
       "id                                                           ...               \n",
       "20145777                                                NaN  ...         NaN   \n",
       "22630537                                                NaN  ...         NaN   \n",
       "27355619  Our reception can help you out with anything y...  ...         NaN   \n",
       "21011236  I'm Matthew and I live here with my son Alex. ...  ...         NaN   \n",
       "24754494  Our concierge is available by phone, email, or...  ...         NaN   \n",
       "...                                                     ...  ...         ...   \n",
       "18151315  I have an apartment manager who lives close by...  ...         NaN   \n",
       "28105053  I will be at the Airbnb to greet you and check...  ...         NaN   \n",
       "26342100                                                NaN  ...         NaN   \n",
       "13833612  I am available to help via email / phone and c...  ...         NaN   \n",
       "19640194                                                NaN  ...         NaN   \n",
       "\n",
       "          security_deposit cleaning_fee guests_included extra_people  \\\n",
       "id                                                                     \n",
       "20145777               NaN          NaN               1          0.0   \n",
       "22630537               NaN         25.0               2         20.0   \n",
       "27355619              80.0         45.0               1          0.0   \n",
       "21011236               NaN         12.0               1         11.0   \n",
       "24754494             300.0         63.0               2          5.0   \n",
       "...                    ...          ...             ...          ...   \n",
       "18151315               NaN         25.0               1          0.0   \n",
       "28105053               0.0         10.0               1         10.0   \n",
       "26342100               NaN          NaN               1          0.0   \n",
       "13833612              80.0         25.0               1          0.0   \n",
       "19640194               NaN          NaN               1          0.0   \n",
       "\n",
       "         minimum_nights          cancellation_policy  \\\n",
       "id                                                     \n",
       "20145777              1                     flexible   \n",
       "22630537              1                     moderate   \n",
       "27355619              3                     flexible   \n",
       "21011236              1                     moderate   \n",
       "24754494              2  strict_14_with_grace_period   \n",
       "...                 ...                          ...   \n",
       "18151315              2                     moderate   \n",
       "28105053              2  strict_14_with_grace_period   \n",
       "26342100              1                     flexible   \n",
       "13833612              4                     moderate   \n",
       "19640194              6                     flexible   \n",
       "\n",
       "         require_guest_profile_picture require_guest_phone_verification  price  \n",
       "id                                                                              \n",
       "20145777                         False                            False   90.0  \n",
       "22630537                         False                            False   75.0  \n",
       "27355619                         False                            False   89.0  \n",
       "21011236                         False                            False   60.0  \n",
       "24754494                         False                            False  169.0  \n",
       "...                                ...                              ...    ...  \n",
       "18151315                         False                            False   65.0  \n",
       "28105053                         False                            False   31.0  \n",
       "26342100                         False                            False  150.0  \n",
       "13833612                         False                            False  105.0  \n",
       "19640194                         False                            False  149.0  \n",
       "\n",
       "[36270 rows x 42 columns]"
      ]
     },
     "execution_count": 4,
     "metadata": {},
     "output_type": "execute_result"
    }
   ],
   "source": [
    "train = pd.read_csv('train.csv',\n",
    "                    index_col='id',\n",
    "                    true_values=['t'],\n",
    "                    false_values=['f'],\n",
    "                    na_values='none',\n",
    "                    parse_dates=['host_since'],\n",
    "                   low_memory=False)\n",
    "train"
   ]
  },
  {
   "cell_type": "code",
   "execution_count": 5,
   "id": "9d679de4",
   "metadata": {},
   "outputs": [],
   "source": [
    "X = train.drop(columns='price')\n",
    "y = train.price"
   ]
  },
  {
   "cell_type": "code",
   "execution_count": 6,
   "id": "5a3f0be9",
   "metadata": {},
   "outputs": [],
   "source": [
    "X_train, X_val, y_train, y_val = train_test_split(X, y, \n",
    "                                                  test_size=0.2,\n",
    "                                                  random_state=8,\n",
    "                                                 shuffle=True)"
   ]
  },
  {
   "cell_type": "code",
   "execution_count": 7,
   "id": "c0128b4e",
   "metadata": {
    "scrolled": true
   },
   "outputs": [
    {
     "data": {
      "text/plain": [
       "(7254, 41)"
      ]
     },
     "execution_count": 7,
     "metadata": {},
     "output_type": "execute_result"
    }
   ],
   "source": [
    "X_val.shape"
   ]
  },
  {
   "cell_type": "code",
   "execution_count": 29,
   "id": "79539b19",
   "metadata": {
    "scrolled": true
   },
   "outputs": [
    {
     "name": "stdout",
     "output_type": "stream",
     "text": [
      "CPU times: total: 953 ms\n",
      "Wall time: 2min 19s\n"
     ]
    }
   ],
   "source": [
    "%%time\n",
    "%%chime\n",
    "preprocess = Preprocess().fit(X_train)"
   ]
  },
  {
   "cell_type": "code",
   "execution_count": 30,
   "id": "b98e8ce2",
   "metadata": {},
   "outputs": [
    {
     "name": "stdout",
     "output_type": "stream",
     "text": [
      "CPU times: total: 1.17 s\n",
      "Wall time: 1min 10s\n"
     ]
    }
   ],
   "source": [
    "%%time\n",
    "%%chime\n",
    "X_train_transf = preprocess.transform(X_train)"
   ]
  },
  {
   "cell_type": "code",
   "execution_count": 31,
   "id": "f21b7bd3",
   "metadata": {
    "scrolled": false
   },
   "outputs": [
    {
     "data": {
      "text/plain": [
       "(29016, 118)"
      ]
     },
     "execution_count": 31,
     "metadata": {},
     "output_type": "execute_result"
    }
   ],
   "source": [
    "X_train_transf.shape"
   ]
  },
  {
   "cell_type": "code",
   "execution_count": 11,
   "id": "96ec8a5f",
   "metadata": {},
   "outputs": [
    {
     "name": "stdout",
     "output_type": "stream",
     "text": [
      "CPU times: total: 703 ms\n",
      "Wall time: 5.59 s\n"
     ]
    }
   ],
   "source": [
    "%%time\n",
    "%%chime\n",
    "X_val_transf = preprocess.transform(X_val)"
   ]
  },
  {
   "cell_type": "code",
   "execution_count": 32,
   "id": "63ecb6e5",
   "metadata": {},
   "outputs": [
    {
     "ename": "NameError",
     "evalue": "name 'X_val_transf' is not defined",
     "output_type": "error",
     "traceback": [
      "\u001b[1;31m---------------------------------------------------------------------------\u001b[0m",
      "\u001b[1;31mNameError\u001b[0m                                 Traceback (most recent call last)",
      "Input \u001b[1;32mIn [32]\u001b[0m, in \u001b[0;36m<cell line: 1>\u001b[1;34m()\u001b[0m\n\u001b[1;32m----> 1\u001b[0m \u001b[43mX_val_transf\u001b[49m\u001b[38;5;241m.\u001b[39mshape\n",
      "\u001b[1;31mNameError\u001b[0m: name 'X_val_transf' is not defined"
     ]
    }
   ],
   "source": [
    "X_val_transf.shape"
   ]
  },
  {
   "cell_type": "code",
   "execution_count": 13,
   "id": "63aeaf4c",
   "metadata": {},
   "outputs": [],
   "source": [
    "np.save('X_train_transf', X_train_transf)\n",
    "np.save('X_val_transf', X_val_transf)\n",
    "np.save('y_train', y_train)\n",
    "np.save('y_val', y_val)"
   ]
  },
  {
   "cell_type": "code",
   "execution_count": 10,
   "id": "e1a83633",
   "metadata": {},
   "outputs": [],
   "source": [
    "X_train_transf = np.load('X_train_transf.npy')\n",
    "X_val_transf = np.load('X_val_transf.npy')\n",
    "y_train = np.load('y_train.npy')\n",
    "y_val = np.load('y_val.npy')"
   ]
  },
  {
   "cell_type": "markdown",
   "id": "6f9654d1",
   "metadata": {},
   "source": [
    "## Предсказание по средней цене"
   ]
  },
  {
   "cell_type": "code",
   "execution_count": 16,
   "id": "7b44224f",
   "metadata": {},
   "outputs": [
    {
     "data": {
      "text/plain": [
       "count    7254.000000\n",
       "mean      115.931624\n",
       "std       175.953193\n",
       "min         0.000000\n",
       "25%        45.000000\n",
       "50%        85.000000\n",
       "75%       135.000000\n",
       "max      7716.000000\n",
       "Name: price, dtype: float64"
      ]
     },
     "execution_count": 16,
     "metadata": {},
     "output_type": "execute_result"
    }
   ],
   "source": [
    "y_val.describe()"
   ]
  },
  {
   "cell_type": "code",
   "execution_count": 17,
   "id": "4456489b",
   "metadata": {},
   "outputs": [
    {
     "data": {
      "text/plain": [
       "74.18344137864436"
      ]
     },
     "execution_count": 17,
     "metadata": {},
     "output_type": "execute_result"
    }
   ],
   "source": [
    "(y_val - y_val.mean()).abs().mean()"
   ]
  },
  {
   "cell_type": "markdown",
   "id": "37587699",
   "metadata": {},
   "source": [
    "## Градиентный бустинг"
   ]
  },
  {
   "cell_type": "code",
   "execution_count": 8,
   "id": "6a8e0f21",
   "metadata": {},
   "outputs": [],
   "source": [
    "from sklearn.ensemble import HistGradientBoostingRegressor"
   ]
  },
  {
   "cell_type": "code",
   "execution_count": 17,
   "id": "60b98fe2",
   "metadata": {},
   "outputs": [],
   "source": [
    "params = {'max_iter': [100, 200, 300, 400, 500],\n",
    "          'max_depth':[10, 20, 50, 70],\n",
    "          'l2_regularization': [0.0, 0.2, 0.4]\n",
    "         }"
   ]
  },
  {
   "cell_type": "code",
   "execution_count": 18,
   "id": "167d937f",
   "metadata": {},
   "outputs": [],
   "source": [
    "regressor = HistGradientBoostingRegressor(loss='absolute_error',\n",
    "                                          learning_rate=0.1, \n",
    "                                          early_stopping='auto',\n",
    "                                          scoring='loss',\n",
    "                                          validation_fraction=0.1,\n",
    "                                          n_iter_no_change=10,\n",
    "                                          tol=1e-07, \n",
    "                                          random_state=8) \n",
    "boost = GridSearchCV(estimator = regressor,\n",
    "                      param_grid = params,\n",
    "                      scoring='neg_mean_absolute_error',\n",
    "                      n_jobs=4, \n",
    "                      refit=True,\n",
    "                      cv=5)"
   ]
  },
  {
   "cell_type": "code",
   "execution_count": 19,
   "id": "a2329348",
   "metadata": {
    "scrolled": true
   },
   "outputs": [
    {
     "name": "stdout",
     "output_type": "stream",
     "text": [
      "CPU times: total: 15.4 s\n",
      "Wall time: 12min 13s\n"
     ]
    }
   ],
   "source": [
    "%%time\n",
    "%%chime\n",
    "boost.fit(X_train_transf, y_train)"
   ]
  },
  {
   "cell_type": "code",
   "execution_count": 20,
   "id": "cd096c41",
   "metadata": {
    "scrolled": true
   },
   "outputs": [
    {
     "data": {
      "text/plain": [
       "-33.73235909480901"
      ]
     },
     "execution_count": 20,
     "metadata": {},
     "output_type": "execute_result"
    }
   ],
   "source": [
    "boost.best_score_"
   ]
  },
  {
   "cell_type": "code",
   "execution_count": 21,
   "id": "62d7f50a",
   "metadata": {
    "scrolled": false
   },
   "outputs": [
    {
     "data": {
      "text/plain": [
       "{'l2_regularization': 0.2, 'max_depth': 20, 'max_iter': 400}"
      ]
     },
     "execution_count": 21,
     "metadata": {},
     "output_type": "execute_result"
    }
   ],
   "source": [
    "boost.best_params_"
   ]
  },
  {
   "cell_type": "markdown",
   "id": "dd88450c",
   "metadata": {},
   "source": [
    "Сужаю сеть"
   ]
  },
  {
   "cell_type": "code",
   "execution_count": 22,
   "id": "5fb341c5",
   "metadata": {},
   "outputs": [],
   "source": [
    "params = {'max_iter': [350, 400, 450],\n",
    "          'max_depth':[15, 20, 30, 40],\n",
    "          'l2_regularization': [0.1, 0.2, 0.3]\n",
    "         }"
   ]
  },
  {
   "cell_type": "code",
   "execution_count": 23,
   "id": "a96d46da",
   "metadata": {},
   "outputs": [],
   "source": [
    "regressor = HistGradientBoostingRegressor(loss='absolute_error',\n",
    "                                          learning_rate=0.1, \n",
    "                                          early_stopping='auto',\n",
    "                                          scoring='loss',\n",
    "                                          validation_fraction=0.1,\n",
    "                                          n_iter_no_change=10,\n",
    "                                          tol=1e-07, \n",
    "                                          random_state=8) \n",
    "boost = GridSearchCV(estimator = regressor,\n",
    "                      param_grid = params,\n",
    "                      scoring='neg_mean_absolute_error',\n",
    "                      n_jobs=4, \n",
    "                      refit=True,\n",
    "                      cv=5)"
   ]
  },
  {
   "cell_type": "code",
   "execution_count": 24,
   "id": "8bcd0e4f",
   "metadata": {
    "scrolled": true
   },
   "outputs": [
    {
     "name": "stdout",
     "output_type": "stream",
     "text": [
      "CPU times: total: 15 s\n",
      "Wall time: 8min 27s\n"
     ]
    }
   ],
   "source": [
    "%%time\n",
    "%%chime\n",
    "boost.fit(X_train_transf, y_train)"
   ]
  },
  {
   "cell_type": "code",
   "execution_count": 25,
   "id": "0ebdede6",
   "metadata": {},
   "outputs": [
    {
     "data": {
      "text/plain": [
       "-33.73235909480901"
      ]
     },
     "execution_count": 25,
     "metadata": {},
     "output_type": "execute_result"
    }
   ],
   "source": [
    "boost.best_score_"
   ]
  },
  {
   "cell_type": "code",
   "execution_count": 26,
   "id": "c2868c3e",
   "metadata": {
    "scrolled": true
   },
   "outputs": [
    {
     "data": {
      "text/plain": [
       "{'l2_regularization': 0.2, 'max_depth': 20, 'max_iter': 350}"
      ]
     },
     "execution_count": 26,
     "metadata": {},
     "output_type": "execute_result"
    }
   ],
   "source": [
    "boost.best_params_"
   ]
  },
  {
   "cell_type": "code",
   "execution_count": 9,
   "id": "fd7b8e59",
   "metadata": {},
   "outputs": [],
   "source": [
    "best_estimator = HistGradientBoostingRegressor(loss='absolute_error',\n",
    "                                              l2_regularization=0.2,\n",
    "                                              max_depth=20,\n",
    "                                              max_iter =350,\n",
    "                                              learning_rate=0.1, \n",
    "                                              early_stopping='auto',\n",
    "                                              scoring='loss',\n",
    "                                              validation_fraction=0.1,\n",
    "                                              n_iter_no_change=10,\n",
    "                                              tol=1e-07, \n",
    "                                              random_state=8)"
   ]
  },
  {
   "cell_type": "markdown",
   "id": "43b0c8b2",
   "metadata": {},
   "source": [
    "Окончательный конвеер, включающий подготовку данных и регрессионную модель"
   ]
  },
  {
   "cell_type": "code",
   "execution_count": 18,
   "id": "1473df93",
   "metadata": {},
   "outputs": [],
   "source": [
    "pipe = Pipeline([\n",
    "    ('prep', Preprocess()),\n",
    "    ('regress', best_estimator)\n",
    "])"
   ]
  },
  {
   "cell_type": "markdown",
   "id": "f1062bec",
   "metadata": {},
   "source": [
    "### Пробую менять параметр max_categories в обработке данных."
   ]
  },
  {
   "cell_type": "code",
   "execution_count": 19,
   "id": "fe200ca4",
   "metadata": {},
   "outputs": [],
   "source": [
    "params = {'prep__max_categories': [6, 20, 40]}"
   ]
  },
  {
   "cell_type": "code",
   "execution_count": 20,
   "id": "dd940bdd",
   "metadata": {},
   "outputs": [],
   "source": [
    "pipe_grid = GridSearchCV(estimator = pipe,\n",
    "                      param_grid = params,\n",
    "                      scoring='neg_mean_absolute_error',\n",
    "                      n_jobs=4, \n",
    "                      refit=True,\n",
    "                      cv=5)"
   ]
  },
  {
   "cell_type": "code",
   "execution_count": 21,
   "id": "a958f14a",
   "metadata": {},
   "outputs": [
    {
     "name": "stdout",
     "output_type": "stream",
     "text": [
      "CPU times: total: 22.2 s\n",
      "Wall time: 16min 4s\n"
     ]
    }
   ],
   "source": [
    "%%time\n",
    "%%chime\n",
    "pipe_grid.fit(X_train, y_train)"
   ]
  },
  {
   "cell_type": "code",
   "execution_count": 22,
   "id": "3f15a1a1",
   "metadata": {},
   "outputs": [
    {
     "data": {
      "text/plain": [
       "-33.81402176681601"
      ]
     },
     "execution_count": 22,
     "metadata": {},
     "output_type": "execute_result"
    }
   ],
   "source": [
    "pipe_grid.best_score_"
   ]
  },
  {
   "cell_type": "code",
   "execution_count": 23,
   "id": "000952f8",
   "metadata": {},
   "outputs": [
    {
     "data": {
      "text/plain": [
       "{'prep__max_categories': 6}"
      ]
     },
     "execution_count": 23,
     "metadata": {},
     "output_type": "execute_result"
    }
   ],
   "source": [
    "pipe_grid.best_params_"
   ]
  },
  {
   "cell_type": "markdown",
   "id": "782fc363",
   "metadata": {},
   "source": [
    "Улучшения нет"
   ]
  },
  {
   "cell_type": "markdown",
   "id": "8f0da6b6",
   "metadata": {},
   "source": [
    "# Окончательная модель и прогноз"
   ]
  },
  {
   "cell_type": "code",
   "execution_count": 34,
   "id": "f7790d79",
   "metadata": {},
   "outputs": [
    {
     "name": "stdout",
     "output_type": "stream",
     "text": [
      "CPU times: total: 15.5 s\n",
      "Wall time: 3min 31s\n"
     ]
    }
   ],
   "source": [
    "%%time\n",
    "%%chime\n",
    "pipe.fit(X_train, y_train)"
   ]
  },
  {
   "cell_type": "code",
   "execution_count": 35,
   "id": "a3e97221",
   "metadata": {},
   "outputs": [],
   "source": [
    "y_pred_val = pipe.predict(X_val)"
   ]
  },
  {
   "cell_type": "code",
   "execution_count": 36,
   "id": "e4b190e5",
   "metadata": {},
   "outputs": [
    {
     "data": {
      "text/plain": [
       "33.678846077603616"
      ]
     },
     "execution_count": 36,
     "metadata": {},
     "output_type": "execute_result"
    }
   ],
   "source": [
    "mean_absolute_error(y_val, y_pred_val)"
   ]
  },
  {
   "cell_type": "code",
   "execution_count": 43,
   "id": "7cc16d91",
   "metadata": {
    "scrolled": true
   },
   "outputs": [
    {
     "data": {
      "text/plain": [
       "['best_model.joblib']"
      ]
     },
     "execution_count": 43,
     "metadata": {},
     "output_type": "execute_result"
    }
   ],
   "source": [
    "dump(pipe, 'best_model.joblib')"
   ]
  },
  {
   "cell_type": "code",
   "execution_count": null,
   "id": "4b62a647",
   "metadata": {},
   "outputs": [],
   "source": []
  },
  {
   "cell_type": "markdown",
   "id": "9bfe1449",
   "metadata": {},
   "source": [
    "### Прогноз на тестовой выборке"
   ]
  },
  {
   "cell_type": "code",
   "execution_count": 44,
   "id": "89ee4fab",
   "metadata": {
    "scrolled": true
   },
   "outputs": [
    {
     "data": {
      "text/html": [
       "<div>\n",
       "<style scoped>\n",
       "    .dataframe tbody tr th:only-of-type {\n",
       "        vertical-align: middle;\n",
       "    }\n",
       "\n",
       "    .dataframe tbody tr th {\n",
       "        vertical-align: top;\n",
       "    }\n",
       "\n",
       "    .dataframe thead th {\n",
       "        text-align: right;\n",
       "    }\n",
       "</style>\n",
       "<table border=\"1\" class=\"dataframe\">\n",
       "  <thead>\n",
       "    <tr style=\"text-align: right;\">\n",
       "      <th></th>\n",
       "      <th>name</th>\n",
       "      <th>summary</th>\n",
       "      <th>space</th>\n",
       "      <th>description</th>\n",
       "      <th>experiences_offered</th>\n",
       "      <th>neighborhood_overview</th>\n",
       "      <th>notes</th>\n",
       "      <th>transit</th>\n",
       "      <th>access</th>\n",
       "      <th>interaction</th>\n",
       "      <th>...</th>\n",
       "      <th>amenities</th>\n",
       "      <th>square_feet</th>\n",
       "      <th>security_deposit</th>\n",
       "      <th>cleaning_fee</th>\n",
       "      <th>guests_included</th>\n",
       "      <th>extra_people</th>\n",
       "      <th>minimum_nights</th>\n",
       "      <th>cancellation_policy</th>\n",
       "      <th>require_guest_profile_picture</th>\n",
       "      <th>require_guest_phone_verification</th>\n",
       "    </tr>\n",
       "    <tr>\n",
       "      <th>id</th>\n",
       "      <th></th>\n",
       "      <th></th>\n",
       "      <th></th>\n",
       "      <th></th>\n",
       "      <th></th>\n",
       "      <th></th>\n",
       "      <th></th>\n",
       "      <th></th>\n",
       "      <th></th>\n",
       "      <th></th>\n",
       "      <th></th>\n",
       "      <th></th>\n",
       "      <th></th>\n",
       "      <th></th>\n",
       "      <th></th>\n",
       "      <th></th>\n",
       "      <th></th>\n",
       "      <th></th>\n",
       "      <th></th>\n",
       "      <th></th>\n",
       "      <th></th>\n",
       "    </tr>\n",
       "  </thead>\n",
       "  <tbody>\n",
       "    <tr>\n",
       "      <th>24366684</th>\n",
       "      <td>Luxurious 2 Bed by Kings Road, Chelsea with Ga...</td>\n",
       "      <td>This stunning newly-refurbished 2 bedroom Chel...</td>\n",
       "      <td>Amenities:  - 24/7 guest support - Professiona...</td>\n",
       "      <td>This stunning newly-refurbished 2 bedroom Chel...</td>\n",
       "      <td>NaN</td>\n",
       "      <td>Two long high streets, King's Road and Fulham ...</td>\n",
       "      <td>NaN</td>\n",
       "      <td>The flat is just a 5 minute walk from Sloane S...</td>\n",
       "      <td>Guests will have access to the entire property...</td>\n",
       "      <td>My support team or I will be contactable by em...</td>\n",
       "      <td>...</td>\n",
       "      <td>{TV,Wifi,Kitchen,Heating,\"Family/kid friendly\"...</td>\n",
       "      <td>NaN</td>\n",
       "      <td>85.0</td>\n",
       "      <td>80.0</td>\n",
       "      <td>2</td>\n",
       "      <td>15.0</td>\n",
       "      <td>2</td>\n",
       "      <td>strict_14_with_grace_period</td>\n",
       "      <td>False</td>\n",
       "      <td>False</td>\n",
       "    </tr>\n",
       "    <tr>\n",
       "      <th>20329256</th>\n",
       "      <td>Fulham Chelsea Great Studio! HR1a</td>\n",
       "      <td>My place is close to Chelsea Football Ground. ...</td>\n",
       "      <td>cosy self contained studio - close to public t...</td>\n",
       "      <td>My place is close to Chelsea Football Ground. ...</td>\n",
       "      <td>NaN</td>\n",
       "      <td>Fulham is a cool, vibrant area with great shop...</td>\n",
       "      <td>NaN</td>\n",
       "      <td>very close to Fulham Broadway tube &amp; buses</td>\n",
       "      <td>NaN</td>\n",
       "      <td>happy to help</td>\n",
       "      <td>...</td>\n",
       "      <td>{TV,Wifi,Kitchen,\"Paid parking off premises\",H...</td>\n",
       "      <td>NaN</td>\n",
       "      <td>NaN</td>\n",
       "      <td>NaN</td>\n",
       "      <td>1</td>\n",
       "      <td>0.0</td>\n",
       "      <td>2</td>\n",
       "      <td>flexible</td>\n",
       "      <td>False</td>\n",
       "      <td>False</td>\n",
       "    </tr>\n",
       "    <tr>\n",
       "      <th>27087563</th>\n",
       "      <td>Smart Spacious Double Room with Kitchenette &amp; ...</td>\n",
       "      <td>A spacious double room with your own private b...</td>\n",
       "      <td>A bright sunny double room with a private bath...</td>\n",
       "      <td>A spacious double room with your own private b...</td>\n",
       "      <td>NaN</td>\n",
       "      <td>The house located in zone 2, in a quiet reside...</td>\n",
       "      <td>I have other listings in this house and you ha...</td>\n",
       "      <td>You can walk to Canary Wharf - 15 minutes. Pub...</td>\n",
       "      <td>Apart from your own room, there is also  a lar...</td>\n",
       "      <td>We work and live locally and are always availa...</td>\n",
       "      <td>...</td>\n",
       "      <td>{TV,Internet,Wifi,Kitchen,\"Buzzer/wireless int...</td>\n",
       "      <td>NaN</td>\n",
       "      <td>100.0</td>\n",
       "      <td>25.0</td>\n",
       "      <td>1</td>\n",
       "      <td>8.0</td>\n",
       "      <td>4</td>\n",
       "      <td>moderate</td>\n",
       "      <td>False</td>\n",
       "      <td>False</td>\n",
       "    </tr>\n",
       "    <tr>\n",
       "      <th>21995708</th>\n",
       "      <td>Beautiful 1 bedroom garden flat with lovely cat</td>\n",
       "      <td>Beautifully decorated and peaceful 1 bedroom f...</td>\n",
       "      <td>NaN</td>\n",
       "      <td>Beautifully decorated and peaceful 1 bedroom f...</td>\n",
       "      <td>NaN</td>\n",
       "      <td>The house is at the heart of London's next up ...</td>\n",
       "      <td>You will be sharing the space with our cat Kal...</td>\n",
       "      <td>15 minute walk to the Central Line and 20 minu...</td>\n",
       "      <td>NaN</td>\n",
       "      <td>NaN</td>\n",
       "      <td>...</td>\n",
       "      <td>{Wifi,Kitchen,Heating,\"Family/kid friendly\",\"S...</td>\n",
       "      <td>NaN</td>\n",
       "      <td>0.0</td>\n",
       "      <td>30.0</td>\n",
       "      <td>1</td>\n",
       "      <td>0.0</td>\n",
       "      <td>3</td>\n",
       "      <td>moderate</td>\n",
       "      <td>False</td>\n",
       "      <td>False</td>\n",
       "    </tr>\n",
       "    <tr>\n",
       "      <th>19372467</th>\n",
       "      <td>The Bolt Hole [440a, Fulham Road]</td>\n",
       "      <td>The Bolt Hole is a delightful 2 bedroom house ...</td>\n",
       "      <td>An unusual house, built in the 1960's, The Bol...</td>\n",
       "      <td>The Bolt Hole is a delightful 2 bedroom house ...</td>\n",
       "      <td>NaN</td>\n",
       "      <td>The Bolt Hole is located just off Fulham Broad...</td>\n",
       "      <td>NaN</td>\n",
       "      <td>NaN</td>\n",
       "      <td>Guests are free to use the washing machine and...</td>\n",
       "      <td>NaN</td>\n",
       "      <td>...</td>\n",
       "      <td>{TV,Wifi,Kitchen,\"Free parking on premises\",He...</td>\n",
       "      <td>NaN</td>\n",
       "      <td>NaN</td>\n",
       "      <td>NaN</td>\n",
       "      <td>1</td>\n",
       "      <td>0.0</td>\n",
       "      <td>2</td>\n",
       "      <td>flexible</td>\n",
       "      <td>False</td>\n",
       "      <td>False</td>\n",
       "    </tr>\n",
       "    <tr>\n",
       "      <th>...</th>\n",
       "      <td>...</td>\n",
       "      <td>...</td>\n",
       "      <td>...</td>\n",
       "      <td>...</td>\n",
       "      <td>...</td>\n",
       "      <td>...</td>\n",
       "      <td>...</td>\n",
       "      <td>...</td>\n",
       "      <td>...</td>\n",
       "      <td>...</td>\n",
       "      <td>...</td>\n",
       "      <td>...</td>\n",
       "      <td>...</td>\n",
       "      <td>...</td>\n",
       "      <td>...</td>\n",
       "      <td>...</td>\n",
       "      <td>...</td>\n",
       "      <td>...</td>\n",
       "      <td>...</td>\n",
       "      <td>...</td>\n",
       "      <td>...</td>\n",
       "    </tr>\n",
       "    <tr>\n",
       "      <th>19819730</th>\n",
       "      <td>Discover Shoreditch &amp; Hackney \"Pear\"</td>\n",
       "      <td>**** Instagram @host.tay **** The Old Nags Hea...</td>\n",
       "      <td>The apartment has recently been renovated so e...</td>\n",
       "      <td>**** Instagram @host.tay **** The Old Nags Hea...</td>\n",
       "      <td>NaN</td>\n",
       "      <td>The apartment is located in Bethnal Green a vi...</td>\n",
       "      <td>NaN</td>\n",
       "      <td>The room is in the perfect location for public...</td>\n",
       "      <td>Guests can check in anytime after 2pm.  At 2pm...</td>\n",
       "      <td>I'll be at the apartment most days from 11am t...</td>\n",
       "      <td>...</td>\n",
       "      <td>{Internet,Wifi,Kitchen,Heating,\"Family/kid fri...</td>\n",
       "      <td>NaN</td>\n",
       "      <td>0.0</td>\n",
       "      <td>27.0</td>\n",
       "      <td>2</td>\n",
       "      <td>15.0</td>\n",
       "      <td>2</td>\n",
       "      <td>strict_14_with_grace_period</td>\n",
       "      <td>False</td>\n",
       "      <td>False</td>\n",
       "    </tr>\n",
       "    <tr>\n",
       "      <th>27683820</th>\n",
       "      <td>56 Haldane Rd</td>\n",
       "      <td>Hello! I am the owner Erin J. Buchholz. Welcom...</td>\n",
       "      <td>NaN</td>\n",
       "      <td>Hello! I am the owner Erin J. Buchholz. Welcom...</td>\n",
       "      <td>NaN</td>\n",
       "      <td>NaN</td>\n",
       "      <td>NaN</td>\n",
       "      <td>NaN</td>\n",
       "      <td>NaN</td>\n",
       "      <td>NaN</td>\n",
       "      <td>...</td>\n",
       "      <td>{TV,Wifi,\"Air conditioning\",Kitchen,\"Free park...</td>\n",
       "      <td>NaN</td>\n",
       "      <td>NaN</td>\n",
       "      <td>NaN</td>\n",
       "      <td>1</td>\n",
       "      <td>0.0</td>\n",
       "      <td>1</td>\n",
       "      <td>flexible</td>\n",
       "      <td>False</td>\n",
       "      <td>False</td>\n",
       "    </tr>\n",
       "    <tr>\n",
       "      <th>21011115</th>\n",
       "      <td>A bright 2 bedroom flat in Islington</td>\n",
       "      <td>A sunny family home with a garden, 2 double be...</td>\n",
       "      <td>Our flat is homey, quiet and has a lovely priv...</td>\n",
       "      <td>A sunny family home with a garden, 2 double be...</td>\n",
       "      <td>NaN</td>\n",
       "      <td>The flat is on a residential street, off the m...</td>\n",
       "      <td>NaN</td>\n",
       "      <td>We are very well served for public transport t...</td>\n",
       "      <td>You will have full use of the entire flat incl...</td>\n",
       "      <td>We will contact you before your arrival to arr...</td>\n",
       "      <td>...</td>\n",
       "      <td>{TV,Wifi,Kitchen,Heating,\"Family/kid friendly\"...</td>\n",
       "      <td>NaN</td>\n",
       "      <td>198.0</td>\n",
       "      <td>45.0</td>\n",
       "      <td>2</td>\n",
       "      <td>10.0</td>\n",
       "      <td>2</td>\n",
       "      <td>moderate</td>\n",
       "      <td>False</td>\n",
       "      <td>False</td>\n",
       "    </tr>\n",
       "    <tr>\n",
       "      <th>29033913</th>\n",
       "      <td>Amazing Apartment Near Hyde Park &amp; Oxford Street</td>\n",
       "      <td>NaN</td>\n",
       "      <td>NaN</td>\n",
       "      <td>NaN</td>\n",
       "      <td>NaN</td>\n",
       "      <td>NaN</td>\n",
       "      <td>NaN</td>\n",
       "      <td>NaN</td>\n",
       "      <td>NaN</td>\n",
       "      <td>NaN</td>\n",
       "      <td>...</td>\n",
       "      <td>{TV,\"Cable TV\",Wifi,Kitchen,\"Pets allowed\",Ele...</td>\n",
       "      <td>NaN</td>\n",
       "      <td>200.0</td>\n",
       "      <td>50.0</td>\n",
       "      <td>1</td>\n",
       "      <td>0.0</td>\n",
       "      <td>2</td>\n",
       "      <td>strict_14_with_grace_period</td>\n",
       "      <td>False</td>\n",
       "      <td>False</td>\n",
       "    </tr>\n",
       "    <tr>\n",
       "      <th>27874952</th>\n",
       "      <td>Central London home near Clissold Park</td>\n",
       "      <td>Victorian house with a private bedroom &amp; bathr...</td>\n",
       "      <td>NaN</td>\n",
       "      <td>Victorian house with a private bedroom &amp; bathr...</td>\n",
       "      <td>NaN</td>\n",
       "      <td>NaN</td>\n",
       "      <td>NaN</td>\n",
       "      <td>NaN</td>\n",
       "      <td>NaN</td>\n",
       "      <td>NaN</td>\n",
       "      <td>...</td>\n",
       "      <td>{TV,Wifi,Kitchen,Breakfast,Heating,Washer,\"Smo...</td>\n",
       "      <td>NaN</td>\n",
       "      <td>NaN</td>\n",
       "      <td>NaN</td>\n",
       "      <td>1</td>\n",
       "      <td>0.0</td>\n",
       "      <td>2</td>\n",
       "      <td>strict_14_with_grace_period</td>\n",
       "      <td>False</td>\n",
       "      <td>False</td>\n",
       "    </tr>\n",
       "  </tbody>\n",
       "</table>\n",
       "<p>15545 rows × 41 columns</p>\n",
       "</div>"
      ],
      "text/plain": [
       "                                                       name  \\\n",
       "id                                                            \n",
       "24366684  Luxurious 2 Bed by Kings Road, Chelsea with Ga...   \n",
       "20329256                  Fulham Chelsea Great Studio! HR1a   \n",
       "27087563  Smart Spacious Double Room with Kitchenette & ...   \n",
       "21995708    Beautiful 1 bedroom garden flat with lovely cat   \n",
       "19372467                  The Bolt Hole [440a, Fulham Road]   \n",
       "...                                                     ...   \n",
       "19819730               Discover Shoreditch & Hackney \"Pear\"   \n",
       "27683820                                      56 Haldane Rd   \n",
       "21011115               A bright 2 bedroom flat in Islington   \n",
       "29033913   Amazing Apartment Near Hyde Park & Oxford Street   \n",
       "27874952             Central London home near Clissold Park   \n",
       "\n",
       "                                                    summary  \\\n",
       "id                                                            \n",
       "24366684  This stunning newly-refurbished 2 bedroom Chel...   \n",
       "20329256  My place is close to Chelsea Football Ground. ...   \n",
       "27087563  A spacious double room with your own private b...   \n",
       "21995708  Beautifully decorated and peaceful 1 bedroom f...   \n",
       "19372467  The Bolt Hole is a delightful 2 bedroom house ...   \n",
       "...                                                     ...   \n",
       "19819730  **** Instagram @host.tay **** The Old Nags Hea...   \n",
       "27683820  Hello! I am the owner Erin J. Buchholz. Welcom...   \n",
       "21011115  A sunny family home with a garden, 2 double be...   \n",
       "29033913                                                NaN   \n",
       "27874952  Victorian house with a private bedroom & bathr...   \n",
       "\n",
       "                                                      space  \\\n",
       "id                                                            \n",
       "24366684  Amenities:  - 24/7 guest support - Professiona...   \n",
       "20329256  cosy self contained studio - close to public t...   \n",
       "27087563  A bright sunny double room with a private bath...   \n",
       "21995708                                                NaN   \n",
       "19372467  An unusual house, built in the 1960's, The Bol...   \n",
       "...                                                     ...   \n",
       "19819730  The apartment has recently been renovated so e...   \n",
       "27683820                                                NaN   \n",
       "21011115  Our flat is homey, quiet and has a lovely priv...   \n",
       "29033913                                                NaN   \n",
       "27874952                                                NaN   \n",
       "\n",
       "                                                description  \\\n",
       "id                                                            \n",
       "24366684  This stunning newly-refurbished 2 bedroom Chel...   \n",
       "20329256  My place is close to Chelsea Football Ground. ...   \n",
       "27087563  A spacious double room with your own private b...   \n",
       "21995708  Beautifully decorated and peaceful 1 bedroom f...   \n",
       "19372467  The Bolt Hole is a delightful 2 bedroom house ...   \n",
       "...                                                     ...   \n",
       "19819730  **** Instagram @host.tay **** The Old Nags Hea...   \n",
       "27683820  Hello! I am the owner Erin J. Buchholz. Welcom...   \n",
       "21011115  A sunny family home with a garden, 2 double be...   \n",
       "29033913                                                NaN   \n",
       "27874952  Victorian house with a private bedroom & bathr...   \n",
       "\n",
       "         experiences_offered  \\\n",
       "id                             \n",
       "24366684                 NaN   \n",
       "20329256                 NaN   \n",
       "27087563                 NaN   \n",
       "21995708                 NaN   \n",
       "19372467                 NaN   \n",
       "...                      ...   \n",
       "19819730                 NaN   \n",
       "27683820                 NaN   \n",
       "21011115                 NaN   \n",
       "29033913                 NaN   \n",
       "27874952                 NaN   \n",
       "\n",
       "                                      neighborhood_overview  \\\n",
       "id                                                            \n",
       "24366684  Two long high streets, King's Road and Fulham ...   \n",
       "20329256  Fulham is a cool, vibrant area with great shop...   \n",
       "27087563  The house located in zone 2, in a quiet reside...   \n",
       "21995708  The house is at the heart of London's next up ...   \n",
       "19372467  The Bolt Hole is located just off Fulham Broad...   \n",
       "...                                                     ...   \n",
       "19819730  The apartment is located in Bethnal Green a vi...   \n",
       "27683820                                                NaN   \n",
       "21011115  The flat is on a residential street, off the m...   \n",
       "29033913                                                NaN   \n",
       "27874952                                                NaN   \n",
       "\n",
       "                                                      notes  \\\n",
       "id                                                            \n",
       "24366684                                                NaN   \n",
       "20329256                                                NaN   \n",
       "27087563  I have other listings in this house and you ha...   \n",
       "21995708  You will be sharing the space with our cat Kal...   \n",
       "19372467                                                NaN   \n",
       "...                                                     ...   \n",
       "19819730                                                NaN   \n",
       "27683820                                                NaN   \n",
       "21011115                                                NaN   \n",
       "29033913                                                NaN   \n",
       "27874952                                                NaN   \n",
       "\n",
       "                                                    transit  \\\n",
       "id                                                            \n",
       "24366684  The flat is just a 5 minute walk from Sloane S...   \n",
       "20329256         very close to Fulham Broadway tube & buses   \n",
       "27087563  You can walk to Canary Wharf - 15 minutes. Pub...   \n",
       "21995708  15 minute walk to the Central Line and 20 minu...   \n",
       "19372467                                                NaN   \n",
       "...                                                     ...   \n",
       "19819730  The room is in the perfect location for public...   \n",
       "27683820                                                NaN   \n",
       "21011115  We are very well served for public transport t...   \n",
       "29033913                                                NaN   \n",
       "27874952                                                NaN   \n",
       "\n",
       "                                                     access  \\\n",
       "id                                                            \n",
       "24366684  Guests will have access to the entire property...   \n",
       "20329256                                                NaN   \n",
       "27087563  Apart from your own room, there is also  a lar...   \n",
       "21995708                                                NaN   \n",
       "19372467  Guests are free to use the washing machine and...   \n",
       "...                                                     ...   \n",
       "19819730  Guests can check in anytime after 2pm.  At 2pm...   \n",
       "27683820                                                NaN   \n",
       "21011115  You will have full use of the entire flat incl...   \n",
       "29033913                                                NaN   \n",
       "27874952                                                NaN   \n",
       "\n",
       "                                                interaction  ...  \\\n",
       "id                                                           ...   \n",
       "24366684  My support team or I will be contactable by em...  ...   \n",
       "20329256                                      happy to help  ...   \n",
       "27087563  We work and live locally and are always availa...  ...   \n",
       "21995708                                                NaN  ...   \n",
       "19372467                                                NaN  ...   \n",
       "...                                                     ...  ...   \n",
       "19819730  I'll be at the apartment most days from 11am t...  ...   \n",
       "27683820                                                NaN  ...   \n",
       "21011115  We will contact you before your arrival to arr...  ...   \n",
       "29033913                                                NaN  ...   \n",
       "27874952                                                NaN  ...   \n",
       "\n",
       "                                                  amenities  square_feet  \\\n",
       "id                                                                         \n",
       "24366684  {TV,Wifi,Kitchen,Heating,\"Family/kid friendly\"...          NaN   \n",
       "20329256  {TV,Wifi,Kitchen,\"Paid parking off premises\",H...          NaN   \n",
       "27087563  {TV,Internet,Wifi,Kitchen,\"Buzzer/wireless int...          NaN   \n",
       "21995708  {Wifi,Kitchen,Heating,\"Family/kid friendly\",\"S...          NaN   \n",
       "19372467  {TV,Wifi,Kitchen,\"Free parking on premises\",He...          NaN   \n",
       "...                                                     ...          ...   \n",
       "19819730  {Internet,Wifi,Kitchen,Heating,\"Family/kid fri...          NaN   \n",
       "27683820  {TV,Wifi,\"Air conditioning\",Kitchen,\"Free park...          NaN   \n",
       "21011115  {TV,Wifi,Kitchen,Heating,\"Family/kid friendly\"...          NaN   \n",
       "29033913  {TV,\"Cable TV\",Wifi,Kitchen,\"Pets allowed\",Ele...          NaN   \n",
       "27874952  {TV,Wifi,Kitchen,Breakfast,Heating,Washer,\"Smo...          NaN   \n",
       "\n",
       "         security_deposit cleaning_fee guests_included extra_people  \\\n",
       "id                                                                    \n",
       "24366684             85.0         80.0               2         15.0   \n",
       "20329256              NaN          NaN               1          0.0   \n",
       "27087563            100.0         25.0               1          8.0   \n",
       "21995708              0.0         30.0               1          0.0   \n",
       "19372467              NaN          NaN               1          0.0   \n",
       "...                   ...          ...             ...          ...   \n",
       "19819730              0.0         27.0               2         15.0   \n",
       "27683820              NaN          NaN               1          0.0   \n",
       "21011115            198.0         45.0               2         10.0   \n",
       "29033913            200.0         50.0               1          0.0   \n",
       "27874952              NaN          NaN               1          0.0   \n",
       "\n",
       "         minimum_nights          cancellation_policy  \\\n",
       "id                                                     \n",
       "24366684              2  strict_14_with_grace_period   \n",
       "20329256              2                     flexible   \n",
       "27087563              4                     moderate   \n",
       "21995708              3                     moderate   \n",
       "19372467              2                     flexible   \n",
       "...                 ...                          ...   \n",
       "19819730              2  strict_14_with_grace_period   \n",
       "27683820              1                     flexible   \n",
       "21011115              2                     moderate   \n",
       "29033913              2  strict_14_with_grace_period   \n",
       "27874952              2  strict_14_with_grace_period   \n",
       "\n",
       "         require_guest_profile_picture require_guest_phone_verification  \n",
       "id                                                                       \n",
       "24366684                         False                            False  \n",
       "20329256                         False                            False  \n",
       "27087563                         False                            False  \n",
       "21995708                         False                            False  \n",
       "19372467                         False                            False  \n",
       "...                                ...                              ...  \n",
       "19819730                         False                            False  \n",
       "27683820                         False                            False  \n",
       "21011115                         False                            False  \n",
       "29033913                         False                            False  \n",
       "27874952                         False                            False  \n",
       "\n",
       "[15545 rows x 41 columns]"
      ]
     },
     "execution_count": 44,
     "metadata": {},
     "output_type": "execute_result"
    }
   ],
   "source": [
    "X_test = pd.read_csv('test.csv',\n",
    "                    index_col='id',\n",
    "                    true_values=['t'],\n",
    "                    false_values=['f'],\n",
    "                    na_values='none',\n",
    "                    parse_dates=['host_since'],\n",
    "                   low_memory=False)\n",
    "X_test"
   ]
  },
  {
   "cell_type": "code",
   "execution_count": 47,
   "id": "633c3d10",
   "metadata": {},
   "outputs": [
    {
     "name": "stdout",
     "output_type": "stream",
     "text": [
      "CPU times: total: 1.47 s\n",
      "Wall time: 21.1 s\n"
     ]
    }
   ],
   "source": [
    "%%time\n",
    "%%chime\n",
    "y_pred_test = pipe.predict(X_test)"
   ]
  },
  {
   "cell_type": "code",
   "execution_count": 48,
   "id": "aa64ecd7",
   "metadata": {},
   "outputs": [
    {
     "data": {
      "text/html": [
       "<div>\n",
       "<style scoped>\n",
       "    .dataframe tbody tr th:only-of-type {\n",
       "        vertical-align: middle;\n",
       "    }\n",
       "\n",
       "    .dataframe tbody tr th {\n",
       "        vertical-align: top;\n",
       "    }\n",
       "\n",
       "    .dataframe thead th {\n",
       "        text-align: right;\n",
       "    }\n",
       "</style>\n",
       "<table border=\"1\" class=\"dataframe\">\n",
       "  <thead>\n",
       "    <tr style=\"text-align: right;\">\n",
       "      <th></th>\n",
       "      <th>price</th>\n",
       "    </tr>\n",
       "    <tr>\n",
       "      <th>id</th>\n",
       "      <th></th>\n",
       "    </tr>\n",
       "  </thead>\n",
       "  <tbody>\n",
       "    <tr>\n",
       "      <th>24366684</th>\n",
       "      <td>161.703510</td>\n",
       "    </tr>\n",
       "    <tr>\n",
       "      <th>20329256</th>\n",
       "      <td>76.553143</td>\n",
       "    </tr>\n",
       "    <tr>\n",
       "      <th>27087563</th>\n",
       "      <td>45.162014</td>\n",
       "    </tr>\n",
       "    <tr>\n",
       "      <th>21995708</th>\n",
       "      <td>60.841133</td>\n",
       "    </tr>\n",
       "    <tr>\n",
       "      <th>19372467</th>\n",
       "      <td>125.670140</td>\n",
       "    </tr>\n",
       "    <tr>\n",
       "      <th>...</th>\n",
       "      <td>...</td>\n",
       "    </tr>\n",
       "    <tr>\n",
       "      <th>19819730</th>\n",
       "      <td>41.977211</td>\n",
       "    </tr>\n",
       "    <tr>\n",
       "      <th>27683820</th>\n",
       "      <td>120.984147</td>\n",
       "    </tr>\n",
       "    <tr>\n",
       "      <th>21011115</th>\n",
       "      <td>100.427615</td>\n",
       "    </tr>\n",
       "    <tr>\n",
       "      <th>29033913</th>\n",
       "      <td>173.214637</td>\n",
       "    </tr>\n",
       "    <tr>\n",
       "      <th>27874952</th>\n",
       "      <td>44.021567</td>\n",
       "    </tr>\n",
       "  </tbody>\n",
       "</table>\n",
       "<p>15545 rows × 1 columns</p>\n",
       "</div>"
      ],
      "text/plain": [
       "               price\n",
       "id                  \n",
       "24366684  161.703510\n",
       "20329256   76.553143\n",
       "27087563   45.162014\n",
       "21995708   60.841133\n",
       "19372467  125.670140\n",
       "...              ...\n",
       "19819730   41.977211\n",
       "27683820  120.984147\n",
       "21011115  100.427615\n",
       "29033913  173.214637\n",
       "27874952   44.021567\n",
       "\n",
       "[15545 rows x 1 columns]"
      ]
     },
     "execution_count": 48,
     "metadata": {},
     "output_type": "execute_result"
    }
   ],
   "source": [
    "y_pred_test = pd.DataFrame(y_pred_test, columns=['price'], index=X_test.index)\n",
    "y_pred_test"
   ]
  },
  {
   "cell_type": "code",
   "execution_count": 49,
   "id": "1c1c32db",
   "metadata": {},
   "outputs": [],
   "source": [
    "y_pred_test.to_csv('submission.csv')"
   ]
  },
  {
   "cell_type": "code",
   "execution_count": null,
   "id": "fe4935d7",
   "metadata": {},
   "outputs": [],
   "source": []
  },
  {
   "cell_type": "code",
   "execution_count": null,
   "id": "77137d8f",
   "metadata": {},
   "outputs": [],
   "source": []
  }
 ],
 "metadata": {
  "kernelspec": {
   "display_name": "Python 3 (ipykernel)",
   "language": "python",
   "name": "python3"
  },
  "language_info": {
   "codemirror_mode": {
    "name": "ipython",
    "version": 3
   },
   "file_extension": ".py",
   "mimetype": "text/x-python",
   "name": "python",
   "nbconvert_exporter": "python",
   "pygments_lexer": "ipython3",
   "version": "3.9.12"
  }
 },
 "nbformat": 4,
 "nbformat_minor": 5
}
