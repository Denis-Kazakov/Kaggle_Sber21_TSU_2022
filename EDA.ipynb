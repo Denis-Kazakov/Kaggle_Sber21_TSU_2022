{
 "cells": [
  {
   "cell_type": "markdown",
   "id": "97be2072",
   "metadata": {},
   "source": [
    "# Соревнование для учащися курса \"Специалист по работе с данными / Data Scientist\". Школа 21 СБЕР / Томский государственный университет"
   ]
  },
  {
   "cell_type": "markdown",
   "id": "4c5d0bb3",
   "metadata": {},
   "source": [
    "https://www.kaggle.com/competitions/sber-21-tgu-2022/data"
   ]
  },
  {
   "cell_type": "markdown",
   "id": "118adcf3",
   "metadata": {},
   "source": [
    "Задача - предсказать стоимость аренды квартир в Лондоне. Метрика - MAE."
   ]
  },
  {
   "cell_type": "markdown",
   "id": "68c29e09",
   "metadata": {},
   "source": [
    "# Предварительный анализ данных"
   ]
  },
  {
   "cell_type": "code",
   "execution_count": 2,
   "id": "c58bb04d",
   "metadata": {},
   "outputs": [],
   "source": [
    "import pandas as pd\n",
    "import numpy as np\n",
    "import re"
   ]
  },
  {
   "cell_type": "markdown",
   "id": "772c4fe2",
   "metadata": {},
   "source": [
    "# Calendar"
   ]
  },
  {
   "cell_type": "code",
   "execution_count": 2,
   "id": "abbebd11",
   "metadata": {},
   "outputs": [
    {
     "data": {
      "text/html": [
       "<div>\n",
       "<style scoped>\n",
       "    .dataframe tbody tr th:only-of-type {\n",
       "        vertical-align: middle;\n",
       "    }\n",
       "\n",
       "    .dataframe tbody tr th {\n",
       "        vertical-align: top;\n",
       "    }\n",
       "\n",
       "    .dataframe thead th {\n",
       "        text-align: right;\n",
       "    }\n",
       "</style>\n",
       "<table border=\"1\" class=\"dataframe\">\n",
       "  <thead>\n",
       "    <tr style=\"text-align: right;\">\n",
       "      <th></th>\n",
       "      <th>date</th>\n",
       "      <th>available</th>\n",
       "    </tr>\n",
       "    <tr>\n",
       "      <th>listing_id</th>\n",
       "      <th></th>\n",
       "      <th></th>\n",
       "    </tr>\n",
       "  </thead>\n",
       "  <tbody>\n",
       "    <tr>\n",
       "      <th>127860</th>\n",
       "      <td>2019-09-08</td>\n",
       "      <td>False</td>\n",
       "    </tr>\n",
       "    <tr>\n",
       "      <th>127860</th>\n",
       "      <td>2019-09-07</td>\n",
       "      <td>False</td>\n",
       "    </tr>\n",
       "    <tr>\n",
       "      <th>127860</th>\n",
       "      <td>2019-09-06</td>\n",
       "      <td>False</td>\n",
       "    </tr>\n",
       "    <tr>\n",
       "      <th>127860</th>\n",
       "      <td>2019-09-05</td>\n",
       "      <td>False</td>\n",
       "    </tr>\n",
       "    <tr>\n",
       "      <th>127860</th>\n",
       "      <td>2019-09-04</td>\n",
       "      <td>False</td>\n",
       "    </tr>\n",
       "    <tr>\n",
       "      <th>...</th>\n",
       "      <td>...</td>\n",
       "      <td>...</td>\n",
       "    </tr>\n",
       "    <tr>\n",
       "      <th>27182471</th>\n",
       "      <td>2018-11-09</td>\n",
       "      <td>False</td>\n",
       "    </tr>\n",
       "    <tr>\n",
       "      <th>27182471</th>\n",
       "      <td>2018-11-08</td>\n",
       "      <td>False</td>\n",
       "    </tr>\n",
       "    <tr>\n",
       "      <th>27182471</th>\n",
       "      <td>2018-11-07</td>\n",
       "      <td>False</td>\n",
       "    </tr>\n",
       "    <tr>\n",
       "      <th>27182471</th>\n",
       "      <td>2018-11-06</td>\n",
       "      <td>False</td>\n",
       "    </tr>\n",
       "    <tr>\n",
       "      <th>27182471</th>\n",
       "      <td>2018-11-05</td>\n",
       "      <td>False</td>\n",
       "    </tr>\n",
       "  </tbody>\n",
       "</table>\n",
       "<p>18912475 rows × 2 columns</p>\n",
       "</div>"
      ],
      "text/plain": [
       "                 date  available\n",
       "listing_id                      \n",
       "127860     2019-09-08      False\n",
       "127860     2019-09-07      False\n",
       "127860     2019-09-06      False\n",
       "127860     2019-09-05      False\n",
       "127860     2019-09-04      False\n",
       "...               ...        ...\n",
       "27182471   2018-11-09      False\n",
       "27182471   2018-11-08      False\n",
       "27182471   2018-11-07      False\n",
       "27182471   2018-11-06      False\n",
       "27182471   2018-11-05      False\n",
       "\n",
       "[18912475 rows x 2 columns]"
      ]
     },
     "execution_count": 2,
     "metadata": {},
     "output_type": "execute_result"
    }
   ],
   "source": [
    "calendar = pd.read_csv('calendar.csv',\n",
    "                      index_col='listing_id',\n",
    "                      true_values=['t'],\n",
    "                      false_values=['f'],\n",
    "                      parse_dates=['date'])\n",
    "calendar"
   ]
  },
  {
   "cell_type": "code",
   "execution_count": 3,
   "id": "0833de78",
   "metadata": {},
   "outputs": [
    {
     "data": {
      "text/plain": [
       "date\n",
       "365     51815\n",
       "dtype: int64"
      ]
     },
     "execution_count": 3,
     "metadata": {},
     "output_type": "execute_result"
    }
   ],
   "source": [
    "calendar.groupby('listing_id', as_index=True).agg({'date': 'count'}).value_counts()"
   ]
  },
  {
   "cell_type": "markdown",
   "id": "06a6deb7",
   "metadata": {},
   "source": [
    "Для каждого из 51815 объектов есть информация по 365 дням. "
   ]
  },
  {
   "cell_type": "code",
   "execution_count": 4,
   "id": "db713bd7",
   "metadata": {},
   "outputs": [
    {
     "data": {
      "text/plain": [
       "368"
      ]
     },
     "execution_count": 4,
     "metadata": {},
     "output_type": "execute_result"
    }
   ],
   "source": [
    "calendar.date.nunique()"
   ]
  },
  {
   "cell_type": "markdown",
   "id": "fb0da11d",
   "metadata": {},
   "source": [
    "Инервал для некоторых объектов слегка смещен."
   ]
  },
  {
   "cell_type": "code",
   "execution_count": 5,
   "id": "70988029",
   "metadata": {},
   "outputs": [
    {
     "data": {
      "text/html": [
       "<div>\n",
       "<style scoped>\n",
       "    .dataframe tbody tr th:only-of-type {\n",
       "        vertical-align: middle;\n",
       "    }\n",
       "\n",
       "    .dataframe tbody tr th {\n",
       "        vertical-align: top;\n",
       "    }\n",
       "\n",
       "    .dataframe thead th {\n",
       "        text-align: right;\n",
       "    }\n",
       "</style>\n",
       "<table border=\"1\" class=\"dataframe\">\n",
       "  <thead>\n",
       "    <tr style=\"text-align: right;\">\n",
       "      <th></th>\n",
       "      <th>available</th>\n",
       "    </tr>\n",
       "    <tr>\n",
       "      <th>date</th>\n",
       "      <th></th>\n",
       "    </tr>\n",
       "  </thead>\n",
       "  <tbody>\n",
       "    <tr>\n",
       "      <th>2018-11-04</th>\n",
       "      <td>6620</td>\n",
       "    </tr>\n",
       "    <tr>\n",
       "      <th>2018-11-05</th>\n",
       "      <td>51814</td>\n",
       "    </tr>\n",
       "    <tr>\n",
       "      <th>2018-11-06</th>\n",
       "      <td>51814</td>\n",
       "    </tr>\n",
       "    <tr>\n",
       "      <th>2018-11-07</th>\n",
       "      <td>51815</td>\n",
       "    </tr>\n",
       "    <tr>\n",
       "      <th>2018-11-08</th>\n",
       "      <td>51815</td>\n",
       "    </tr>\n",
       "    <tr>\n",
       "      <th>...</th>\n",
       "      <td>...</td>\n",
       "    </tr>\n",
       "    <tr>\n",
       "      <th>2019-11-02</th>\n",
       "      <td>51815</td>\n",
       "    </tr>\n",
       "    <tr>\n",
       "      <th>2019-11-03</th>\n",
       "      <td>51815</td>\n",
       "    </tr>\n",
       "    <tr>\n",
       "      <th>2019-11-04</th>\n",
       "      <td>45195</td>\n",
       "    </tr>\n",
       "    <tr>\n",
       "      <th>2019-11-05</th>\n",
       "      <td>1</td>\n",
       "    </tr>\n",
       "    <tr>\n",
       "      <th>2019-11-06</th>\n",
       "      <td>1</td>\n",
       "    </tr>\n",
       "  </tbody>\n",
       "</table>\n",
       "<p>368 rows × 1 columns</p>\n",
       "</div>"
      ],
      "text/plain": [
       "            available\n",
       "date                 \n",
       "2018-11-04       6620\n",
       "2018-11-05      51814\n",
       "2018-11-06      51814\n",
       "2018-11-07      51815\n",
       "2018-11-08      51815\n",
       "...               ...\n",
       "2019-11-02      51815\n",
       "2019-11-03      51815\n",
       "2019-11-04      45195\n",
       "2019-11-05          1\n",
       "2019-11-06          1\n",
       "\n",
       "[368 rows x 1 columns]"
      ]
     },
     "execution_count": 5,
     "metadata": {},
     "output_type": "execute_result"
    }
   ],
   "source": [
    "calendar.groupby('date', as_index=True).agg({'available': 'count'})"
   ]
  },
  {
   "cell_type": "code",
   "execution_count": 6,
   "id": "da91c139",
   "metadata": {},
   "outputs": [
    {
     "data": {
      "text/plain": [
       "available\n",
       "51815        362\n",
       "1              2\n",
       "51814          2\n",
       "6620           1\n",
       "45195          1\n",
       "dtype: int64"
      ]
     },
     "execution_count": 6,
     "metadata": {},
     "output_type": "execute_result"
    }
   ],
   "source": [
    "calendar.groupby('date', as_index=True).agg({'available': 'count'}).value_counts()"
   ]
  },
  {
   "cell_type": "markdown",
   "id": "e86e9424",
   "metadata": {},
   "source": [
    "Доля свободных объектов в зависимости от времени"
   ]
  },
  {
   "cell_type": "code",
   "execution_count": 7,
   "id": "389c1dce",
   "metadata": {},
   "outputs": [],
   "source": [
    "daily = calendar.groupby('date', as_index=True)\\\n",
    "    .agg({'available': 'sum'})"
   ]
  },
  {
   "cell_type": "code",
   "execution_count": 8,
   "id": "4ddde0c0",
   "metadata": {},
   "outputs": [
    {
     "data": {
      "text/html": [
       "<div>\n",
       "<style scoped>\n",
       "    .dataframe tbody tr th:only-of-type {\n",
       "        vertical-align: middle;\n",
       "    }\n",
       "\n",
       "    .dataframe tbody tr th {\n",
       "        vertical-align: top;\n",
       "    }\n",
       "\n",
       "    .dataframe thead th {\n",
       "        text-align: right;\n",
       "    }\n",
       "</style>\n",
       "<table border=\"1\" class=\"dataframe\">\n",
       "  <thead>\n",
       "    <tr style=\"text-align: right;\">\n",
       "      <th></th>\n",
       "      <th>available</th>\n",
       "    </tr>\n",
       "  </thead>\n",
       "  <tbody>\n",
       "    <tr>\n",
       "      <th>count</th>\n",
       "      <td>368.000000</td>\n",
       "    </tr>\n",
       "    <tr>\n",
       "      <th>mean</th>\n",
       "      <td>17066.657609</td>\n",
       "    </tr>\n",
       "    <tr>\n",
       "      <th>std</th>\n",
       "      <td>4132.356515</td>\n",
       "    </tr>\n",
       "    <tr>\n",
       "      <th>min</th>\n",
       "      <td>1.000000</td>\n",
       "    </tr>\n",
       "    <tr>\n",
       "      <th>25%</th>\n",
       "      <td>13985.000000</td>\n",
       "    </tr>\n",
       "    <tr>\n",
       "      <th>50%</th>\n",
       "      <td>14651.000000</td>\n",
       "    </tr>\n",
       "    <tr>\n",
       "      <th>75%</th>\n",
       "      <td>20203.250000</td>\n",
       "    </tr>\n",
       "    <tr>\n",
       "      <th>max</th>\n",
       "      <td>26652.000000</td>\n",
       "    </tr>\n",
       "  </tbody>\n",
       "</table>\n",
       "</div>"
      ],
      "text/plain": [
       "          available\n",
       "count    368.000000\n",
       "mean   17066.657609\n",
       "std     4132.356515\n",
       "min        1.000000\n",
       "25%    13985.000000\n",
       "50%    14651.000000\n",
       "75%    20203.250000\n",
       "max    26652.000000"
      ]
     },
     "execution_count": 8,
     "metadata": {},
     "output_type": "execute_result"
    }
   ],
   "source": [
    "daily.describe()"
   ]
  },
  {
   "cell_type": "code",
   "execution_count": 9,
   "id": "787019c1",
   "metadata": {},
   "outputs": [
    {
     "data": {
      "image/png": "[encoded data removed]",
      "text/plain": [
       "<Figure size 640x480 with 1 Axes>"
      ]
     },
     "metadata": {},
     "output_type": "display_data"
    }
   ],
   "source": [
    "daily.plot.line();"
   ]
  },
  {
   "cell_type": "markdown",
   "id": "2876eba9",
   "metadata": {},
   "source": [
    "Статистика по объектам"
   ]
  },
  {
   "cell_type": "code",
   "execution_count": 10,
   "id": "3aae62fa",
   "metadata": {},
   "outputs": [],
   "source": [
    "properties = calendar.groupby('listing_id').agg({'available': 'mean'})"
   ]
  },
  {
   "cell_type": "code",
   "execution_count": 11,
   "id": "9ba2c8fb",
   "metadata": {},
   "outputs": [
    {
     "data": {
      "text/html": [
       "<div>\n",
       "<style scoped>\n",
       "    .dataframe tbody tr th:only-of-type {\n",
       "        vertical-align: middle;\n",
       "    }\n",
       "\n",
       "    .dataframe tbody tr th {\n",
       "        vertical-align: top;\n",
       "    }\n",
       "\n",
       "    .dataframe thead th {\n",
       "        text-align: right;\n",
       "    }\n",
       "</style>\n",
       "<table border=\"1\" class=\"dataframe\">\n",
       "  <thead>\n",
       "    <tr style=\"text-align: right;\">\n",
       "      <th></th>\n",
       "      <th>available</th>\n",
       "    </tr>\n",
       "  </thead>\n",
       "  <tbody>\n",
       "    <tr>\n",
       "      <th>count</th>\n",
       "      <td>51815.000000</td>\n",
       "    </tr>\n",
       "    <tr>\n",
       "      <th>mean</th>\n",
       "      <td>0.332084</td>\n",
       "    </tr>\n",
       "    <tr>\n",
       "      <th>std</th>\n",
       "      <td>0.359442</td>\n",
       "    </tr>\n",
       "    <tr>\n",
       "      <th>min</th>\n",
       "      <td>0.000000</td>\n",
       "    </tr>\n",
       "    <tr>\n",
       "      <th>25%</th>\n",
       "      <td>0.000000</td>\n",
       "    </tr>\n",
       "    <tr>\n",
       "      <th>50%</th>\n",
       "      <td>0.191781</td>\n",
       "    </tr>\n",
       "    <tr>\n",
       "      <th>75%</th>\n",
       "      <td>0.632877</td>\n",
       "    </tr>\n",
       "    <tr>\n",
       "      <th>max</th>\n",
       "      <td>1.000000</td>\n",
       "    </tr>\n",
       "  </tbody>\n",
       "</table>\n",
       "</div>"
      ],
      "text/plain": [
       "          available\n",
       "count  51815.000000\n",
       "mean       0.332084\n",
       "std        0.359442\n",
       "min        0.000000\n",
       "25%        0.000000\n",
       "50%        0.191781\n",
       "75%        0.632877\n",
       "max        1.000000"
      ]
     },
     "execution_count": 11,
     "metadata": {},
     "output_type": "execute_result"
    }
   ],
   "source": [
    "properties.describe()"
   ]
  },
  {
   "cell_type": "code",
   "execution_count": 12,
   "id": "eababb03",
   "metadata": {},
   "outputs": [
    {
     "data": {
      "text/plain": [
       "<AxesSubplot:ylabel='Density'>"
      ]
     },
     "execution_count": 12,
     "metadata": {},
     "output_type": "execute_result"
    },
    {
     "data": {
      "image/png": "[encoded data removed]",
      "text/plain": [
       "<Figure size 640x480 with 1 Axes>"
      ]
     },
     "metadata": {},
     "output_type": "display_data"
    }
   ],
   "source": [
    "properties.plot.kde()"
   ]
  },
  {
   "cell_type": "markdown",
   "id": "14b75405",
   "metadata": {},
   "source": [
    "Явно видны \"плохие\" и \"хорошие\" объекты (и еще две промежуточные моды)."
   ]
  },
  {
   "cell_type": "code",
   "execution_count": 13,
   "id": "36568aef",
   "metadata": {},
   "outputs": [
    {
     "data": {
      "image/png": "[encoded data removed]",
      "text/plain": [
       "<Figure size 640x480 with 1 Axes>"
      ]
     },
     "metadata": {},
     "output_type": "display_data"
    }
   ],
   "source": [
    "properties.plot.hist(bins=50);"
   ]
  },
  {
   "cell_type": "markdown",
   "id": "c03876cb",
   "metadata": {},
   "source": [
    "Самое простое - использовать среднюю долю времени, когда объект был свободен, за год. Более сложный - придать больший вес времени, приближенному к концу года, хотя из условий задачи неизвестно, насколько близок этот год ко времени, на которое нужно дать прогноз. Поэтому пока использую средний показатель за год."
   ]
  },
  {
   "cell_type": "code",
   "execution_count": 14,
   "id": "429f887a",
   "metadata": {},
   "outputs": [
    {
     "data": {
      "text/html": [
       "<div>\n",
       "<style scoped>\n",
       "    .dataframe tbody tr th:only-of-type {\n",
       "        vertical-align: middle;\n",
       "    }\n",
       "\n",
       "    .dataframe tbody tr th {\n",
       "        vertical-align: top;\n",
       "    }\n",
       "\n",
       "    .dataframe thead th {\n",
       "        text-align: right;\n",
       "    }\n",
       "</style>\n",
       "<table border=\"1\" class=\"dataframe\">\n",
       "  <thead>\n",
       "    <tr style=\"text-align: right;\">\n",
       "      <th></th>\n",
       "      <th>available</th>\n",
       "    </tr>\n",
       "    <tr>\n",
       "      <th>listing_id</th>\n",
       "      <th></th>\n",
       "    </tr>\n",
       "  </thead>\n",
       "  <tbody>\n",
       "    <tr>\n",
       "      <th>127860</th>\n",
       "      <td>0.000000</td>\n",
       "    </tr>\n",
       "    <tr>\n",
       "      <th>325809</th>\n",
       "      <td>1.000000</td>\n",
       "    </tr>\n",
       "    <tr>\n",
       "      <th>429045</th>\n",
       "      <td>1.000000</td>\n",
       "    </tr>\n",
       "    <tr>\n",
       "      <th>473637</th>\n",
       "      <td>0.000000</td>\n",
       "    </tr>\n",
       "    <tr>\n",
       "      <th>533943</th>\n",
       "      <td>0.994521</td>\n",
       "    </tr>\n",
       "    <tr>\n",
       "      <th>...</th>\n",
       "      <td>...</td>\n",
       "    </tr>\n",
       "    <tr>\n",
       "      <th>29797787</th>\n",
       "      <td>0.547945</td>\n",
       "    </tr>\n",
       "    <tr>\n",
       "      <th>29797809</th>\n",
       "      <td>0.479452</td>\n",
       "    </tr>\n",
       "    <tr>\n",
       "      <th>29797854</th>\n",
       "      <td>0.093151</td>\n",
       "    </tr>\n",
       "    <tr>\n",
       "      <th>29797899</th>\n",
       "      <td>0.493151</td>\n",
       "    </tr>\n",
       "    <tr>\n",
       "      <th>29798497</th>\n",
       "      <td>0.161644</td>\n",
       "    </tr>\n",
       "  </tbody>\n",
       "</table>\n",
       "<p>51815 rows × 1 columns</p>\n",
       "</div>"
      ],
      "text/plain": [
       "            available\n",
       "listing_id           \n",
       "127860       0.000000\n",
       "325809       1.000000\n",
       "429045       1.000000\n",
       "473637       0.000000\n",
       "533943       0.994521\n",
       "...               ...\n",
       "29797787     0.547945\n",
       "29797809     0.479452\n",
       "29797854     0.093151\n",
       "29797899     0.493151\n",
       "29798497     0.161644\n",
       "\n",
       "[51815 rows x 1 columns]"
      ]
     },
     "execution_count": 14,
     "metadata": {},
     "output_type": "execute_result"
    }
   ],
   "source": [
    "properties"
   ]
  },
  {
   "cell_type": "code",
   "execution_count": 58,
   "id": "037eb1dc",
   "metadata": {},
   "outputs": [],
   "source": [
    "properties.to_csv('calendar_availability.csv')"
   ]
  },
  {
   "cell_type": "markdown",
   "id": "d41f2acc",
   "metadata": {},
   "source": [
    "# Отзывы"
   ]
  },
  {
   "cell_type": "code",
   "execution_count": 131,
   "id": "860eaca7",
   "metadata": {},
   "outputs": [
    {
     "data": {
      "text/html": [
       "<div>\n",
       "<style scoped>\n",
       "    .dataframe tbody tr th:only-of-type {\n",
       "        vertical-align: middle;\n",
       "    }\n",
       "\n",
       "    .dataframe tbody tr th {\n",
       "        vertical-align: top;\n",
       "    }\n",
       "\n",
       "    .dataframe thead th {\n",
       "        text-align: right;\n",
       "    }\n",
       "</style>\n",
       "<table border=\"1\" class=\"dataframe\">\n",
       "  <thead>\n",
       "    <tr style=\"text-align: right;\">\n",
       "      <th></th>\n",
       "      <th>listing_id</th>\n",
       "      <th>id</th>\n",
       "      <th>date</th>\n",
       "      <th>reviewer_id</th>\n",
       "      <th>reviewer_name</th>\n",
       "      <th>comments</th>\n",
       "    </tr>\n",
       "  </thead>\n",
       "  <tbody>\n",
       "    <tr>\n",
       "      <th>0</th>\n",
       "      <td>533943</td>\n",
       "      <td>16055746</td>\n",
       "      <td>2014-07-21</td>\n",
       "      <td>13007741</td>\n",
       "      <td>Paula</td>\n",
       "      <td>We were very happy with our stay at the Luxury...</td>\n",
       "    </tr>\n",
       "    <tr>\n",
       "      <th>1</th>\n",
       "      <td>882380</td>\n",
       "      <td>3619914</td>\n",
       "      <td>2013-02-26</td>\n",
       "      <td>3796804</td>\n",
       "      <td>Nancy</td>\n",
       "      <td>Safia's apartments are gorgeous! Brand new, im...</td>\n",
       "    </tr>\n",
       "    <tr>\n",
       "      <th>2</th>\n",
       "      <td>882380</td>\n",
       "      <td>8712673</td>\n",
       "      <td>2013-11-13</td>\n",
       "      <td>1812564</td>\n",
       "      <td>Barbara</td>\n",
       "      <td>Safia is an amazing hostess. She is attentive ...</td>\n",
       "    </tr>\n",
       "    <tr>\n",
       "      <th>3</th>\n",
       "      <td>882380</td>\n",
       "      <td>331776386</td>\n",
       "      <td>2018-10-03</td>\n",
       "      <td>27810796</td>\n",
       "      <td>Jessie</td>\n",
       "      <td>The host canceled this reservation 2 days befo...</td>\n",
       "    </tr>\n",
       "    <tr>\n",
       "      <th>4</th>\n",
       "      <td>1279956</td>\n",
       "      <td>5404576</td>\n",
       "      <td>2013-06-28</td>\n",
       "      <td>7004928</td>\n",
       "      <td>James</td>\n",
       "      <td>I really enjoyed staying at Julien’s place and...</td>\n",
       "    </tr>\n",
       "    <tr>\n",
       "      <th>...</th>\n",
       "      <td>...</td>\n",
       "      <td>...</td>\n",
       "      <td>...</td>\n",
       "      <td>...</td>\n",
       "      <td>...</td>\n",
       "      <td>...</td>\n",
       "    </tr>\n",
       "    <tr>\n",
       "      <th>501205</th>\n",
       "      <td>29735949</td>\n",
       "      <td>344807582</td>\n",
       "      <td>2018-11-04</td>\n",
       "      <td>27552372</td>\n",
       "      <td>Declan</td>\n",
       "      <td>Clean, spacious, stylish apartment close to ev...</td>\n",
       "    </tr>\n",
       "    <tr>\n",
       "      <th>501206</th>\n",
       "      <td>29736900</td>\n",
       "      <td>344387254</td>\n",
       "      <td>2018-11-03</td>\n",
       "      <td>109537206</td>\n",
       "      <td>Shazia</td>\n",
       "      <td>spotless clean flat with amazing view. the hos...</td>\n",
       "    </tr>\n",
       "    <tr>\n",
       "      <th>501207</th>\n",
       "      <td>29756033</td>\n",
       "      <td>344498174</td>\n",
       "      <td>2018-11-03</td>\n",
       "      <td>26000990</td>\n",
       "      <td>Andrea</td>\n",
       "      <td>The host canceled this reservation 55 days bef...</td>\n",
       "    </tr>\n",
       "    <tr>\n",
       "      <th>501208</th>\n",
       "      <td>29775194</td>\n",
       "      <td>345574439</td>\n",
       "      <td>2018-11-05</td>\n",
       "      <td>34546792</td>\n",
       "      <td>Robert</td>\n",
       "      <td>The host canceled this reservation 45 days bef...</td>\n",
       "    </tr>\n",
       "    <tr>\n",
       "      <th>501209</th>\n",
       "      <td>29793575</td>\n",
       "      <td>345445323</td>\n",
       "      <td>2018-11-05</td>\n",
       "      <td>111603523</td>\n",
       "      <td>Alex</td>\n",
       "      <td>The host canceled this reservation 53 days bef...</td>\n",
       "    </tr>\n",
       "  </tbody>\n",
       "</table>\n",
       "<p>501210 rows × 6 columns</p>\n",
       "</div>"
      ],
      "text/plain": [
       "        listing_id         id       date  reviewer_id reviewer_name  \\\n",
       "0           533943   16055746 2014-07-21     13007741         Paula   \n",
       "1           882380    3619914 2013-02-26      3796804         Nancy   \n",
       "2           882380    8712673 2013-11-13      1812564       Barbara   \n",
       "3           882380  331776386 2018-10-03     27810796        Jessie   \n",
       "4          1279956    5404576 2013-06-28      7004928         James   \n",
       "...            ...        ...        ...          ...           ...   \n",
       "501205    29735949  344807582 2018-11-04     27552372        Declan   \n",
       "501206    29736900  344387254 2018-11-03    109537206        Shazia   \n",
       "501207    29756033  344498174 2018-11-03     26000990        Andrea   \n",
       "501208    29775194  345574439 2018-11-05     34546792        Robert   \n",
       "501209    29793575  345445323 2018-11-05    111603523          Alex   \n",
       "\n",
       "                                                 comments  \n",
       "0       We were very happy with our stay at the Luxury...  \n",
       "1       Safia's apartments are gorgeous! Brand new, im...  \n",
       "2       Safia is an amazing hostess. She is attentive ...  \n",
       "3       The host canceled this reservation 2 days befo...  \n",
       "4       I really enjoyed staying at Julien’s place and...  \n",
       "...                                                   ...  \n",
       "501205  Clean, spacious, stylish apartment close to ev...  \n",
       "501206  spotless clean flat with amazing view. the hos...  \n",
       "501207  The host canceled this reservation 55 days bef...  \n",
       "501208  The host canceled this reservation 45 days bef...  \n",
       "501209  The host canceled this reservation 53 days bef...  \n",
       "\n",
       "[501210 rows x 6 columns]"
      ]
     },
     "execution_count": 131,
     "metadata": {},
     "output_type": "execute_result"
    }
   ],
   "source": [
    "reviews = pd.read_csv('reviews.csv',\n",
    "                      parse_dates=['date'])\n",
    "reviews"
   ]
  },
  {
   "cell_type": "code",
   "execution_count": 69,
   "id": "cc70a17d",
   "metadata": {},
   "outputs": [
    {
     "data": {
      "text/plain": [
       "'The host canceled this reservation 53 days before arrival. This is an automated posting.'"
      ]
     },
     "execution_count": 69,
     "metadata": {},
     "output_type": "execute_result"
    }
   ],
   "source": [
    "reviews.loc[501209, 'comments']"
   ]
  },
  {
   "cell_type": "code",
   "execution_count": 61,
   "id": "0ce63ede",
   "metadata": {},
   "outputs": [
    {
     "data": {
      "text/plain": [
       "listing_id        38220\n",
       "id               501194\n",
       "date               1054\n",
       "reviewer_id      437622\n",
       "reviewer_name     66921\n",
       "comments         478048\n",
       "dtype: int64"
      ]
     },
     "execution_count": 61,
     "metadata": {},
     "output_type": "execute_result"
    }
   ],
   "source": [
    "reviews.nunique()"
   ]
  },
  {
   "cell_type": "code",
   "execution_count": 65,
   "id": "758732b2",
   "metadata": {},
   "outputs": [
    {
     "data": {
      "text/plain": [
       "38220"
      ]
     },
     "execution_count": 65,
     "metadata": {},
     "output_type": "execute_result"
    }
   ],
   "source": [
    "len(set(calendar.index).intersection(reviews.listing_id))"
   ]
  },
  {
   "cell_type": "code",
   "execution_count": 90,
   "id": "698efa3a",
   "metadata": {},
   "outputs": [
    {
     "data": {
      "text/plain": [
       "True"
      ]
     },
     "execution_count": 90,
     "metadata": {},
     "output_type": "execute_result"
    }
   ],
   "source": [
    "set(reviews.listing_id).issubset(calendar.index)"
   ]
  },
  {
   "cell_type": "markdown",
   "id": "2a33777a",
   "metadata": {},
   "source": [
    "Объекты отзывов - подмножество объектов файла с календарными данными."
   ]
  },
  {
   "cell_type": "code",
   "execution_count": 102,
   "id": "51063b7e",
   "metadata": {},
   "outputs": [
    {
     "data": {
      "text/html": [
       "<div>\n",
       "<style scoped>\n",
       "    .dataframe tbody tr th:only-of-type {\n",
       "        vertical-align: middle;\n",
       "    }\n",
       "\n",
       "    .dataframe tbody tr th {\n",
       "        vertical-align: top;\n",
       "    }\n",
       "\n",
       "    .dataframe thead tr th {\n",
       "        text-align: left;\n",
       "    }\n",
       "\n",
       "    .dataframe thead tr:last-of-type th {\n",
       "        text-align: right;\n",
       "    }\n",
       "</style>\n",
       "<table border=\"1\" class=\"dataframe\">\n",
       "  <thead>\n",
       "    <tr>\n",
       "      <th></th>\n",
       "      <th colspan=\"3\" halign=\"left\">date</th>\n",
       "    </tr>\n",
       "    <tr>\n",
       "      <th></th>\n",
       "      <th>min</th>\n",
       "      <th>max</th>\n",
       "      <th>count</th>\n",
       "    </tr>\n",
       "    <tr>\n",
       "      <th>listing_id</th>\n",
       "      <th></th>\n",
       "      <th></th>\n",
       "      <th></th>\n",
       "    </tr>\n",
       "  </thead>\n",
       "  <tbody>\n",
       "    <tr>\n",
       "      <th>533943</th>\n",
       "      <td>2014-07-21</td>\n",
       "      <td>2014-07-21</td>\n",
       "      <td>1</td>\n",
       "    </tr>\n",
       "    <tr>\n",
       "      <th>882380</th>\n",
       "      <td>2013-02-26</td>\n",
       "      <td>2018-10-03</td>\n",
       "      <td>3</td>\n",
       "    </tr>\n",
       "    <tr>\n",
       "      <th>1279956</th>\n",
       "      <td>2013-06-28</td>\n",
       "      <td>2014-04-03</td>\n",
       "      <td>4</td>\n",
       "    </tr>\n",
       "    <tr>\n",
       "      <th>1665188</th>\n",
       "      <td>2015-07-15</td>\n",
       "      <td>2015-07-15</td>\n",
       "      <td>1</td>\n",
       "    </tr>\n",
       "    <tr>\n",
       "      <th>2617879</th>\n",
       "      <td>2015-08-04</td>\n",
       "      <td>2015-08-04</td>\n",
       "      <td>1</td>\n",
       "    </tr>\n",
       "    <tr>\n",
       "      <th>...</th>\n",
       "      <td>...</td>\n",
       "      <td>...</td>\n",
       "      <td>...</td>\n",
       "    </tr>\n",
       "    <tr>\n",
       "      <th>29735949</th>\n",
       "      <td>2018-11-04</td>\n",
       "      <td>2018-11-04</td>\n",
       "      <td>1</td>\n",
       "    </tr>\n",
       "    <tr>\n",
       "      <th>29736900</th>\n",
       "      <td>2018-11-03</td>\n",
       "      <td>2018-11-03</td>\n",
       "      <td>1</td>\n",
       "    </tr>\n",
       "    <tr>\n",
       "      <th>29756033</th>\n",
       "      <td>2018-11-03</td>\n",
       "      <td>2018-11-03</td>\n",
       "      <td>1</td>\n",
       "    </tr>\n",
       "    <tr>\n",
       "      <th>29775194</th>\n",
       "      <td>2018-11-05</td>\n",
       "      <td>2018-11-05</td>\n",
       "      <td>1</td>\n",
       "    </tr>\n",
       "    <tr>\n",
       "      <th>29793575</th>\n",
       "      <td>2018-11-05</td>\n",
       "      <td>2018-11-05</td>\n",
       "      <td>1</td>\n",
       "    </tr>\n",
       "  </tbody>\n",
       "</table>\n",
       "<p>38220 rows × 3 columns</p>\n",
       "</div>"
      ],
      "text/plain": [
       "                 date                 \n",
       "                  min        max count\n",
       "listing_id                            \n",
       "533943     2014-07-21 2014-07-21     1\n",
       "882380     2013-02-26 2018-10-03     3\n",
       "1279956    2013-06-28 2014-04-03     4\n",
       "1665188    2015-07-15 2015-07-15     1\n",
       "2617879    2015-08-04 2015-08-04     1\n",
       "...               ...        ...   ...\n",
       "29735949   2018-11-04 2018-11-04     1\n",
       "29736900   2018-11-03 2018-11-03     1\n",
       "29756033   2018-11-03 2018-11-03     1\n",
       "29775194   2018-11-05 2018-11-05     1\n",
       "29793575   2018-11-05 2018-11-05     1\n",
       "\n",
       "[38220 rows x 3 columns]"
      ]
     },
     "execution_count": 102,
     "metadata": {},
     "output_type": "execute_result"
    }
   ],
   "source": [
    "reviews.groupby('listing_id').agg({'date': ['min', 'max', 'count']})"
   ]
  },
  {
   "cell_type": "markdown",
   "id": "40ed07b8",
   "metadata": {},
   "source": [
    "Разные даты и интервалы, но, похоже, в основном короткие."
   ]
  },
  {
   "cell_type": "code",
   "execution_count": 103,
   "id": "c5c4f8dc",
   "metadata": {},
   "outputs": [
    {
     "data": {
      "text/plain": [
       "date\n",
       "1       6368\n",
       "2       4156\n",
       "3       3219\n",
       "4       2594\n",
       "5       2096\n",
       "        ... \n",
       "165        1\n",
       "148        1\n",
       "146        1\n",
       "143        1\n",
       "310        1\n",
       "Length: 200, dtype: int64"
      ]
     },
     "execution_count": 103,
     "metadata": {},
     "output_type": "execute_result"
    }
   ],
   "source": [
    "reviews.groupby('listing_id').agg({'date': 'count'}).value_counts()"
   ]
  },
  {
   "cell_type": "code",
   "execution_count": 105,
   "id": "056d9373",
   "metadata": {
    "scrolled": true
   },
   "outputs": [
    {
     "data": {
      "text/plain": [
       "<AxesSubplot:ylabel='Frequency'>"
      ]
     },
     "execution_count": 105,
     "metadata": {},
     "output_type": "execute_result"
    },
    {
     "data": {
      "image/png": "[encoded data removed]",
      "text/plain": [
       "<Figure size 640x480 with 1 Axes>"
      ]
     },
     "metadata": {},
     "output_type": "display_data"
    }
   ],
   "source": [
    "reviews.groupby('listing_id').agg({'date': 'count'}).plot.hist(bins=50)"
   ]
  },
  {
   "cell_type": "markdown",
   "id": "28f6095a",
   "metadata": {},
   "source": [
    "Рейтинга нет. Стандартные методы классификации текстов не подходят. Вероятно, можно как-то кластеризовать отзывы. В этой версии пока не делал. "
   ]
  },
  {
   "cell_type": "markdown",
   "id": "3e2ed85f",
   "metadata": {},
   "source": [
    "Видно, что есть шаблонный комментарий об отмене. По каждому объекту выделяю информацию о среднем числе отмен и среднем времени уведомления до заезда в случае отмены, а также число отзывов."
   ]
  },
  {
   "cell_type": "code",
   "execution_count": 132,
   "id": "2a49de5f",
   "metadata": {},
   "outputs": [
    {
     "data": {
      "text/html": [
       "<div>\n",
       "<style scoped>\n",
       "    .dataframe tbody tr th:only-of-type {\n",
       "        vertical-align: middle;\n",
       "    }\n",
       "\n",
       "    .dataframe tbody tr th {\n",
       "        vertical-align: top;\n",
       "    }\n",
       "\n",
       "    .dataframe thead th {\n",
       "        text-align: right;\n",
       "    }\n",
       "</style>\n",
       "<table border=\"1\" class=\"dataframe\">\n",
       "  <thead>\n",
       "    <tr style=\"text-align: right;\">\n",
       "      <th></th>\n",
       "      <th>listing_id</th>\n",
       "      <th>id</th>\n",
       "      <th>date</th>\n",
       "      <th>reviewer_id</th>\n",
       "      <th>reviewer_name</th>\n",
       "      <th>comments</th>\n",
       "      <th>canceled</th>\n",
       "    </tr>\n",
       "  </thead>\n",
       "  <tbody>\n",
       "    <tr>\n",
       "      <th>0</th>\n",
       "      <td>533943</td>\n",
       "      <td>16055746</td>\n",
       "      <td>2014-07-21</td>\n",
       "      <td>13007741</td>\n",
       "      <td>Paula</td>\n",
       "      <td>We were very happy with our stay at the Luxury...</td>\n",
       "      <td>False</td>\n",
       "    </tr>\n",
       "    <tr>\n",
       "      <th>1</th>\n",
       "      <td>882380</td>\n",
       "      <td>3619914</td>\n",
       "      <td>2013-02-26</td>\n",
       "      <td>3796804</td>\n",
       "      <td>Nancy</td>\n",
       "      <td>Safia's apartments are gorgeous! Brand new, im...</td>\n",
       "      <td>False</td>\n",
       "    </tr>\n",
       "    <tr>\n",
       "      <th>2</th>\n",
       "      <td>882380</td>\n",
       "      <td>8712673</td>\n",
       "      <td>2013-11-13</td>\n",
       "      <td>1812564</td>\n",
       "      <td>Barbara</td>\n",
       "      <td>Safia is an amazing hostess. She is attentive ...</td>\n",
       "      <td>False</td>\n",
       "    </tr>\n",
       "    <tr>\n",
       "      <th>3</th>\n",
       "      <td>882380</td>\n",
       "      <td>331776386</td>\n",
       "      <td>2018-10-03</td>\n",
       "      <td>27810796</td>\n",
       "      <td>Jessie</td>\n",
       "      <td>The host canceled this reservation 2 days befo...</td>\n",
       "      <td>True</td>\n",
       "    </tr>\n",
       "    <tr>\n",
       "      <th>4</th>\n",
       "      <td>1279956</td>\n",
       "      <td>5404576</td>\n",
       "      <td>2013-06-28</td>\n",
       "      <td>7004928</td>\n",
       "      <td>James</td>\n",
       "      <td>I really enjoyed staying at Julien’s place and...</td>\n",
       "      <td>False</td>\n",
       "    </tr>\n",
       "    <tr>\n",
       "      <th>...</th>\n",
       "      <td>...</td>\n",
       "      <td>...</td>\n",
       "      <td>...</td>\n",
       "      <td>...</td>\n",
       "      <td>...</td>\n",
       "      <td>...</td>\n",
       "      <td>...</td>\n",
       "    </tr>\n",
       "    <tr>\n",
       "      <th>501205</th>\n",
       "      <td>29735949</td>\n",
       "      <td>344807582</td>\n",
       "      <td>2018-11-04</td>\n",
       "      <td>27552372</td>\n",
       "      <td>Declan</td>\n",
       "      <td>Clean, spacious, stylish apartment close to ev...</td>\n",
       "      <td>False</td>\n",
       "    </tr>\n",
       "    <tr>\n",
       "      <th>501206</th>\n",
       "      <td>29736900</td>\n",
       "      <td>344387254</td>\n",
       "      <td>2018-11-03</td>\n",
       "      <td>109537206</td>\n",
       "      <td>Shazia</td>\n",
       "      <td>spotless clean flat with amazing view. the hos...</td>\n",
       "      <td>False</td>\n",
       "    </tr>\n",
       "    <tr>\n",
       "      <th>501207</th>\n",
       "      <td>29756033</td>\n",
       "      <td>344498174</td>\n",
       "      <td>2018-11-03</td>\n",
       "      <td>26000990</td>\n",
       "      <td>Andrea</td>\n",
       "      <td>The host canceled this reservation 55 days bef...</td>\n",
       "      <td>True</td>\n",
       "    </tr>\n",
       "    <tr>\n",
       "      <th>501208</th>\n",
       "      <td>29775194</td>\n",
       "      <td>345574439</td>\n",
       "      <td>2018-11-05</td>\n",
       "      <td>34546792</td>\n",
       "      <td>Robert</td>\n",
       "      <td>The host canceled this reservation 45 days bef...</td>\n",
       "      <td>True</td>\n",
       "    </tr>\n",
       "    <tr>\n",
       "      <th>501209</th>\n",
       "      <td>29793575</td>\n",
       "      <td>345445323</td>\n",
       "      <td>2018-11-05</td>\n",
       "      <td>111603523</td>\n",
       "      <td>Alex</td>\n",
       "      <td>The host canceled this reservation 53 days bef...</td>\n",
       "      <td>True</td>\n",
       "    </tr>\n",
       "  </tbody>\n",
       "</table>\n",
       "<p>501210 rows × 7 columns</p>\n",
       "</div>"
      ],
      "text/plain": [
       "        listing_id         id       date  reviewer_id reviewer_name  \\\n",
       "0           533943   16055746 2014-07-21     13007741         Paula   \n",
       "1           882380    3619914 2013-02-26      3796804         Nancy   \n",
       "2           882380    8712673 2013-11-13      1812564       Barbara   \n",
       "3           882380  331776386 2018-10-03     27810796        Jessie   \n",
       "4          1279956    5404576 2013-06-28      7004928         James   \n",
       "...            ...        ...        ...          ...           ...   \n",
       "501205    29735949  344807582 2018-11-04     27552372        Declan   \n",
       "501206    29736900  344387254 2018-11-03    109537206        Shazia   \n",
       "501207    29756033  344498174 2018-11-03     26000990        Andrea   \n",
       "501208    29775194  345574439 2018-11-05     34546792        Robert   \n",
       "501209    29793575  345445323 2018-11-05    111603523          Alex   \n",
       "\n",
       "                                                 comments canceled  \n",
       "0       We were very happy with our stay at the Luxury...    False  \n",
       "1       Safia's apartments are gorgeous! Brand new, im...    False  \n",
       "2       Safia is an amazing hostess. She is attentive ...    False  \n",
       "3       The host canceled this reservation 2 days befo...     True  \n",
       "4       I really enjoyed staying at Julien’s place and...    False  \n",
       "...                                                   ...      ...  \n",
       "501205  Clean, spacious, stylish apartment close to ev...    False  \n",
       "501206  spotless clean flat with amazing view. the hos...    False  \n",
       "501207  The host canceled this reservation 55 days bef...     True  \n",
       "501208  The host canceled this reservation 45 days bef...     True  \n",
       "501209  The host canceled this reservation 53 days bef...     True  \n",
       "\n",
       "[501210 rows x 7 columns]"
      ]
     },
     "execution_count": 132,
     "metadata": {},
     "output_type": "execute_result"
    }
   ],
   "source": [
    "reviews['canceled'] = reviews.comments.str.fullmatch('The host canceled this reservation \\d+ days before arrival. This is an automated posting.')\n",
    "reviews"
   ]
  },
  {
   "cell_type": "code",
   "execution_count": 136,
   "id": "5d42cf8c",
   "metadata": {},
   "outputs": [],
   "source": [
    "tmp = reviews.comments.str\\\n",
    ".extract('(?P<start>The host canceled this reservation )(?P<notice>\\d+)(?P<end> days before arrival. This is an automated posting.)',\n",
    "        expand=True)"
   ]
  },
  {
   "cell_type": "code",
   "execution_count": 140,
   "id": "449a9194",
   "metadata": {},
   "outputs": [
    {
     "data": {
      "text/plain": [
       "0         NaN\n",
       "1         NaN\n",
       "2         NaN\n",
       "3           2\n",
       "4         NaN\n",
       "         ... \n",
       "501205    NaN\n",
       "501206    NaN\n",
       "501207     55\n",
       "501208     45\n",
       "501209     53\n",
       "Name: notice, Length: 501210, dtype: object"
      ]
     },
     "execution_count": 140,
     "metadata": {},
     "output_type": "execute_result"
    }
   ],
   "source": [
    "tmp.notice.to"
   ]
  },
  {
   "cell_type": "code",
   "execution_count": 143,
   "id": "cf080133",
   "metadata": {},
   "outputs": [],
   "source": [
    "reviews['notice'] = tmp.notice.astype(float)"
   ]
  },
  {
   "cell_type": "code",
   "execution_count": 145,
   "id": "67c3287b",
   "metadata": {},
   "outputs": [
    {
     "data": {
      "text/plain": [
       "33.895029108822214"
      ]
     },
     "execution_count": 145,
     "metadata": {},
     "output_type": "execute_result"
    }
   ],
   "source": [
    "reviews.notice.mean()"
   ]
  },
  {
   "cell_type": "code",
   "execution_count": 147,
   "id": "03144763",
   "metadata": {},
   "outputs": [
    {
     "data": {
      "text/html": [
       "<div>\n",
       "<style scoped>\n",
       "    .dataframe tbody tr th:only-of-type {\n",
       "        vertical-align: middle;\n",
       "    }\n",
       "\n",
       "    .dataframe tbody tr th {\n",
       "        vertical-align: top;\n",
       "    }\n",
       "\n",
       "    .dataframe thead th {\n",
       "        text-align: right;\n",
       "    }\n",
       "</style>\n",
       "<table border=\"1\" class=\"dataframe\">\n",
       "  <thead>\n",
       "    <tr style=\"text-align: right;\">\n",
       "      <th></th>\n",
       "      <th>comments</th>\n",
       "      <th>canceled</th>\n",
       "      <th>notice</th>\n",
       "    </tr>\n",
       "    <tr>\n",
       "      <th>listing_id</th>\n",
       "      <th></th>\n",
       "      <th></th>\n",
       "      <th></th>\n",
       "    </tr>\n",
       "  </thead>\n",
       "  <tbody>\n",
       "    <tr>\n",
       "      <th>533943</th>\n",
       "      <td>1</td>\n",
       "      <td>0.000000</td>\n",
       "      <td>NaN</td>\n",
       "    </tr>\n",
       "    <tr>\n",
       "      <th>882380</th>\n",
       "      <td>3</td>\n",
       "      <td>0.333333</td>\n",
       "      <td>2.0</td>\n",
       "    </tr>\n",
       "    <tr>\n",
       "      <th>1279956</th>\n",
       "      <td>4</td>\n",
       "      <td>0.000000</td>\n",
       "      <td>NaN</td>\n",
       "    </tr>\n",
       "    <tr>\n",
       "      <th>1665188</th>\n",
       "      <td>1</td>\n",
       "      <td>0.000000</td>\n",
       "      <td>NaN</td>\n",
       "    </tr>\n",
       "    <tr>\n",
       "      <th>2617879</th>\n",
       "      <td>1</td>\n",
       "      <td>0.000000</td>\n",
       "      <td>NaN</td>\n",
       "    </tr>\n",
       "    <tr>\n",
       "      <th>...</th>\n",
       "      <td>...</td>\n",
       "      <td>...</td>\n",
       "      <td>...</td>\n",
       "    </tr>\n",
       "    <tr>\n",
       "      <th>29735949</th>\n",
       "      <td>1</td>\n",
       "      <td>0.000000</td>\n",
       "      <td>NaN</td>\n",
       "    </tr>\n",
       "    <tr>\n",
       "      <th>29736900</th>\n",
       "      <td>1</td>\n",
       "      <td>0.000000</td>\n",
       "      <td>NaN</td>\n",
       "    </tr>\n",
       "    <tr>\n",
       "      <th>29756033</th>\n",
       "      <td>1</td>\n",
       "      <td>1.000000</td>\n",
       "      <td>55.0</td>\n",
       "    </tr>\n",
       "    <tr>\n",
       "      <th>29775194</th>\n",
       "      <td>1</td>\n",
       "      <td>1.000000</td>\n",
       "      <td>45.0</td>\n",
       "    </tr>\n",
       "    <tr>\n",
       "      <th>29793575</th>\n",
       "      <td>1</td>\n",
       "      <td>1.000000</td>\n",
       "      <td>53.0</td>\n",
       "    </tr>\n",
       "  </tbody>\n",
       "</table>\n",
       "<p>38220 rows × 3 columns</p>\n",
       "</div>"
      ],
      "text/plain": [
       "            comments  canceled  notice\n",
       "listing_id                            \n",
       "533943             1  0.000000     NaN\n",
       "882380             3  0.333333     2.0\n",
       "1279956            4  0.000000     NaN\n",
       "1665188            1  0.000000     NaN\n",
       "2617879            1  0.000000     NaN\n",
       "...              ...       ...     ...\n",
       "29735949           1  0.000000     NaN\n",
       "29736900           1  0.000000     NaN\n",
       "29756033           1  1.000000    55.0\n",
       "29775194           1  1.000000    45.0\n",
       "29793575           1  1.000000    53.0\n",
       "\n",
       "[38220 rows x 3 columns]"
      ]
     },
     "execution_count": 147,
     "metadata": {},
     "output_type": "execute_result"
    }
   ],
   "source": [
    "reviews_stat = reviews.groupby('listing_id').agg({'comments': 'count', 'canceled': 'mean', 'notice': 'mean'})\n",
    "reviews_stat"
   ]
  },
  {
   "cell_type": "code",
   "execution_count": 148,
   "id": "2bd2583b",
   "metadata": {},
   "outputs": [
    {
     "data": {
      "text/plain": [
       "33.216307166177586"
      ]
     },
     "execution_count": 148,
     "metadata": {},
     "output_type": "execute_result"
    }
   ],
   "source": [
    "reviews_stat.notice.mean()"
   ]
  },
  {
   "cell_type": "code",
   "execution_count": 149,
   "id": "397719d1",
   "metadata": {},
   "outputs": [],
   "source": [
    "reviews_stat.to_csv('reviews_stat.csv')"
   ]
  },
  {
   "cell_type": "markdown",
   "id": "196666d4",
   "metadata": {},
   "source": [
    "# Main dataset"
   ]
  },
  {
   "cell_type": "code",
   "execution_count": 3,
   "id": "0d44a748",
   "metadata": {
    "scrolled": true
   },
   "outputs": [
    {
     "data": {
      "text/html": [
       "<div>\n",
       "<style scoped>\n",
       "    .dataframe tbody tr th:only-of-type {\n",
       "        vertical-align: middle;\n",
       "    }\n",
       "\n",
       "    .dataframe tbody tr th {\n",
       "        vertical-align: top;\n",
       "    }\n",
       "\n",
       "    .dataframe thead th {\n",
       "        text-align: right;\n",
       "    }\n",
       "</style>\n",
       "<table border=\"1\" class=\"dataframe\">\n",
       "  <thead>\n",
       "    <tr style=\"text-align: right;\">\n",
       "      <th></th>\n",
       "      <th>name</th>\n",
       "      <th>summary</th>\n",
       "      <th>space</th>\n",
       "      <th>description</th>\n",
       "      <th>experiences_offered</th>\n",
       "      <th>neighborhood_overview</th>\n",
       "      <th>notes</th>\n",
       "      <th>transit</th>\n",
       "      <th>access</th>\n",
       "      <th>interaction</th>\n",
       "      <th>...</th>\n",
       "      <th>square_feet</th>\n",
       "      <th>security_deposit</th>\n",
       "      <th>cleaning_fee</th>\n",
       "      <th>guests_included</th>\n",
       "      <th>extra_people</th>\n",
       "      <th>minimum_nights</th>\n",
       "      <th>cancellation_policy</th>\n",
       "      <th>require_guest_profile_picture</th>\n",
       "      <th>require_guest_phone_verification</th>\n",
       "      <th>price</th>\n",
       "    </tr>\n",
       "    <tr>\n",
       "      <th>id</th>\n",
       "      <th></th>\n",
       "      <th></th>\n",
       "      <th></th>\n",
       "      <th></th>\n",
       "      <th></th>\n",
       "      <th></th>\n",
       "      <th></th>\n",
       "      <th></th>\n",
       "      <th></th>\n",
       "      <th></th>\n",
       "      <th></th>\n",
       "      <th></th>\n",
       "      <th></th>\n",
       "      <th></th>\n",
       "      <th></th>\n",
       "      <th></th>\n",
       "      <th></th>\n",
       "      <th></th>\n",
       "      <th></th>\n",
       "      <th></th>\n",
       "      <th></th>\n",
       "    </tr>\n",
       "  </thead>\n",
       "  <tbody>\n",
       "    <tr>\n",
       "      <th>20145777</th>\n",
       "      <td>Double in a friendly house</td>\n",
       "      <td>A  double bedroom  in a cozy and modern apartm...</td>\n",
       "      <td>NaN</td>\n",
       "      <td>A  double bedroom  in a cozy and modern apartm...</td>\n",
       "      <td>none</td>\n",
       "      <td>NaN</td>\n",
       "      <td>NaN</td>\n",
       "      <td>NaN</td>\n",
       "      <td>NaN</td>\n",
       "      <td>NaN</td>\n",
       "      <td>...</td>\n",
       "      <td>NaN</td>\n",
       "      <td>NaN</td>\n",
       "      <td>NaN</td>\n",
       "      <td>1</td>\n",
       "      <td>0.0</td>\n",
       "      <td>1</td>\n",
       "      <td>flexible</td>\n",
       "      <td>False</td>\n",
       "      <td>False</td>\n",
       "      <td>90.0</td>\n",
       "    </tr>\n",
       "    <tr>\n",
       "      <th>22630537</th>\n",
       "      <td>London flat with great transport links</td>\n",
       "      <td>Light, airy and modern one bedroom flat 2 mins...</td>\n",
       "      <td>NaN</td>\n",
       "      <td>Light, airy and modern one bedroom flat 2 mins...</td>\n",
       "      <td>none</td>\n",
       "      <td>NaN</td>\n",
       "      <td>NaN</td>\n",
       "      <td>NaN</td>\n",
       "      <td>NaN</td>\n",
       "      <td>NaN</td>\n",
       "      <td>...</td>\n",
       "      <td>NaN</td>\n",
       "      <td>NaN</td>\n",
       "      <td>25.0</td>\n",
       "      <td>2</td>\n",
       "      <td>20.0</td>\n",
       "      <td>1</td>\n",
       "      <td>moderate</td>\n",
       "      <td>False</td>\n",
       "      <td>False</td>\n",
       "      <td>75.0</td>\n",
       "    </tr>\n",
       "    <tr>\n",
       "      <th>27355619</th>\n",
       "      <td>Studio Apartments, 5 mins to Kings Cross Station!</td>\n",
       "      <td>Based in high quality student accommodation, o...</td>\n",
       "      <td>What To Expect: * 16/17m2 Studio with modern f...</td>\n",
       "      <td>Based in high quality student accommodation, o...</td>\n",
       "      <td>none</td>\n",
       "      <td>As one of Central London’s most vibrant and ne...</td>\n",
       "      <td>• Do you have free WiFi? Yes we have super fas...</td>\n",
       "      <td>You will be in an incredible position for gett...</td>\n",
       "      <td>You will enjoy your own studio, with a private...</td>\n",
       "      <td>Our reception can help you out with anything y...</td>\n",
       "      <td>...</td>\n",
       "      <td>NaN</td>\n",
       "      <td>80.0</td>\n",
       "      <td>45.0</td>\n",
       "      <td>1</td>\n",
       "      <td>0.0</td>\n",
       "      <td>3</td>\n",
       "      <td>flexible</td>\n",
       "      <td>False</td>\n",
       "      <td>False</td>\n",
       "      <td>89.0</td>\n",
       "    </tr>\n",
       "    <tr>\n",
       "      <th>21011236</th>\n",
       "      <td>Big, Beautiful, Sunny, West Kensington TWIN Room</td>\n",
       "      <td>Big Beautiful, airy, West Kensington TWIN room...</td>\n",
       "      <td>This is a pretty terraced house in a great are...</td>\n",
       "      <td>Big Beautiful, airy, West Kensington TWIN room...</td>\n",
       "      <td>none</td>\n",
       "      <td>We’re in a fantastic location - close to many ...</td>\n",
       "      <td>We lay on a good breakfast that guests serve t...</td>\n",
       "      <td>NaN</td>\n",
       "      <td>The room is exclusively yours while you're her...</td>\n",
       "      <td>I'm Matthew and I live here with my son Alex. ...</td>\n",
       "      <td>...</td>\n",
       "      <td>NaN</td>\n",
       "      <td>NaN</td>\n",
       "      <td>12.0</td>\n",
       "      <td>1</td>\n",
       "      <td>11.0</td>\n",
       "      <td>1</td>\n",
       "      <td>moderate</td>\n",
       "      <td>False</td>\n",
       "      <td>False</td>\n",
       "      <td>60.0</td>\n",
       "    </tr>\n",
       "    <tr>\n",
       "      <th>24754494</th>\n",
       "      <td>Dashing 1BR in Bayswater by Sonder</td>\n",
       "      <td>At this Sonder, you'll love the chic decor, st...</td>\n",
       "      <td>Every booking is instantly confirmed. Every ca...</td>\n",
       "      <td>At this Sonder, you'll love the chic decor, st...</td>\n",
       "      <td>none</td>\n",
       "      <td>Your Sonder is in a beautiful dwelling, conver...</td>\n",
       "      <td>This Sonder does not have air conditioning, bu...</td>\n",
       "      <td>Your Sonder is located at the end of a cul-de-...</td>\n",
       "      <td>NaN</td>\n",
       "      <td>Our concierge is available by phone, email, or...</td>\n",
       "      <td>...</td>\n",
       "      <td>NaN</td>\n",
       "      <td>300.0</td>\n",
       "      <td>63.0</td>\n",
       "      <td>2</td>\n",
       "      <td>5.0</td>\n",
       "      <td>2</td>\n",
       "      <td>strict_14_with_grace_period</td>\n",
       "      <td>False</td>\n",
       "      <td>False</td>\n",
       "      <td>169.0</td>\n",
       "    </tr>\n",
       "    <tr>\n",
       "      <th>...</th>\n",
       "      <td>...</td>\n",
       "      <td>...</td>\n",
       "      <td>...</td>\n",
       "      <td>...</td>\n",
       "      <td>...</td>\n",
       "      <td>...</td>\n",
       "      <td>...</td>\n",
       "      <td>...</td>\n",
       "      <td>...</td>\n",
       "      <td>...</td>\n",
       "      <td>...</td>\n",
       "      <td>...</td>\n",
       "      <td>...</td>\n",
       "      <td>...</td>\n",
       "      <td>...</td>\n",
       "      <td>...</td>\n",
       "      <td>...</td>\n",
       "      <td>...</td>\n",
       "      <td>...</td>\n",
       "      <td>...</td>\n",
       "      <td>...</td>\n",
       "    </tr>\n",
       "    <tr>\n",
       "      <th>18151315</th>\n",
       "      <td>Sunny studio with private kitchen and bathroom</td>\n",
       "      <td>Quiet, sunny studio flat just minutes from the...</td>\n",
       "      <td>A small and very cosy flat with all necessary ...</td>\n",
       "      <td>Quiet, sunny studio flat just minutes from the...</td>\n",
       "      <td>none</td>\n",
       "      <td>Crystal Palace is a vibrant bohemian oasis sur...</td>\n",
       "      <td>NaN</td>\n",
       "      <td>2 mins to Gipsy Hill Rail,  direct links to Vi...</td>\n",
       "      <td>You have shared access through main front door...</td>\n",
       "      <td>I have an apartment manager who lives close by...</td>\n",
       "      <td>...</td>\n",
       "      <td>NaN</td>\n",
       "      <td>NaN</td>\n",
       "      <td>25.0</td>\n",
       "      <td>1</td>\n",
       "      <td>0.0</td>\n",
       "      <td>2</td>\n",
       "      <td>moderate</td>\n",
       "      <td>False</td>\n",
       "      <td>False</td>\n",
       "      <td>65.0</td>\n",
       "    </tr>\n",
       "    <tr>\n",
       "      <th>28105053</th>\n",
       "      <td>A comfy double room in modern flat ★ Haggerston</td>\n",
       "      <td>It's a double room for 2 guests.</td>\n",
       "      <td>NaN</td>\n",
       "      <td>It's a double room for 2 guests. I will be at ...</td>\n",
       "      <td>none</td>\n",
       "      <td>NaN</td>\n",
       "      <td>NaN</td>\n",
       "      <td>There is Haggerston overground station only 3 ...</td>\n",
       "      <td>NaN</td>\n",
       "      <td>I will be at the Airbnb to greet you and check...</td>\n",
       "      <td>...</td>\n",
       "      <td>NaN</td>\n",
       "      <td>0.0</td>\n",
       "      <td>10.0</td>\n",
       "      <td>1</td>\n",
       "      <td>10.0</td>\n",
       "      <td>2</td>\n",
       "      <td>strict_14_with_grace_period</td>\n",
       "      <td>False</td>\n",
       "      <td>False</td>\n",
       "      <td>31.0</td>\n",
       "    </tr>\n",
       "    <tr>\n",
       "      <th>26342100</th>\n",
       "      <td>Goldsborough House - Apartment London SW8</td>\n",
       "      <td>Spacious three bedroom flat, fantastic locatio...</td>\n",
       "      <td>NaN</td>\n",
       "      <td>Spacious three bedroom flat, fantastic locatio...</td>\n",
       "      <td>none</td>\n",
       "      <td>NaN</td>\n",
       "      <td>NaN</td>\n",
       "      <td>NaN</td>\n",
       "      <td>NaN</td>\n",
       "      <td>NaN</td>\n",
       "      <td>...</td>\n",
       "      <td>NaN</td>\n",
       "      <td>NaN</td>\n",
       "      <td>NaN</td>\n",
       "      <td>1</td>\n",
       "      <td>0.0</td>\n",
       "      <td>1</td>\n",
       "      <td>flexible</td>\n",
       "      <td>False</td>\n",
       "      <td>False</td>\n",
       "      <td>150.0</td>\n",
       "    </tr>\n",
       "    <tr>\n",
       "      <th>13833612</th>\n",
       "      <td>Modern and Luxurious 1 Bedroom Flat</td>\n",
       "      <td>You’ll love my place because of the ambiance, ...</td>\n",
       "      <td>This is a beautiful and comfortable one bedroo...</td>\n",
       "      <td>You’ll love my place because of the ambiance, ...</td>\n",
       "      <td>none</td>\n",
       "      <td>The are is central and well connected. For pub...</td>\n",
       "      <td>I expect people to treat the flat with respect...</td>\n",
       "      <td>Easy access to public transport (DLR, Overgrou...</td>\n",
       "      <td>Full access to all spaces. The flat is all you...</td>\n",
       "      <td>I am available to help via email / phone and c...</td>\n",
       "      <td>...</td>\n",
       "      <td>NaN</td>\n",
       "      <td>80.0</td>\n",
       "      <td>25.0</td>\n",
       "      <td>1</td>\n",
       "      <td>0.0</td>\n",
       "      <td>4</td>\n",
       "      <td>moderate</td>\n",
       "      <td>False</td>\n",
       "      <td>False</td>\n",
       "      <td>105.0</td>\n",
       "    </tr>\n",
       "    <tr>\n",
       "      <th>19640194</th>\n",
       "      <td>SunnyBay - Very Cosy and beautiful home</td>\n",
       "      <td>A fantastic two bedroom terraced house situate...</td>\n",
       "      <td>NaN</td>\n",
       "      <td>A fantastic two bedroom terraced house situate...</td>\n",
       "      <td>none</td>\n",
       "      <td>NaN</td>\n",
       "      <td>NaN</td>\n",
       "      <td>NaN</td>\n",
       "      <td>NaN</td>\n",
       "      <td>NaN</td>\n",
       "      <td>...</td>\n",
       "      <td>NaN</td>\n",
       "      <td>NaN</td>\n",
       "      <td>NaN</td>\n",
       "      <td>1</td>\n",
       "      <td>0.0</td>\n",
       "      <td>6</td>\n",
       "      <td>flexible</td>\n",
       "      <td>False</td>\n",
       "      <td>False</td>\n",
       "      <td>149.0</td>\n",
       "    </tr>\n",
       "  </tbody>\n",
       "</table>\n",
       "<p>36270 rows × 42 columns</p>\n",
       "</div>"
      ],
      "text/plain": [
       "                                                       name  \\\n",
       "id                                                            \n",
       "20145777                         Double in a friendly house   \n",
       "22630537             London flat with great transport links   \n",
       "27355619  Studio Apartments, 5 mins to Kings Cross Station!   \n",
       "21011236   Big, Beautiful, Sunny, West Kensington TWIN Room   \n",
       "24754494                 Dashing 1BR in Bayswater by Sonder   \n",
       "...                                                     ...   \n",
       "18151315     Sunny studio with private kitchen and bathroom   \n",
       "28105053    A comfy double room in modern flat ★ Haggerston   \n",
       "26342100          Goldsborough House - Apartment London SW8   \n",
       "13833612                Modern and Luxurious 1 Bedroom Flat   \n",
       "19640194            SunnyBay - Very Cosy and beautiful home   \n",
       "\n",
       "                                                    summary  \\\n",
       "id                                                            \n",
       "20145777  A  double bedroom  in a cozy and modern apartm...   \n",
       "22630537  Light, airy and modern one bedroom flat 2 mins...   \n",
       "27355619  Based in high quality student accommodation, o...   \n",
       "21011236  Big Beautiful, airy, West Kensington TWIN room...   \n",
       "24754494  At this Sonder, you'll love the chic decor, st...   \n",
       "...                                                     ...   \n",
       "18151315  Quiet, sunny studio flat just minutes from the...   \n",
       "28105053                   It's a double room for 2 guests.   \n",
       "26342100  Spacious three bedroom flat, fantastic locatio...   \n",
       "13833612  You’ll love my place because of the ambiance, ...   \n",
       "19640194  A fantastic two bedroom terraced house situate...   \n",
       "\n",
       "                                                      space  \\\n",
       "id                                                            \n",
       "20145777                                                NaN   \n",
       "22630537                                                NaN   \n",
       "27355619  What To Expect: * 16/17m2 Studio with modern f...   \n",
       "21011236  This is a pretty terraced house in a great are...   \n",
       "24754494  Every booking is instantly confirmed. Every ca...   \n",
       "...                                                     ...   \n",
       "18151315  A small and very cosy flat with all necessary ...   \n",
       "28105053                                                NaN   \n",
       "26342100                                                NaN   \n",
       "13833612  This is a beautiful and comfortable one bedroo...   \n",
       "19640194                                                NaN   \n",
       "\n",
       "                                                description  \\\n",
       "id                                                            \n",
       "20145777  A  double bedroom  in a cozy and modern apartm...   \n",
       "22630537  Light, airy and modern one bedroom flat 2 mins...   \n",
       "27355619  Based in high quality student accommodation, o...   \n",
       "21011236  Big Beautiful, airy, West Kensington TWIN room...   \n",
       "24754494  At this Sonder, you'll love the chic decor, st...   \n",
       "...                                                     ...   \n",
       "18151315  Quiet, sunny studio flat just minutes from the...   \n",
       "28105053  It's a double room for 2 guests. I will be at ...   \n",
       "26342100  Spacious three bedroom flat, fantastic locatio...   \n",
       "13833612  You’ll love my place because of the ambiance, ...   \n",
       "19640194  A fantastic two bedroom terraced house situate...   \n",
       "\n",
       "         experiences_offered  \\\n",
       "id                             \n",
       "20145777                none   \n",
       "22630537                none   \n",
       "27355619                none   \n",
       "21011236                none   \n",
       "24754494                none   \n",
       "...                      ...   \n",
       "18151315                none   \n",
       "28105053                none   \n",
       "26342100                none   \n",
       "13833612                none   \n",
       "19640194                none   \n",
       "\n",
       "                                      neighborhood_overview  \\\n",
       "id                                                            \n",
       "20145777                                                NaN   \n",
       "22630537                                                NaN   \n",
       "27355619  As one of Central London’s most vibrant and ne...   \n",
       "21011236  We’re in a fantastic location - close to many ...   \n",
       "24754494  Your Sonder is in a beautiful dwelling, conver...   \n",
       "...                                                     ...   \n",
       "18151315  Crystal Palace is a vibrant bohemian oasis sur...   \n",
       "28105053                                                NaN   \n",
       "26342100                                                NaN   \n",
       "13833612  The are is central and well connected. For pub...   \n",
       "19640194                                                NaN   \n",
       "\n",
       "                                                      notes  \\\n",
       "id                                                            \n",
       "20145777                                                NaN   \n",
       "22630537                                                NaN   \n",
       "27355619  • Do you have free WiFi? Yes we have super fas...   \n",
       "21011236  We lay on a good breakfast that guests serve t...   \n",
       "24754494  This Sonder does not have air conditioning, bu...   \n",
       "...                                                     ...   \n",
       "18151315                                                NaN   \n",
       "28105053                                                NaN   \n",
       "26342100                                                NaN   \n",
       "13833612  I expect people to treat the flat with respect...   \n",
       "19640194                                                NaN   \n",
       "\n",
       "                                                    transit  \\\n",
       "id                                                            \n",
       "20145777                                                NaN   \n",
       "22630537                                                NaN   \n",
       "27355619  You will be in an incredible position for gett...   \n",
       "21011236                                                NaN   \n",
       "24754494  Your Sonder is located at the end of a cul-de-...   \n",
       "...                                                     ...   \n",
       "18151315  2 mins to Gipsy Hill Rail,  direct links to Vi...   \n",
       "28105053  There is Haggerston overground station only 3 ...   \n",
       "26342100                                                NaN   \n",
       "13833612  Easy access to public transport (DLR, Overgrou...   \n",
       "19640194                                                NaN   \n",
       "\n",
       "                                                     access  \\\n",
       "id                                                            \n",
       "20145777                                                NaN   \n",
       "22630537                                                NaN   \n",
       "27355619  You will enjoy your own studio, with a private...   \n",
       "21011236  The room is exclusively yours while you're her...   \n",
       "24754494                                                NaN   \n",
       "...                                                     ...   \n",
       "18151315  You have shared access through main front door...   \n",
       "28105053                                                NaN   \n",
       "26342100                                                NaN   \n",
       "13833612  Full access to all spaces. The flat is all you...   \n",
       "19640194                                                NaN   \n",
       "\n",
       "                                                interaction  ... square_feet  \\\n",
       "id                                                           ...               \n",
       "20145777                                                NaN  ...         NaN   \n",
       "22630537                                                NaN  ...         NaN   \n",
       "27355619  Our reception can help you out with anything y...  ...         NaN   \n",
       "21011236  I'm Matthew and I live here with my son Alex. ...  ...         NaN   \n",
       "24754494  Our concierge is available by phone, email, or...  ...         NaN   \n",
       "...                                                     ...  ...         ...   \n",
       "18151315  I have an apartment manager who lives close by...  ...         NaN   \n",
       "28105053  I will be at the Airbnb to greet you and check...  ...         NaN   \n",
       "26342100                                                NaN  ...         NaN   \n",
       "13833612  I am available to help via email / phone and c...  ...         NaN   \n",
       "19640194                                                NaN  ...         NaN   \n",
       "\n",
       "          security_deposit cleaning_fee guests_included extra_people  \\\n",
       "id                                                                     \n",
       "20145777               NaN          NaN               1          0.0   \n",
       "22630537               NaN         25.0               2         20.0   \n",
       "27355619              80.0         45.0               1          0.0   \n",
       "21011236               NaN         12.0               1         11.0   \n",
       "24754494             300.0         63.0               2          5.0   \n",
       "...                    ...          ...             ...          ...   \n",
       "18151315               NaN         25.0               1          0.0   \n",
       "28105053               0.0         10.0               1         10.0   \n",
       "26342100               NaN          NaN               1          0.0   \n",
       "13833612              80.0         25.0               1          0.0   \n",
       "19640194               NaN          NaN               1          0.0   \n",
       "\n",
       "         minimum_nights          cancellation_policy  \\\n",
       "id                                                     \n",
       "20145777              1                     flexible   \n",
       "22630537              1                     moderate   \n",
       "27355619              3                     flexible   \n",
       "21011236              1                     moderate   \n",
       "24754494              2  strict_14_with_grace_period   \n",
       "...                 ...                          ...   \n",
       "18151315              2                     moderate   \n",
       "28105053              2  strict_14_with_grace_period   \n",
       "26342100              1                     flexible   \n",
       "13833612              4                     moderate   \n",
       "19640194              6                     flexible   \n",
       "\n",
       "         require_guest_profile_picture require_guest_phone_verification  price  \n",
       "id                                                                              \n",
       "20145777                         False                            False   90.0  \n",
       "22630537                         False                            False   75.0  \n",
       "27355619                         False                            False   89.0  \n",
       "21011236                         False                            False   60.0  \n",
       "24754494                         False                            False  169.0  \n",
       "...                                ...                              ...    ...  \n",
       "18151315                         False                            False   65.0  \n",
       "28105053                         False                            False   31.0  \n",
       "26342100                         False                            False  150.0  \n",
       "13833612                         False                            False  105.0  \n",
       "19640194                         False                            False  149.0  \n",
       "\n",
       "[36270 rows x 42 columns]"
      ]
     },
     "execution_count": 3,
     "metadata": {},
     "output_type": "execute_result"
    }
   ],
   "source": [
    "train = pd.read_csv('train.csv',\n",
    "                    index_col='id',\n",
    "                    true_values=['t'],\n",
    "                    false_values=['f'],\n",
    "                    parse_dates=['host_since'])\n",
    "train"
   ]
  },
  {
   "cell_type": "code",
   "execution_count": 11,
   "id": "5c442dbd",
   "metadata": {
    "scrolled": true
   },
   "outputs": [
    {
     "data": {
      "text/plain": [
       "name                                        object\n",
       "summary                                     object\n",
       "space                                       object\n",
       "description                                 object\n",
       "experiences_offered                         object\n",
       "neighborhood_overview                       object\n",
       "notes                                       object\n",
       "transit                                     object\n",
       "access                                      object\n",
       "interaction                                 object\n",
       "house_rules                                 object\n",
       "host_id                                      int64\n",
       "host_since                          datetime64[ns]\n",
       "host_about                                  object\n",
       "host_response_time                          object\n",
       "host_response_rate                          object\n",
       "host_is_superhost                           object\n",
       "host_has_profile_pic                        object\n",
       "host_identity_verified                      object\n",
       "neighbourhood_cleansed                      object\n",
       "zipcode                                     object\n",
       "latitude                                   float64\n",
       "longitude                                  float64\n",
       "is_location_exact                             bool\n",
       "property_type                               object\n",
       "room_type                                   object\n",
       "accommodates                                 int64\n",
       "bathrooms                                  float64\n",
       "bedrooms                                   float64\n",
       "beds                                       float64\n",
       "bed_type                                    object\n",
       "amenities                                   object\n",
       "square_feet                                float64\n",
       "security_deposit                           float64\n",
       "cleaning_fee                               float64\n",
       "guests_included                              int64\n",
       "extra_people                               float64\n",
       "minimum_nights                               int64\n",
       "cancellation_policy                         object\n",
       "require_guest_profile_picture                 bool\n",
       "require_guest_phone_verification              bool\n",
       "price                                      float64\n",
       "dtype: object"
      ]
     },
     "execution_count": 11,
     "metadata": {},
     "output_type": "execute_result"
    }
   ],
   "source": [
    "train.dtypes"
   ]
  },
  {
   "cell_type": "code",
   "execution_count": 28,
   "id": "680f6a87",
   "metadata": {},
   "outputs": [
    {
     "data": {
      "text/plain": [
       "name                                    4\n",
       "summary                              1264\n",
       "space                               12918\n",
       "description                           721\n",
       "experiences_offered                     0\n",
       "neighborhood_overview               15101\n",
       "notes                               22652\n",
       "transit                             15413\n",
       "access                              16399\n",
       "interaction                         17277\n",
       "house_rules                         16585\n",
       "host_id                                 0\n",
       "host_since                              6\n",
       "host_about                          16537\n",
       "host_response_time                  14507\n",
       "host_response_rate                  14508\n",
       "host_is_superhost                       6\n",
       "host_has_profile_pic                    6\n",
       "host_identity_verified                  6\n",
       "neighbourhood_cleansed                  0\n",
       "zipcode                              1020\n",
       "latitude                                0\n",
       "longitude                               0\n",
       "is_location_exact                       0\n",
       "property_type                           0\n",
       "room_type                               0\n",
       "accommodates                            0\n",
       "bathrooms                               1\n",
       "bedrooms                               15\n",
       "beds                                   50\n",
       "bed_type                                0\n",
       "amenities                               0\n",
       "square_feet                         36258\n",
       "security_deposit                    12545\n",
       "cleaning_fee                         9404\n",
       "guests_included                         0\n",
       "extra_people                            0\n",
       "minimum_nights                          0\n",
       "cancellation_policy                     0\n",
       "require_guest_profile_picture           0\n",
       "require_guest_phone_verification        0\n",
       "price                                   0\n",
       "dtype: int64"
      ]
     },
     "execution_count": 28,
     "metadata": {},
     "output_type": "execute_result"
    }
   ],
   "source": [
    "train.isna().sum(axis=0)"
   ]
  },
  {
   "cell_type": "markdown",
   "id": "c80ff0d6",
   "metadata": {},
   "source": [
    "## Numeric data"
   ]
  },
  {
   "cell_type": "code",
   "execution_count": 16,
   "id": "f3c1fa9c",
   "metadata": {
    "scrolled": true
   },
   "outputs": [
    {
     "data": {
      "text/plain": [
       "id\n",
       "20145777    141917708\n",
       "22630537     76064729\n",
       "27355619    205450683\n",
       "21011236    144406049\n",
       "24754494     12243051\n",
       "              ...    \n",
       "18151315     41146181\n",
       "28105053     58143804\n",
       "26342100     37766192\n",
       "13833612     16318656\n",
       "19640194     49851295\n",
       "Name: host_id, Length: 36270, dtype: int64"
      ]
     },
     "execution_count": 16,
     "metadata": {},
     "output_type": "execute_result"
    }
   ],
   "source": [
    "train.host_id"
   ]
  },
  {
   "cell_type": "markdown",
   "id": "2c5e4ae0",
   "metadata": {},
   "source": [
    "This feature will need to be deleted"
   ]
  },
  {
   "cell_type": "code",
   "execution_count": 17,
   "id": "6992705c",
   "metadata": {},
   "outputs": [
    {
     "data": {
      "text/plain": [
       "id\n",
       "20145777   2017-07-22\n",
       "22630537   2016-06-06\n",
       "27355619   2018-07-27\n",
       "21011236   2017-08-05\n",
       "24754494   2014-02-14\n",
       "              ...    \n",
       "18151315   2015-08-11\n",
       "28105053   2016-02-10\n",
       "26342100   2015-07-07\n",
       "13833612   2014-06-03\n",
       "19640194   2015-11-25\n",
       "Name: host_since, Length: 36270, dtype: datetime64[ns]"
      ]
     },
     "execution_count": 17,
     "metadata": {},
     "output_type": "execute_result"
    }
   ],
   "source": [
    "train.host_since"
   ]
  },
  {
   "cell_type": "code",
   "execution_count": 27,
   "id": "2976f87c",
   "metadata": {},
   "outputs": [
    {
     "data": {
      "text/plain": [
       "id\n",
       "20145777    1500681600000000000\n",
       "22630537    1465171200000000000\n",
       "27355619    1532649600000000000\n",
       "21011236    1501891200000000000\n",
       "24754494    1392336000000000000\n",
       "                   ...         \n",
       "18151315    1439251200000000000\n",
       "28105053    1455062400000000000\n",
       "26342100    1436227200000000000\n",
       "13833612    1401753600000000000\n",
       "19640194    1448409600000000000\n",
       "Name: host_since, Length: 36270, dtype: int64"
      ]
     },
     "execution_count": 27,
     "metadata": {},
     "output_type": "execute_result"
    }
   ],
   "source": [
    "train.host_since.astype(np.int64)"
   ]
  },
  {
   "cell_type": "code",
   "execution_count": 24,
   "id": "f037e278",
   "metadata": {
    "scrolled": true
   },
   "outputs": [
    {
     "data": {
      "text/plain": [
       "id\n",
       "20145777    1.0\n",
       "22630537    1.0\n",
       "27355619    0.0\n",
       "21011236    1.0\n",
       "24754494    1.0\n",
       "           ... \n",
       "18151315    0.0\n",
       "28105053    1.0\n",
       "26342100    3.0\n",
       "13833612    1.0\n",
       "19640194    2.0\n",
       "Name: bedrooms, Length: 36270, dtype: float64"
      ]
     },
     "execution_count": 24,
     "metadata": {},
     "output_type": "execute_result"
    }
   ],
   "source": [
    "train.bedrooms"
   ]
  },
  {
   "cell_type": "code",
   "execution_count": 30,
   "id": "c979a4a6",
   "metadata": {},
   "outputs": [
    {
     "data": {
      "text/html": [
       "<div>\n",
       "<style scoped>\n",
       "    .dataframe tbody tr th:only-of-type {\n",
       "        vertical-align: middle;\n",
       "    }\n",
       "\n",
       "    .dataframe tbody tr th {\n",
       "        vertical-align: top;\n",
       "    }\n",
       "\n",
       "    .dataframe thead th {\n",
       "        text-align: right;\n",
       "    }\n",
       "</style>\n",
       "<table border=\"1\" class=\"dataframe\">\n",
       "  <thead>\n",
       "    <tr style=\"text-align: right;\">\n",
       "      <th></th>\n",
       "      <th>host_id</th>\n",
       "      <th>latitude</th>\n",
       "      <th>longitude</th>\n",
       "      <th>accommodates</th>\n",
       "      <th>bathrooms</th>\n",
       "      <th>bedrooms</th>\n",
       "      <th>beds</th>\n",
       "      <th>square_feet</th>\n",
       "      <th>security_deposit</th>\n",
       "      <th>cleaning_fee</th>\n",
       "      <th>guests_included</th>\n",
       "      <th>extra_people</th>\n",
       "      <th>minimum_nights</th>\n",
       "      <th>price</th>\n",
       "    </tr>\n",
       "  </thead>\n",
       "  <tbody>\n",
       "    <tr>\n",
       "      <th>host_id</th>\n",
       "      <td>1.000000</td>\n",
       "      <td>-0.006615</td>\n",
       "      <td>0.011263</td>\n",
       "      <td>-0.019624</td>\n",
       "      <td>-0.009504</td>\n",
       "      <td>-0.051792</td>\n",
       "      <td>-0.006734</td>\n",
       "      <td>-0.433868</td>\n",
       "      <td>-0.070166</td>\n",
       "      <td>-0.043910</td>\n",
       "      <td>-0.030037</td>\n",
       "      <td>-0.022034</td>\n",
       "      <td>-0.017552</td>\n",
       "      <td>0.013515</td>\n",
       "    </tr>\n",
       "    <tr>\n",
       "      <th>latitude</th>\n",
       "      <td>-0.006615</td>\n",
       "      <td>1.000000</td>\n",
       "      <td>0.105108</td>\n",
       "      <td>-0.016835</td>\n",
       "      <td>-0.013759</td>\n",
       "      <td>-0.040405</td>\n",
       "      <td>-0.016949</td>\n",
       "      <td>-0.435876</td>\n",
       "      <td>-0.016497</td>\n",
       "      <td>-0.033283</td>\n",
       "      <td>-0.001636</td>\n",
       "      <td>-0.002695</td>\n",
       "      <td>0.004489</td>\n",
       "      <td>-0.013357</td>\n",
       "    </tr>\n",
       "    <tr>\n",
       "      <th>longitude</th>\n",
       "      <td>0.011263</td>\n",
       "      <td>0.105108</td>\n",
       "      <td>1.000000</td>\n",
       "      <td>-0.044382</td>\n",
       "      <td>-0.061475</td>\n",
       "      <td>-0.057461</td>\n",
       "      <td>-0.046625</td>\n",
       "      <td>-0.496011</td>\n",
       "      <td>-0.077984</td>\n",
       "      <td>-0.120341</td>\n",
       "      <td>-0.023878</td>\n",
       "      <td>0.013416</td>\n",
       "      <td>-0.009715</td>\n",
       "      <td>-0.062955</td>\n",
       "    </tr>\n",
       "    <tr>\n",
       "      <th>accommodates</th>\n",
       "      <td>-0.019624</td>\n",
       "      <td>-0.016835</td>\n",
       "      <td>-0.044382</td>\n",
       "      <td>1.000000</td>\n",
       "      <td>0.487429</td>\n",
       "      <td>0.758379</td>\n",
       "      <td>0.826739</td>\n",
       "      <td>0.271045</td>\n",
       "      <td>0.228556</td>\n",
       "      <td>0.512988</td>\n",
       "      <td>0.502067</td>\n",
       "      <td>0.123750</td>\n",
       "      <td>0.006191</td>\n",
       "      <td>0.329969</td>\n",
       "    </tr>\n",
       "    <tr>\n",
       "      <th>bathrooms</th>\n",
       "      <td>-0.009504</td>\n",
       "      <td>-0.013759</td>\n",
       "      <td>-0.061475</td>\n",
       "      <td>0.487429</td>\n",
       "      <td>1.000000</td>\n",
       "      <td>0.558504</td>\n",
       "      <td>0.485813</td>\n",
       "      <td>0.536934</td>\n",
       "      <td>0.240958</td>\n",
       "      <td>0.430132</td>\n",
       "      <td>0.276193</td>\n",
       "      <td>0.051565</td>\n",
       "      <td>0.023910</td>\n",
       "      <td>0.263401</td>\n",
       "    </tr>\n",
       "    <tr>\n",
       "      <th>bedrooms</th>\n",
       "      <td>-0.051792</td>\n",
       "      <td>-0.040405</td>\n",
       "      <td>-0.057461</td>\n",
       "      <td>0.758379</td>\n",
       "      <td>0.558504</td>\n",
       "      <td>1.000000</td>\n",
       "      <td>0.737262</td>\n",
       "      <td>0.519631</td>\n",
       "      <td>0.259121</td>\n",
       "      <td>0.534309</td>\n",
       "      <td>0.406395</td>\n",
       "      <td>0.076911</td>\n",
       "      <td>0.028180</td>\n",
       "      <td>0.303149</td>\n",
       "    </tr>\n",
       "    <tr>\n",
       "      <th>beds</th>\n",
       "      <td>-0.006734</td>\n",
       "      <td>-0.016949</td>\n",
       "      <td>-0.046625</td>\n",
       "      <td>0.826739</td>\n",
       "      <td>0.485813</td>\n",
       "      <td>0.737262</td>\n",
       "      <td>1.000000</td>\n",
       "      <td>0.005974</td>\n",
       "      <td>0.203778</td>\n",
       "      <td>0.445477</td>\n",
       "      <td>0.441785</td>\n",
       "      <td>0.099926</td>\n",
       "      <td>0.013325</td>\n",
       "      <td>0.275765</td>\n",
       "    </tr>\n",
       "    <tr>\n",
       "      <th>square_feet</th>\n",
       "      <td>-0.433868</td>\n",
       "      <td>-0.435876</td>\n",
       "      <td>-0.496011</td>\n",
       "      <td>0.271045</td>\n",
       "      <td>0.536934</td>\n",
       "      <td>0.519631</td>\n",
       "      <td>0.005974</td>\n",
       "      <td>1.000000</td>\n",
       "      <td>0.788211</td>\n",
       "      <td>0.749110</td>\n",
       "      <td>-0.040329</td>\n",
       "      <td>0.114839</td>\n",
       "      <td>0.659296</td>\n",
       "      <td>0.707686</td>\n",
       "    </tr>\n",
       "    <tr>\n",
       "      <th>security_deposit</th>\n",
       "      <td>-0.070166</td>\n",
       "      <td>-0.016497</td>\n",
       "      <td>-0.077984</td>\n",
       "      <td>0.228556</td>\n",
       "      <td>0.240958</td>\n",
       "      <td>0.259121</td>\n",
       "      <td>0.203778</td>\n",
       "      <td>0.788211</td>\n",
       "      <td>1.000000</td>\n",
       "      <td>0.355245</td>\n",
       "      <td>0.147298</td>\n",
       "      <td>0.093745</td>\n",
       "      <td>0.135433</td>\n",
       "      <td>0.312777</td>\n",
       "    </tr>\n",
       "    <tr>\n",
       "      <th>cleaning_fee</th>\n",
       "      <td>-0.043910</td>\n",
       "      <td>-0.033283</td>\n",
       "      <td>-0.120341</td>\n",
       "      <td>0.512988</td>\n",
       "      <td>0.430132</td>\n",
       "      <td>0.534309</td>\n",
       "      <td>0.445477</td>\n",
       "      <td>0.749110</td>\n",
       "      <td>0.355245</td>\n",
       "      <td>1.000000</td>\n",
       "      <td>0.383496</td>\n",
       "      <td>0.029282</td>\n",
       "      <td>0.079605</td>\n",
       "      <td>0.420129</td>\n",
       "    </tr>\n",
       "    <tr>\n",
       "      <th>guests_included</th>\n",
       "      <td>-0.030037</td>\n",
       "      <td>-0.001636</td>\n",
       "      <td>-0.023878</td>\n",
       "      <td>0.502067</td>\n",
       "      <td>0.276193</td>\n",
       "      <td>0.406395</td>\n",
       "      <td>0.441785</td>\n",
       "      <td>-0.040329</td>\n",
       "      <td>0.147298</td>\n",
       "      <td>0.383496</td>\n",
       "      <td>1.000000</td>\n",
       "      <td>0.308293</td>\n",
       "      <td>-0.016140</td>\n",
       "      <td>0.189788</td>\n",
       "    </tr>\n",
       "    <tr>\n",
       "      <th>extra_people</th>\n",
       "      <td>-0.022034</td>\n",
       "      <td>-0.002695</td>\n",
       "      <td>0.013416</td>\n",
       "      <td>0.123750</td>\n",
       "      <td>0.051565</td>\n",
       "      <td>0.076911</td>\n",
       "      <td>0.099926</td>\n",
       "      <td>0.114839</td>\n",
       "      <td>0.093745</td>\n",
       "      <td>0.029282</td>\n",
       "      <td>0.308293</td>\n",
       "      <td>1.000000</td>\n",
       "      <td>-0.018369</td>\n",
       "      <td>0.063016</td>\n",
       "    </tr>\n",
       "    <tr>\n",
       "      <th>minimum_nights</th>\n",
       "      <td>-0.017552</td>\n",
       "      <td>0.004489</td>\n",
       "      <td>-0.009715</td>\n",
       "      <td>0.006191</td>\n",
       "      <td>0.023910</td>\n",
       "      <td>0.028180</td>\n",
       "      <td>0.013325</td>\n",
       "      <td>0.659296</td>\n",
       "      <td>0.135433</td>\n",
       "      <td>0.079605</td>\n",
       "      <td>-0.016140</td>\n",
       "      <td>-0.018369</td>\n",
       "      <td>1.000000</td>\n",
       "      <td>0.021658</td>\n",
       "    </tr>\n",
       "    <tr>\n",
       "      <th>price</th>\n",
       "      <td>0.013515</td>\n",
       "      <td>-0.013357</td>\n",
       "      <td>-0.062955</td>\n",
       "      <td>0.329969</td>\n",
       "      <td>0.263401</td>\n",
       "      <td>0.303149</td>\n",
       "      <td>0.275765</td>\n",
       "      <td>0.707686</td>\n",
       "      <td>0.312777</td>\n",
       "      <td>0.420129</td>\n",
       "      <td>0.189788</td>\n",
       "      <td>0.063016</td>\n",
       "      <td>0.021658</td>\n",
       "      <td>1.000000</td>\n",
       "    </tr>\n",
       "  </tbody>\n",
       "</table>\n",
       "</div>"
      ],
      "text/plain": [
       "                   host_id  latitude  longitude  accommodates  bathrooms  \\\n",
       "host_id           1.000000 -0.006615   0.011263     -0.019624  -0.009504   \n",
       "latitude         -0.006615  1.000000   0.105108     -0.016835  -0.013759   \n",
       "longitude         0.011263  0.105108   1.000000     -0.044382  -0.061475   \n",
       "accommodates     -0.019624 -0.016835  -0.044382      1.000000   0.487429   \n",
       "bathrooms        -0.009504 -0.013759  -0.061475      0.487429   1.000000   \n",
       "bedrooms         -0.051792 -0.040405  -0.057461      0.758379   0.558504   \n",
       "beds             -0.006734 -0.016949  -0.046625      0.826739   0.485813   \n",
       "square_feet      -0.433868 -0.435876  -0.496011      0.271045   0.536934   \n",
       "security_deposit -0.070166 -0.016497  -0.077984      0.228556   0.240958   \n",
       "cleaning_fee     -0.043910 -0.033283  -0.120341      0.512988   0.430132   \n",
       "guests_included  -0.030037 -0.001636  -0.023878      0.502067   0.276193   \n",
       "extra_people     -0.022034 -0.002695   0.013416      0.123750   0.051565   \n",
       "minimum_nights   -0.017552  0.004489  -0.009715      0.006191   0.023910   \n",
       "price             0.013515 -0.013357  -0.062955      0.329969   0.263401   \n",
       "\n",
       "                  bedrooms      beds  square_feet  security_deposit  \\\n",
       "host_id          -0.051792 -0.006734    -0.433868         -0.070166   \n",
       "latitude         -0.040405 -0.016949    -0.435876         -0.016497   \n",
       "longitude        -0.057461 -0.046625    -0.496011         -0.077984   \n",
       "accommodates      0.758379  0.826739     0.271045          0.228556   \n",
       "bathrooms         0.558504  0.485813     0.536934          0.240958   \n",
       "bedrooms          1.000000  0.737262     0.519631          0.259121   \n",
       "beds              0.737262  1.000000     0.005974          0.203778   \n",
       "square_feet       0.519631  0.005974     1.000000          0.788211   \n",
       "security_deposit  0.259121  0.203778     0.788211          1.000000   \n",
       "cleaning_fee      0.534309  0.445477     0.749110          0.355245   \n",
       "guests_included   0.406395  0.441785    -0.040329          0.147298   \n",
       "extra_people      0.076911  0.099926     0.114839          0.093745   \n",
       "minimum_nights    0.028180  0.013325     0.659296          0.135433   \n",
       "price             0.303149  0.275765     0.707686          0.312777   \n",
       "\n",
       "                  cleaning_fee  guests_included  extra_people  minimum_nights  \\\n",
       "host_id              -0.043910        -0.030037     -0.022034       -0.017552   \n",
       "latitude             -0.033283        -0.001636     -0.002695        0.004489   \n",
       "longitude            -0.120341        -0.023878      0.013416       -0.009715   \n",
       "accommodates          0.512988         0.502067      0.123750        0.006191   \n",
       "bathrooms             0.430132         0.276193      0.051565        0.023910   \n",
       "bedrooms              0.534309         0.406395      0.076911        0.028180   \n",
       "beds                  0.445477         0.441785      0.099926        0.013325   \n",
       "square_feet           0.749110        -0.040329      0.114839        0.659296   \n",
       "security_deposit      0.355245         0.147298      0.093745        0.135433   \n",
       "cleaning_fee          1.000000         0.383496      0.029282        0.079605   \n",
       "guests_included       0.383496         1.000000      0.308293       -0.016140   \n",
       "extra_people          0.029282         0.308293      1.000000       -0.018369   \n",
       "minimum_nights        0.079605        -0.016140     -0.018369        1.000000   \n",
       "price                 0.420129         0.189788      0.063016        0.021658   \n",
       "\n",
       "                     price  \n",
       "host_id           0.013515  \n",
       "latitude         -0.013357  \n",
       "longitude        -0.062955  \n",
       "accommodates      0.329969  \n",
       "bathrooms         0.263401  \n",
       "bedrooms          0.303149  \n",
       "beds              0.275765  \n",
       "square_feet       0.707686  \n",
       "security_deposit  0.312777  \n",
       "cleaning_fee      0.420129  \n",
       "guests_included   0.189788  \n",
       "extra_people      0.063016  \n",
       "minimum_nights    0.021658  \n",
       "price             1.000000  "
      ]
     },
     "execution_count": 30,
     "metadata": {},
     "output_type": "execute_result"
    }
   ],
   "source": [
    "train.select_dtypes('number').corr()"
   ]
  },
  {
   "cell_type": "markdown",
   "id": "8529752a",
   "metadata": {},
   "source": [
    "Столбец host_id будет удален. Долгота и широта не коррелируют с другими признаками. У остальных признаков есть корреляция, что может быть использовано при заполнении пропущенных значений."
   ]
  },
  {
   "cell_type": "markdown",
   "id": "d4c8d025",
   "metadata": {},
   "source": [
    "## Categorical data"
   ]
  },
  {
   "cell_type": "code",
   "execution_count": 12,
   "id": "c00d3b31",
   "metadata": {},
   "outputs": [
    {
     "data": {
      "text/plain": [
       "name                      35455\n",
       "summary                   32893\n",
       "space                     21687\n",
       "description               34135\n",
       "experiences_offered           3\n",
       "neighborhood_overview     17577\n",
       "notes                     10687\n",
       "transit                   18230\n",
       "access                    14556\n",
       "interaction               13295\n",
       "house_rules               14211\n",
       "host_about                11623\n",
       "host_response_time            4\n",
       "host_response_rate           72\n",
       "host_is_superhost             2\n",
       "host_has_profile_pic          2\n",
       "host_identity_verified        2\n",
       "neighbourhood_cleansed       33\n",
       "zipcode                   18738\n",
       "property_type                37\n",
       "room_type                     3\n",
       "bed_type                      5\n",
       "amenities                 33174\n",
       "cancellation_policy           6\n",
       "dtype: int64"
      ]
     },
     "execution_count": 12,
     "metadata": {},
     "output_type": "execute_result"
    }
   ],
   "source": [
    "train.select_dtypes(include='object').nunique()"
   ]
  },
  {
   "cell_type": "code",
   "execution_count": 5,
   "id": "0fa17efc",
   "metadata": {
    "scrolled": true
   },
   "outputs": [
    {
     "data": {
      "text/plain": [
       "array(['none', 'business', 'romantic'], dtype=object)"
      ]
     },
     "execution_count": 5,
     "metadata": {},
     "output_type": "execute_result"
    }
   ],
   "source": [
    "train.experiences_offered.unique()"
   ]
  },
  {
   "cell_type": "markdown",
   "id": "bf220bb5",
   "metadata": {},
   "source": [
    "Преобразовать 'none' в NaN"
   ]
  },
  {
   "cell_type": "code",
   "execution_count": 8,
   "id": "b0f3ef4c",
   "metadata": {},
   "outputs": [
    {
     "data": {
      "text/plain": [
       "id\n",
       "20145777    I have a \"No shoe\" policy in the house. When m...\n",
       "22630537                                                  NaN\n",
       "27355619                                                  NaN\n",
       "21011236    The room is for a maximum of two people and on...\n",
       "24754494    House Rules 1. All bookings require a security...\n",
       "                                  ...                        \n",
       "18151315    - Quiet hours between 11pm and 6am please Stri...\n",
       "28105053    Please note the following rules are set to giv...\n",
       "26342100                             - Quiet hours 11pm - 6am\n",
       "13833612    - Please treat this flat (my home) as you woul...\n",
       "19640194                                                  NaN\n",
       "Name: house_rules, Length: 36270, dtype: object"
      ]
     },
     "execution_count": 8,
     "metadata": {},
     "output_type": "execute_result"
    }
   ],
   "source": [
    "train.house_rules"
   ]
  },
  {
   "cell_type": "code",
   "execution_count": 13,
   "id": "b6f830d4",
   "metadata": {
    "scrolled": true
   },
   "outputs": [
    {
     "data": {
      "text/plain": [
       "id\n",
       "20145777                                                  NaN\n",
       "22630537                                                  NaN\n",
       "27355619                                                  NaN\n",
       "21011236    My name's Matt and I live in the house with my...\n",
       "24754494    Sonder provides everything you need for an exc...\n",
       "                                  ...                        \n",
       "18151315    Myself and my husband are professional people....\n",
       "28105053                                                  NaN\n",
       "26342100                                                  NaN\n",
       "13833612    Hi there, my name is Sybille. I think my flat ...\n",
       "19640194    \"Made it with Passion - Treat it with Care\" - ...\n",
       "Name: host_about, Length: 36270, dtype: object"
      ]
     },
     "execution_count": 13,
     "metadata": {},
     "output_type": "execute_result"
    }
   ],
   "source": [
    "train.host_about"
   ]
  },
  {
   "cell_type": "code",
   "execution_count": 4,
   "id": "ae3552dc",
   "metadata": {},
   "outputs": [
    {
     "data": {
      "text/plain": [
       "id\n",
       "20145777             Apartment\n",
       "22630537             Apartment\n",
       "27355619    Serviced apartment\n",
       "21011236             Townhouse\n",
       "24754494             Apartment\n",
       "                   ...        \n",
       "18151315             Apartment\n",
       "28105053             Apartment\n",
       "26342100             Apartment\n",
       "13833612             Apartment\n",
       "19640194             Townhouse\n",
       "Name: property_type, Length: 36270, dtype: object"
      ]
     },
     "execution_count": 4,
     "metadata": {},
     "output_type": "execute_result"
    }
   ],
   "source": [
    "train.property_type"
   ]
  },
  {
   "cell_type": "markdown",
   "id": "48fd5ba5",
   "metadata": {},
   "source": [
    "Нужно преобразовать в число:"
   ]
  },
  {
   "cell_type": "code",
   "execution_count": 15,
   "id": "24b16570",
   "metadata": {},
   "outputs": [
    {
     "data": {
      "text/plain": [
       "id\n",
       "20145777     NaN\n",
       "22630537     40%\n",
       "27355619    100%\n",
       "21011236     NaN\n",
       "24754494     98%\n",
       "            ... \n",
       "18151315    100%\n",
       "28105053    100%\n",
       "26342100     NaN\n",
       "13833612    100%\n",
       "19640194    100%\n",
       "Name: host_response_rate, Length: 36270, dtype: object"
      ]
     },
     "execution_count": 15,
     "metadata": {},
     "output_type": "execute_result"
    }
   ],
   "source": [
    "train.host_response_rate"
   ]
  },
  {
   "cell_type": "markdown",
   "id": "77250021",
   "metadata": {},
   "source": [
    "Можно поменять тип на bool у следущих колонок, хотя это и не обязательно."
   ]
  },
  {
   "cell_type": "code",
   "execution_count": 17,
   "id": "4a0e2f61",
   "metadata": {
    "scrolled": true
   },
   "outputs": [
    {
     "data": {
      "text/plain": [
       "id\n",
       "20145777    False\n",
       "22630537    False\n",
       "27355619     True\n",
       "21011236    False\n",
       "24754494    False\n",
       "            ...  \n",
       "18151315    False\n",
       "28105053    False\n",
       "26342100    False\n",
       "13833612    False\n",
       "19640194    False\n",
       "Name: host_is_superhost, Length: 36270, dtype: object"
      ]
     },
     "execution_count": 17,
     "metadata": {},
     "output_type": "execute_result"
    }
   ],
   "source": [
    "train.host_is_superhost"
   ]
  },
  {
   "cell_type": "code",
   "execution_count": 19,
   "id": "9ed645c5",
   "metadata": {},
   "outputs": [
    {
     "data": {
      "text/plain": [
       "id\n",
       "20145777    True\n",
       "22630537    True\n",
       "27355619    True\n",
       "21011236    True\n",
       "24754494    True\n",
       "            ... \n",
       "18151315    True\n",
       "28105053    True\n",
       "26342100    True\n",
       "13833612    True\n",
       "19640194    True\n",
       "Name: host_has_profile_pic, Length: 36270, dtype: object"
      ]
     },
     "execution_count": 19,
     "metadata": {},
     "output_type": "execute_result"
    }
   ],
   "source": [
    "train.host_has_profile_pic"
   ]
  },
  {
   "cell_type": "code",
   "execution_count": 20,
   "id": "242293b5",
   "metadata": {},
   "outputs": [
    {
     "data": {
      "text/plain": [
       "id\n",
       "20145777    False\n",
       "22630537    False\n",
       "27355619    False\n",
       "21011236    False\n",
       "24754494    False\n",
       "            ...  \n",
       "18151315     True\n",
       "28105053     True\n",
       "26342100    False\n",
       "13833612     True\n",
       "19640194    False\n",
       "Name: host_identity_verified, Length: 36270, dtype: object"
      ]
     },
     "execution_count": 20,
     "metadata": {},
     "output_type": "execute_result"
    }
   ],
   "source": [
    "train.host_identity_verified"
   ]
  },
  {
   "cell_type": "markdown",
   "id": "255abc70",
   "metadata": {},
   "source": [
    "Почтовый индекс можно удалить, т.к. есть долгота и широта."
   ]
  },
  {
   "cell_type": "code",
   "execution_count": 21,
   "id": "606ea61c",
   "metadata": {
    "scrolled": true
   },
   "outputs": [
    {
     "data": {
      "text/plain": [
       "id\n",
       "20145777                   Hackney\n",
       "22630537                Wandsworth\n",
       "27355619                 Islington\n",
       "21011236    Hammersmith and Fulham\n",
       "24754494               Westminster\n",
       "                     ...          \n",
       "18151315                   Lambeth\n",
       "28105053                   Hackney\n",
       "26342100                   Lambeth\n",
       "13833612             Tower Hamlets\n",
       "19640194                    Merton\n",
       "Name: neighbourhood_cleansed, Length: 36270, dtype: object"
      ]
     },
     "execution_count": 21,
     "metadata": {},
     "output_type": "execute_result"
    }
   ],
   "source": [
    "train.neighbourhood_cleansed"
   ]
  },
  {
   "cell_type": "code",
   "execution_count": 23,
   "id": "042f7023",
   "metadata": {},
   "outputs": [
    {
     "data": {
      "text/plain": [
       "id\n",
       "20145777    {TV,Wifi,Kitchen,\"Buzzer/wireless intercom\",He...\n",
       "22630537    {TV,\"Cable TV\",Wifi,Kitchen,\"Pets allowed\",Bre...\n",
       "27355619    {TV,Wifi,Kitchen,Elevator,Heating,Washer,Dryer...\n",
       "21011236    {TV,Wifi,Kitchen,\"Paid parking off premises\",B...\n",
       "24754494    {TV,\"Cable TV\",Wifi,Kitchen,Heating,Washer,Dry...\n",
       "                                  ...                        \n",
       "18151315    {Wifi,Kitchen,Breakfast,\"Free street parking\",...\n",
       "28105053    {\"Cable TV\",Wifi,Kitchen,\"Paid parking off pre...\n",
       "26342100    {TV,Wifi,Kitchen,\"Paid parking off premises\",E...\n",
       "13833612    {TV,Internet,Wifi,\"Wheelchair accessible\",Kitc...\n",
       "19640194    {TV,Wifi,Kitchen,\"Free parking on premises\",He...\n",
       "Name: amenities, Length: 36270, dtype: object"
      ]
     },
     "execution_count": 23,
     "metadata": {},
     "output_type": "execute_result"
    }
   ],
   "source": [
    "train.amenities"
   ]
  },
  {
   "cell_type": "code",
   "execution_count": 25,
   "id": "d8352276",
   "metadata": {},
   "outputs": [
    {
     "data": {
      "text/plain": [
       "count    36270.000000\n",
       "mean       270.361566\n",
       "std        148.398118\n",
       "min          2.000000\n",
       "25%        169.000000\n",
       "50%        239.000000\n",
       "75%        339.000000\n",
       "max       1652.000000\n",
       "Name: amenities, dtype: float64"
      ]
     },
     "execution_count": 25,
     "metadata": {},
     "output_type": "execute_result"
    }
   ],
   "source": [
    "train.amenities.apply(len).describe()"
   ]
  },
  {
   "cell_type": "code",
   "execution_count": 26,
   "id": "58322751",
   "metadata": {},
   "outputs": [
    {
     "data": {
      "text/plain": [
       "0"
      ]
     },
     "execution_count": 26,
     "metadata": {},
     "output_type": "execute_result"
    }
   ],
   "source": [
    "train.amenities.isna().sum()"
   ]
  },
  {
   "cell_type": "markdown",
   "id": "c06b6bf2",
   "metadata": {},
   "source": [
    "Списки удобств очень большие. Можно оставить только количество, либо попытаться выбрать наиболее важные. В этой версии ограничимся числом."
   ]
  },
  {
   "cell_type": "markdown",
   "id": "8ec24c02",
   "metadata": {},
   "source": [
    "Общий подход к категориальным признакам: оставляю все значения, если их немного (<10). Если много, то только две категории: есть данные или нет данных."
   ]
  },
  {
   "cell_type": "markdown",
   "id": "2527a19c",
   "metadata": {},
   "source": [
    "Оставлять ли название района (33 варианта) и тип объекта (37 вариантов)? Информация может влиять на цену, но число признаков и так довольно большое. Кроме того, информация о районе уже есть в географических координатах. С другой стороны название района может иметь значение, даже при близких координатах. Решить при обучении."
   ]
  },
  {
   "cell_type": "code",
   "execution_count": 28,
   "id": "b2dea5e9",
   "metadata": {},
   "outputs": [
    {
     "data": {
      "text/plain": [
       "0"
      ]
     },
     "execution_count": 28,
     "metadata": {},
     "output_type": "execute_result"
    }
   ],
   "source": [
    "train.latitude.isna().sum()"
   ]
  },
  {
   "cell_type": "code",
   "execution_count": 29,
   "id": "91424a6d",
   "metadata": {},
   "outputs": [
    {
     "data": {
      "text/plain": [
       "0"
      ]
     },
     "execution_count": 29,
     "metadata": {},
     "output_type": "execute_result"
    }
   ],
   "source": [
    "train.longitude.isna().sum()"
   ]
  }
 ],
 "metadata": {
  "kernelspec": {
   "display_name": "Python 3 (ipykernel)",
   "language": "python",
   "name": "python3"
  },
  "language_info": {
   "codemirror_mode": {
    "name": "ipython",
    "version": 3
   },
   "file_extension": ".py",
   "mimetype": "text/x-python",
   "name": "python",
   "nbconvert_exporter": "python",
   "pygments_lexer": "ipython3",
   "version": "3.9.12"
  }
 },
 "nbformat": 4,
 "nbformat_minor": 5
}
