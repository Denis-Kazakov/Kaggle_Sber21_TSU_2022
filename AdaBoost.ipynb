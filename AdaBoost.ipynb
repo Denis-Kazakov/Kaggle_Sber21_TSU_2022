{
 "cells": [
  {
   "cell_type": "markdown",
   "id": "b3b5e9ac",
   "metadata": {},
   "source": [
    "AdaBoost отменил, т.к. обучался очень долго даже без кросс-валидации"
   ]
  },
  {
   "cell_type": "code",
   "execution_count": 6,
   "id": "25b98f3a",
   "metadata": {},
   "outputs": [],
   "source": [
    "from sklearn.ensemble import AdaBoostRegressor"
   ]
  },
  {
   "cell_type": "code",
   "execution_count": 7,
   "id": "7c69b7f1",
   "metadata": {},
   "outputs": [],
   "source": [
    "base_estimator = DecisionTreeRegressor(max_depth=10,\n",
    "                                       max_features=None,\n",
    "                                       criterion='absolute_error',\n",
    "                                       random_state=8)\n",
    "ada_0 = AdaBoostRegressor(base_estimator=base_estimator,\n",
    "                              loss='linear',\n",
    "                              random_state=8) "
   ]
  },
  {
   "cell_type": "code",
   "execution_count": null,
   "id": "f759e77b",
   "metadata": {
    "scrolled": true
   },
   "outputs": [],
   "source": [
    "%%time\n",
    "%%chime\n",
    "ada_0.fit(X_train_transf, y_train)"
   ]
  },
  {
   "cell_type": "code",
   "execution_count": null,
   "id": "1ec67c50",
   "metadata": {},
   "outputs": [],
   "source": []
  }
 ],
 "metadata": {
  "kernelspec": {
   "display_name": "Python 3 (ipykernel)",
   "language": "python",
   "name": "python3"
  },
  "language_info": {
   "codemirror_mode": {
    "name": "ipython",
    "version": 3
   },
   "file_extension": ".py",
   "mimetype": "text/x-python",
   "name": "python",
   "nbconvert_exporter": "python",
   "pygments_lexer": "ipython3",
   "version": "3.9.12"
  }
 },
 "nbformat": 4,
 "nbformat_minor": 5
}
